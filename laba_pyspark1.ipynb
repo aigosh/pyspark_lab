{
 "cells": [
  {
   "cell_type": "markdown",
   "metadata": {},
   "source": [
    "# Лабораторная работа 2\n",
    "Выполнили: Елизарова Юлия, Игошин Андрей, Кипаренко Илья, Кириленко Юлия, Клыков Вячеслав, Лепигина Анастасия"
   ]
  },
  {
   "cell_type": "code",
   "execution_count": 1,
   "metadata": {},
   "outputs": [],
   "source": [
    "from pyspark.sql import SparkSession\n",
    "from pyspark.ml.recommendation import ALS\n",
    "from pyspark.ml.evaluation import RegressionEvaluator\n",
    "from pyspark.ml.feature import OneHotEncoder\n",
    "from pyspark.ml.feature import StringIndexer\n",
    "from pyspark.ml.feature import MinMaxScaler"
   ]
  },
  {
   "cell_type": "code",
   "execution_count": 2,
   "metadata": {},
   "outputs": [],
   "source": [
    "import sparkmonitor\n",
    "##!jupyter nbextension install sparkmonitor --py --user --symlink \n",
    "#!jupyter nbextension enable sparkmonitor --py --user            \n",
    "#!jupyter serverextension enable --py --user sparkmonitor\n",
    "#!ipython profile create && echo \"c.InteractiveShellApp.extensions.append('sparkmonitor.kernelextension')\" >>  $(ipython profile locate default)/ipython_kernel_config.py"
   ]
  },
  {
   "cell_type": "code",
   "execution_count": 3,
   "metadata": {},
   "outputs": [],
   "source": [
    "conf.setAppName('ExtensionTestingApp')\n",
    "conf.setMaster('local[*]')\n",
    "from pyspark import SparkContext\n",
    "sc=SparkContext.getOrCreate(conf=conf) #Start the spark context"
   ]
  },
  {
   "cell_type": "code",
   "execution_count": 4,
   "metadata": {},
   "outputs": [],
   "source": [
    "spark = SparkSession.builder.appName('MovieRatingsProject').getOrCreate()"
   ]
  },
  {
   "cell_type": "code",
   "execution_count": 5,
   "metadata": {},
   "outputs": [
    {
     "name": "stdout",
     "output_type": "stream",
     "text": [
      "+--------------+\n",
      "|           _c0|\n",
      "+--------------+\n",
      "|     943 users|\n",
      "|    1682 items|\n",
      "|100000 ratings|\n",
      "+--------------+\n",
      "\n"
     ]
    }
   ],
   "source": [
    "info = spark.read.csv('ml-100k/u.info',inferSchema=True,sep='\\t')\n",
    "info.show()"
   ]
  },
  {
   "cell_type": "code",
   "execution_count": 6,
   "metadata": {},
   "outputs": [],
   "source": [
    "from pyspark.sql.functions import from_unixtime, year"
   ]
  },
  {
   "cell_type": "markdown",
   "metadata": {},
   "source": [
    "Датасет содержит 100 000 оценок 934 пользователями 1682 фильмов. Каждый пользователь оценил не менее 20 фильмов."
   ]
  },
  {
   "cell_type": "code",
   "execution_count": 7,
   "metadata": {},
   "outputs": [],
   "source": [
    "ratings = spark.read.csv('ml-100k/u.data',inferSchema=True,sep='\\t')\n",
    "ratings = ratings.withColumnRenamed('_c0','user_id').withColumnRenamed('_c1','movie_id').withColumnRenamed('_c2','rating').withColumnRenamed('_c3','timestamp')\n",
    "# ratings.show()"
   ]
  },
  {
   "cell_type": "code",
   "execution_count": 8,
   "metadata": {},
   "outputs": [],
   "source": [
    "ratings = ratings.withColumn('year_rated', year(from_unixtime('timestamp')))"
   ]
  },
  {
   "cell_type": "code",
   "execution_count": 9,
   "metadata": {},
   "outputs": [
    {
     "name": "stdout",
     "output_type": "stream",
     "text": [
      "+-------+--------+------+---------+----------+\n",
      "|user_id|movie_id|rating|timestamp|year_rated|\n",
      "+-------+--------+------+---------+----------+\n",
      "|    196|     242|     3|881250949|      1997|\n",
      "|    186|     302|     3|891717742|      1998|\n",
      "|     22|     377|     1|878887116|      1997|\n",
      "|    244|      51|     2|880606923|      1997|\n",
      "|    166|     346|     1|886397596|      1998|\n",
      "|    298|     474|     4|884182806|      1998|\n",
      "|    115|     265|     2|881171488|      1997|\n",
      "|    253|     465|     5|891628467|      1998|\n",
      "|    305|     451|     3|886324817|      1998|\n",
      "|      6|      86|     3|883603013|      1998|\n",
      "|     62|     257|     2|879372434|      1997|\n",
      "|    286|    1014|     5|879781125|      1997|\n",
      "|    200|     222|     5|876042340|      1997|\n",
      "|    210|      40|     3|891035994|      1998|\n",
      "|    224|      29|     3|888104457|      1998|\n",
      "|    303|     785|     3|879485318|      1997|\n",
      "|    122|     387|     5|879270459|      1997|\n",
      "|    194|     274|     2|879539794|      1997|\n",
      "|    291|    1042|     4|874834944|      1997|\n",
      "|    234|    1184|     2|892079237|      1998|\n",
      "+-------+--------+------+---------+----------+\n",
      "only showing top 20 rows\n",
      "\n"
     ]
    }
   ],
   "source": [
    "ratings.show()"
   ]
  },
  {
   "cell_type": "markdown",
   "metadata": {},
   "source": [
    "Информация о каждом фильме включает в себя название, даты выхода в прокат и появления в магазинах, ссылку на IMDB и жанр. Причем один фильм может быть отнесен к нескольким жанрам. "
   ]
  },
  {
   "cell_type": "code",
   "execution_count": 10,
   "metadata": {},
   "outputs": [],
   "source": [
    "movies = spark.read.csv('ml-100k/u.item', inferSchema=True, sep='|')\n",
    "names = ['movie_id', 'movie_title', 'release_date', 'video_release_date', 'IMDb_URL', 'unknown', 'Action', 'Adventure', 'Animation', \"Children's\", 'Comedy', 'Crime', 'Documentary', 'Drama', 'Fantasy', 'Film-Noir', 'Horror', 'Musical', 'Mystery', 'Romance', 'Sci-Fi', 'Thriller', 'War', 'Western']\n",
    "for i in range(len(names)):\n",
    "    movies = movies.withColumnRenamed('_c'+str(i), names[i])\n"
   ]
  },
  {
   "cell_type": "code",
   "execution_count": 11,
   "metadata": {},
   "outputs": [],
   "source": [
    "from pyspark.sql.functions import to_date"
   ]
  },
  {
   "cell_type": "code",
   "execution_count": 12,
   "metadata": {},
   "outputs": [],
   "source": [
    "movies = movies.withColumn('year_released', year(to_date('release_date', 'dd-MMM-yyyy')))"
   ]
  },
  {
   "cell_type": "code",
   "execution_count": 13,
   "metadata": {},
   "outputs": [
    {
     "name": "stdout",
     "output_type": "stream",
     "text": [
      "+--------+--------------------+------------+------------------+--------------------+-------+------+---------+---------+----------+------+-----+-----------+-----+-------+---------+------+-------+-------+-------+------+--------+---+-------+-------------+\n",
      "|movie_id|         movie_title|release_date|video_release_date|            IMDb_URL|unknown|Action|Adventure|Animation|Children's|Comedy|Crime|Documentary|Drama|Fantasy|Film-Noir|Horror|Musical|Mystery|Romance|Sci-Fi|Thriller|War|Western|year_released|\n",
      "+--------+--------------------+------------+------------------+--------------------+-------+------+---------+---------+----------+------+-----+-----------+-----+-------+---------+------+-------+-------+-------+------+--------+---+-------+-------------+\n",
      "|       1|    Toy Story (1995)| 01-Jan-1995|              null|http://us.imdb.co...|      0|     0|        0|        1|         1|     1|    0|          0|    0|      0|        0|     0|      0|      0|      0|     0|       0|  0|      0|         1995|\n",
      "|       2|    GoldenEye (1995)| 01-Jan-1995|              null|http://us.imdb.co...|      0|     1|        1|        0|         0|     0|    0|          0|    0|      0|        0|     0|      0|      0|      0|     0|       1|  0|      0|         1995|\n",
      "|       3|   Four Rooms (1995)| 01-Jan-1995|              null|http://us.imdb.co...|      0|     0|        0|        0|         0|     0|    0|          0|    0|      0|        0|     0|      0|      0|      0|     0|       1|  0|      0|         1995|\n",
      "|       4|   Get Shorty (1995)| 01-Jan-1995|              null|http://us.imdb.co...|      0|     1|        0|        0|         0|     1|    0|          0|    1|      0|        0|     0|      0|      0|      0|     0|       0|  0|      0|         1995|\n",
      "|       5|      Copycat (1995)| 01-Jan-1995|              null|http://us.imdb.co...|      0|     0|        0|        0|         0|     0|    1|          0|    1|      0|        0|     0|      0|      0|      0|     0|       1|  0|      0|         1995|\n",
      "|       6|Shanghai Triad (Y...| 01-Jan-1995|              null|http://us.imdb.co...|      0|     0|        0|        0|         0|     0|    0|          0|    1|      0|        0|     0|      0|      0|      0|     0|       0|  0|      0|         1995|\n",
      "|       7|Twelve Monkeys (1...| 01-Jan-1995|              null|http://us.imdb.co...|      0|     0|        0|        0|         0|     0|    0|          0|    1|      0|        0|     0|      0|      0|      0|     1|       0|  0|      0|         1995|\n",
      "|       8|         Babe (1995)| 01-Jan-1995|              null|http://us.imdb.co...|      0|     0|        0|        0|         1|     1|    0|          0|    1|      0|        0|     0|      0|      0|      0|     0|       0|  0|      0|         1995|\n",
      "|       9|Dead Man Walking ...| 01-Jan-1995|              null|http://us.imdb.co...|      0|     0|        0|        0|         0|     0|    0|          0|    1|      0|        0|     0|      0|      0|      0|     0|       0|  0|      0|         1995|\n",
      "|      10|  Richard III (1995)| 22-Jan-1996|              null|http://us.imdb.co...|      0|     0|        0|        0|         0|     0|    0|          0|    1|      0|        0|     0|      0|      0|      0|     0|       0|  1|      0|         1996|\n",
      "|      11|Seven (Se7en) (1995)| 01-Jan-1995|              null|http://us.imdb.co...|      0|     0|        0|        0|         0|     0|    1|          0|    0|      0|        0|     0|      0|      0|      0|     0|       1|  0|      0|         1995|\n",
      "|      12|Usual Suspects, T...| 14-Aug-1995|              null|http://us.imdb.co...|      0|     0|        0|        0|         0|     0|    1|          0|    0|      0|        0|     0|      0|      0|      0|     0|       1|  0|      0|         1995|\n",
      "|      13|Mighty Aphrodite ...| 30-Oct-1995|              null|http://us.imdb.co...|      0|     0|        0|        0|         0|     1|    0|          0|    0|      0|        0|     0|      0|      0|      0|     0|       0|  0|      0|         1995|\n",
      "|      14|  Postino, Il (1994)| 01-Jan-1994|              null|http://us.imdb.co...|      0|     0|        0|        0|         0|     0|    0|          0|    1|      0|        0|     0|      0|      0|      1|     0|       0|  0|      0|         1994|\n",
      "|      15|Mr. Holland's Opu...| 29-Jan-1996|              null|http://us.imdb.co...|      0|     0|        0|        0|         0|     0|    0|          0|    1|      0|        0|     0|      0|      0|      0|     0|       0|  0|      0|         1996|\n",
      "|      16|French Twist (Gaz...| 01-Jan-1995|              null|http://us.imdb.co...|      0|     0|        0|        0|         0|     1|    0|          0|    0|      0|        0|     0|      0|      0|      1|     0|       0|  0|      0|         1995|\n",
      "|      17|From Dusk Till Da...| 05-Feb-1996|              null|http://us.imdb.co...|      0|     1|        0|        0|         0|     1|    1|          0|    0|      0|        0|     1|      0|      0|      0|     0|       1|  0|      0|         1996|\n",
      "|      18|White Balloon, Th...| 01-Jan-1995|              null|http://us.imdb.co...|      0|     0|        0|        0|         0|     0|    0|          0|    1|      0|        0|     0|      0|      0|      0|     0|       0|  0|      0|         1995|\n",
      "|      19|Antonia's Line (1...| 01-Jan-1995|              null|http://us.imdb.co...|      0|     0|        0|        0|         0|     0|    0|          0|    1|      0|        0|     0|      0|      0|      0|     0|       0|  0|      0|         1995|\n",
      "|      20|Angels and Insect...| 01-Jan-1995|              null|http://us.imdb.co...|      0|     0|        0|        0|         0|     0|    0|          0|    1|      0|        0|     0|      0|      0|      1|     0|       0|  0|      0|         1995|\n",
      "+--------+--------------------+------------+------------------+--------------------+-------+------+---------+---------+----------+------+-----+-----------+-----+-------+---------+------+-------+-------+-------+------+--------+---+-------+-------------+\n",
      "only showing top 20 rows\n",
      "\n"
     ]
    }
   ],
   "source": [
    "movies.show()"
   ]
  },
  {
   "cell_type": "markdown",
   "metadata": {},
   "source": [
    "Информация о каждом пользователе включает в себя возраст, пол, профессию и почтовый индекс."
   ]
  },
  {
   "cell_type": "code",
   "execution_count": 14,
   "metadata": {
    "scrolled": true
   },
   "outputs": [
    {
     "name": "stdout",
     "output_type": "stream",
     "text": [
      "+-------+---+------+-------------+--------+\n",
      "|user_id|age|gender|   occupation|zip_code|\n",
      "+-------+---+------+-------------+--------+\n",
      "|      1| 24|     M|   technician|   85711|\n",
      "|      2| 53|     F|        other|   94043|\n",
      "|      3| 23|     M|       writer|   32067|\n",
      "|      4| 24|     M|   technician|   43537|\n",
      "|      5| 33|     F|        other|   15213|\n",
      "|      6| 42|     M|    executive|   98101|\n",
      "|      7| 57|     M|administrator|   91344|\n",
      "|      8| 36|     M|administrator|   05201|\n",
      "|      9| 29|     M|      student|   01002|\n",
      "|     10| 53|     M|       lawyer|   90703|\n",
      "|     11| 39|     F|        other|   30329|\n",
      "|     12| 28|     F|        other|   06405|\n",
      "|     13| 47|     M|     educator|   29206|\n",
      "|     14| 45|     M|    scientist|   55106|\n",
      "|     15| 49|     F|     educator|   97301|\n",
      "|     16| 21|     M|entertainment|   10309|\n",
      "|     17| 30|     M|   programmer|   06355|\n",
      "|     18| 35|     F|        other|   37212|\n",
      "|     19| 40|     M|    librarian|   02138|\n",
      "|     20| 42|     F|    homemaker|   95660|\n",
      "+-------+---+------+-------------+--------+\n",
      "only showing top 20 rows\n",
      "\n"
     ]
    }
   ],
   "source": [
    "users = spark.read.csv('ml-100k/u.user', inferSchema=True, sep='|')\n",
    "names = ['user_id', 'age', 'gender', 'occupation', 'zip_code']\n",
    "for i in range(len(names)):\n",
    "    users = users.withColumnRenamed('_c'+str(i), names[i])\n",
    "users.show()"
   ]
  },
  {
   "cell_type": "code",
   "execution_count": 15,
   "metadata": {},
   "outputs": [],
   "source": [
    "stringIndexer = StringIndexer(inputCol=\"gender\", outputCol=\"indexed_gender\", handleInvalid='error')\n",
    "model = stringIndexer.fit(users)\n",
    "users = model.transform(users)\n",
    "encoder = OneHotEncoder(inputCol=\"indexed_gender\", outputCol='gender_feature')\n",
    "users = encoder.transform(users)\n",
    "\n",
    "stringIndexer = StringIndexer(inputCol=\"occupation\", outputCol=\"indexed_occupation\", handleInvalid='error')\n",
    "model = stringIndexer.fit(users)\n",
    "users = model.transform(users)\n",
    "encoder = OneHotEncoder(inputCol=\"indexed_occupation\", outputCol='occupation_feature')\n",
    "users = encoder.transform(users)"
   ]
  },
  {
   "cell_type": "code",
   "execution_count": 16,
   "metadata": {},
   "outputs": [
    {
     "name": "stdout",
     "output_type": "stream",
     "text": [
      "+-------+---+------+-------------+--------+--------------+--------------+------------------+------------------+\n",
      "|user_id|age|gender|   occupation|zip_code|indexed_gender|gender_feature|indexed_occupation|occupation_feature|\n",
      "+-------+---+------+-------------+--------+--------------+--------------+------------------+------------------+\n",
      "|      1| 24|     M|   technician|   85711|           0.0| (1,[0],[1.0])|              11.0|   (20,[11],[1.0])|\n",
      "|      2| 53|     F|        other|   94043|           1.0|     (1,[],[])|               1.0|    (20,[1],[1.0])|\n",
      "|      3| 23|     M|       writer|   32067|           0.0| (1,[0],[1.0])|               7.0|    (20,[7],[1.0])|\n",
      "|      4| 24|     M|   technician|   43537|           0.0| (1,[0],[1.0])|              11.0|   (20,[11],[1.0])|\n",
      "|      5| 33|     F|        other|   15213|           1.0|     (1,[],[])|               1.0|    (20,[1],[1.0])|\n",
      "|      6| 42|     M|    executive|   98101|           0.0| (1,[0],[1.0])|               8.0|    (20,[8],[1.0])|\n",
      "|      7| 57|     M|administrator|   91344|           0.0| (1,[0],[1.0])|               3.0|    (20,[3],[1.0])|\n",
      "|      8| 36|     M|administrator|   05201|           0.0| (1,[0],[1.0])|               3.0|    (20,[3],[1.0])|\n",
      "|      9| 29|     M|      student|   01002|           0.0| (1,[0],[1.0])|               0.0|    (20,[0],[1.0])|\n",
      "|     10| 53|     M|       lawyer|   90703|           0.0| (1,[0],[1.0])|              17.0|   (20,[17],[1.0])|\n",
      "|     11| 39|     F|        other|   30329|           1.0|     (1,[],[])|               1.0|    (20,[1],[1.0])|\n",
      "|     12| 28|     F|        other|   06405|           1.0|     (1,[],[])|               1.0|    (20,[1],[1.0])|\n",
      "|     13| 47|     M|     educator|   29206|           0.0| (1,[0],[1.0])|               2.0|    (20,[2],[1.0])|\n",
      "|     14| 45|     M|    scientist|   55106|           0.0| (1,[0],[1.0])|               9.0|    (20,[9],[1.0])|\n",
      "|     15| 49|     F|     educator|   97301|           1.0|     (1,[],[])|               2.0|    (20,[2],[1.0])|\n",
      "|     16| 21|     M|entertainment|   10309|           0.0| (1,[0],[1.0])|              13.0|   (20,[13],[1.0])|\n",
      "|     17| 30|     M|   programmer|   06355|           0.0| (1,[0],[1.0])|               5.0|    (20,[5],[1.0])|\n",
      "|     18| 35|     F|        other|   37212|           1.0|     (1,[],[])|               1.0|    (20,[1],[1.0])|\n",
      "|     19| 40|     M|    librarian|   02138|           0.0| (1,[0],[1.0])|               6.0|    (20,[6],[1.0])|\n",
      "|     20| 42|     F|    homemaker|   95660|           1.0|     (1,[],[])|              20.0|        (20,[],[])|\n",
      "+-------+---+------+-------------+--------+--------------+--------------+------------------+------------------+\n",
      "only showing top 20 rows\n",
      "\n"
     ]
    }
   ],
   "source": [
    "users.show()"
   ]
  },
  {
   "cell_type": "code",
   "execution_count": 17,
   "metadata": {},
   "outputs": [],
   "source": [
    "genres = ['unknown', 'Action', 'Adventure', 'Animation', \"Children's\", 'Comedy', 'Crime', 'Documentary', 'Drama', 'Fantasy', 'Film-Noir', 'Horror', 'Musical', 'Mystery', 'Romance', 'Sci-Fi', 'Thriller', 'War', 'Western']"
   ]
  },
  {
   "cell_type": "markdown",
   "metadata": {},
   "source": [
    "Для получения целостного датасета было принято решение собрать датафреймы с оценками и информацией о фильмах и пользователях в один."
   ]
  },
  {
   "cell_type": "code",
   "execution_count": 18,
   "metadata": {
    "scrolled": true
   },
   "outputs": [],
   "source": [
    "joined_df = ratings.join(users, [\"user_id\"], 'outer').drop('zip_code', 'timestamp')\n",
    "joined_df = joined_df.join(movies, [\"movie_id\"], 'outer').drop('movie_title', 'release_date', 'video_release_date', 'IMDb_URL')"
   ]
  },
  {
   "cell_type": "code",
   "execution_count": 19,
   "metadata": {},
   "outputs": [],
   "source": [
    "from pyspark.sql.functions import when"
   ]
  },
  {
   "cell_type": "code",
   "execution_count": 20,
   "metadata": {},
   "outputs": [],
   "source": [
    "joined_df = joined_df.withColumn('rated_released_year_diff', when(joined_df.year_rated - joined_df.year_released > 0, joined_df.year_rated - joined_df.year_released ).otherwise(0))"
   ]
  },
  {
   "cell_type": "code",
   "execution_count": 22,
   "metadata": {},
   "outputs": [
    {
     "name": "stdout",
     "output_type": "stream",
     "text": [
      "+--------+-------+------+----------+---+------+----------+--------------+--------------+------------------+------------------+-------+------+---------+---------+----------+------+-----+-----------+-----+-------+---------+------+-------+-------+-------+------+--------+---+-------+-------------+------------------------+\n",
      "|movie_id|user_id|rating|year_rated|age|gender|occupation|indexed_gender|gender_feature|indexed_occupation|occupation_feature|unknown|Action|Adventure|Animation|Children's|Comedy|Crime|Documentary|Drama|Fantasy|Film-Noir|Horror|Musical|Mystery|Romance|Sci-Fi|Thriller|War|Western|year_released|rated_released_year_diff|\n",
      "+--------+-------+------+----------+---+------+----------+--------------+--------------+------------------+------------------+-------+------+---------+---------+----------+------+-----+-----------+-----+-------+---------+------+-------+-------+-------+------+--------+---+-------+-------------+------------------------+\n",
      "|     148|    251|     2|      1998| 28|     M|    doctor|           0.0| (1,[0],[1.0])|              19.0|   (20,[19],[1.0])|      0|     1|        1|        0|         0|     0|    0|          0|    0|      0|        0|     0|      0|      0|      0|     0|       0|  0|      0|         1996|                       2|\n",
      "|     148|    580|     4|      1998| 16|     M|   student|           0.0| (1,[0],[1.0])|               0.0|    (20,[0],[1.0])|      0|     1|        1|        0|         0|     0|    0|          0|    0|      0|        0|     0|      0|      0|      0|     0|       0|  0|      0|         1996|                       2|\n",
      "|     148|    633|     1|      1997| 35|     M|programmer|           0.0| (1,[0],[1.0])|               5.0|    (20,[5],[1.0])|      0|     1|        1|        0|         0|     0|    0|          0|    0|      0|        0|     0|      0|      0|      0|     0|       0|  0|      0|         1996|                       1|\n",
      "|     148|    642|     5|      1998| 18|     F|   student|           1.0|     (1,[],[])|               0.0|    (20,[0],[1.0])|      0|     1|        1|        0|         0|     0|    0|          0|    0|      0|        0|     0|      0|      0|      0|     0|       0|  0|      0|         1996|                       2|\n",
      "|     148|    406|     3|      1997| 52|     M|  educator|           0.0| (1,[0],[1.0])|               2.0|    (20,[2],[1.0])|      0|     1|        1|        0|         0|     0|    0|          0|    0|      0|        0|     0|      0|      0|      0|     0|       0|  0|      0|         1996|                       1|\n",
      "|     148|     26|     3|      1998| 49|     M|  engineer|           0.0| (1,[0],[1.0])|               4.0|    (20,[4],[1.0])|      0|     1|        1|        0|         0|     0|    0|          0|    0|      0|        0|     0|      0|      0|      0|     0|       0|  0|      0|         1996|                       2|\n",
      "|     148|     27|     3|      1998| 40|     F| librarian|           1.0|     (1,[],[])|               6.0|    (20,[6],[1.0])|      0|     1|        1|        0|         0|     0|    0|          0|    0|      0|        0|     0|      0|      0|      0|     0|       0|  0|      0|         1996|                       2|\n",
      "|     148|    332|     5|      1998| 20|     M|   student|           0.0| (1,[0],[1.0])|               0.0|    (20,[0],[1.0])|      0|     1|        1|        0|         0|     0|    0|          0|    0|      0|        0|     0|      0|      0|      0|     0|       0|  0|      0|         1996|                       2|\n",
      "|     148|     44|     4|      1997| 26|     M|technician|           0.0| (1,[0],[1.0])|              11.0|   (20,[11],[1.0])|      0|     1|        1|        0|         0|     0|    0|          0|    0|      0|        0|     0|      0|      0|      0|     0|       0|  0|      0|         1996|                       1|\n",
      "|     148|    271|     3|      1998| 51|     M|  engineer|           0.0| (1,[0],[1.0])|               4.0|    (20,[4],[1.0])|      0|     1|        1|        0|         0|     0|    0|          0|    0|      0|        0|     0|      0|      0|      0|     0|       0|  0|      0|         1996|                       2|\n",
      "+--------+-------+------+----------+---+------+----------+--------------+--------------+------------------+------------------+-------+------+---------+---------+----------+------+-----+-----------+-----+-------+---------+------+-------+-------+-------+------+--------+---+-------+-------------+------------------------+\n",
      "only showing top 10 rows\n",
      "\n"
     ]
    }
   ],
   "source": [
    "joined_df.show(n=10)"
   ]
  },
  {
   "cell_type": "markdown",
   "metadata": {},
   "source": [
    "Категориальные значения (профессия, пол) были оформлены при помощи one-hot encoding."
   ]
  },
  {
   "cell_type": "code",
   "execution_count": 23,
   "metadata": {},
   "outputs": [
    {
     "ename": "KeyboardInterrupt",
     "evalue": "",
     "output_type": "error",
     "traceback": [
      "\u001b[1;31m---------------------------------------------------------------------------\u001b[0m",
      "\u001b[1;31mKeyboardInterrupt\u001b[0m                         Traceback (most recent call last)",
      "\u001b[1;32m<ipython-input-23-7a4edb77a819>\u001b[0m in \u001b[0;36m<module>\u001b[1;34m()\u001b[0m\n\u001b[0;32m      7\u001b[0m \u001b[1;31m# joined_df = joined_df.drop(\"user_id\", \"movie_id\", \"gender\", \"indexed_gender\", \"occupation\", \"indexed_occupation\", \"age\")\u001b[0m\u001b[1;33m\u001b[0m\u001b[1;33m\u001b[0m\u001b[0m\n\u001b[0;32m      8\u001b[0m \u001b[1;31m# joined_df.show()\u001b[0m\u001b[1;33m\u001b[0m\u001b[1;33m\u001b[0m\u001b[0m\n\u001b[1;32m----> 9\u001b[1;33m \u001b[0mjoined_df\u001b[0m\u001b[1;33m.\u001b[0m\u001b[0mshow\u001b[0m\u001b[1;33m(\u001b[0m\u001b[1;33m)\u001b[0m\u001b[1;33m\u001b[0m\u001b[0m\n\u001b[0m",
      "\u001b[1;32mc:\\users\\bmz\\appdata\\local\\programs\\python\\python36\\lib\\site-packages\\pyspark\\sql\\dataframe.py\u001b[0m in \u001b[0;36mshow\u001b[1;34m(self, n, truncate, vertical)\u001b[0m\n\u001b[0;32m    348\u001b[0m         \"\"\"\n\u001b[0;32m    349\u001b[0m         \u001b[1;32mif\u001b[0m \u001b[0misinstance\u001b[0m\u001b[1;33m(\u001b[0m\u001b[0mtruncate\u001b[0m\u001b[1;33m,\u001b[0m \u001b[0mbool\u001b[0m\u001b[1;33m)\u001b[0m \u001b[1;32mand\u001b[0m \u001b[0mtruncate\u001b[0m\u001b[1;33m:\u001b[0m\u001b[1;33m\u001b[0m\u001b[0m\n\u001b[1;32m--> 350\u001b[1;33m             \u001b[0mprint\u001b[0m\u001b[1;33m(\u001b[0m\u001b[0mself\u001b[0m\u001b[1;33m.\u001b[0m\u001b[0m_jdf\u001b[0m\u001b[1;33m.\u001b[0m\u001b[0mshowString\u001b[0m\u001b[1;33m(\u001b[0m\u001b[0mn\u001b[0m\u001b[1;33m,\u001b[0m \u001b[1;36m20\u001b[0m\u001b[1;33m,\u001b[0m \u001b[0mvertical\u001b[0m\u001b[1;33m)\u001b[0m\u001b[1;33m)\u001b[0m\u001b[1;33m\u001b[0m\u001b[0m\n\u001b[0m\u001b[0;32m    351\u001b[0m         \u001b[1;32melse\u001b[0m\u001b[1;33m:\u001b[0m\u001b[1;33m\u001b[0m\u001b[0m\n\u001b[0;32m    352\u001b[0m             \u001b[0mprint\u001b[0m\u001b[1;33m(\u001b[0m\u001b[0mself\u001b[0m\u001b[1;33m.\u001b[0m\u001b[0m_jdf\u001b[0m\u001b[1;33m.\u001b[0m\u001b[0mshowString\u001b[0m\u001b[1;33m(\u001b[0m\u001b[0mn\u001b[0m\u001b[1;33m,\u001b[0m \u001b[0mint\u001b[0m\u001b[1;33m(\u001b[0m\u001b[0mtruncate\u001b[0m\u001b[1;33m)\u001b[0m\u001b[1;33m,\u001b[0m \u001b[0mvertical\u001b[0m\u001b[1;33m)\u001b[0m\u001b[1;33m)\u001b[0m\u001b[1;33m\u001b[0m\u001b[0m\n",
      "\u001b[1;32mc:\\users\\bmz\\appdata\\local\\programs\\python\\python36\\lib\\site-packages\\py4j\\java_gateway.py\u001b[0m in \u001b[0;36m__call__\u001b[1;34m(self, *args)\u001b[0m\n\u001b[0;32m   1253\u001b[0m             \u001b[0mproto\u001b[0m\u001b[1;33m.\u001b[0m\u001b[0mEND_COMMAND_PART\u001b[0m\u001b[1;33m\u001b[0m\u001b[0m\n\u001b[0;32m   1254\u001b[0m \u001b[1;33m\u001b[0m\u001b[0m\n\u001b[1;32m-> 1255\u001b[1;33m         \u001b[0manswer\u001b[0m \u001b[1;33m=\u001b[0m \u001b[0mself\u001b[0m\u001b[1;33m.\u001b[0m\u001b[0mgateway_client\u001b[0m\u001b[1;33m.\u001b[0m\u001b[0msend_command\u001b[0m\u001b[1;33m(\u001b[0m\u001b[0mcommand\u001b[0m\u001b[1;33m)\u001b[0m\u001b[1;33m\u001b[0m\u001b[0m\n\u001b[0m\u001b[0;32m   1256\u001b[0m         return_value = get_return_value(\n\u001b[0;32m   1257\u001b[0m             answer, self.gateway_client, self.target_id, self.name)\n",
      "\u001b[1;32mc:\\users\\bmz\\appdata\\local\\programs\\python\\python36\\lib\\site-packages\\py4j\\java_gateway.py\u001b[0m in \u001b[0;36msend_command\u001b[1;34m(self, command, retry, binary)\u001b[0m\n\u001b[0;32m    983\u001b[0m         \u001b[0mconnection\u001b[0m \u001b[1;33m=\u001b[0m \u001b[0mself\u001b[0m\u001b[1;33m.\u001b[0m\u001b[0m_get_connection\u001b[0m\u001b[1;33m(\u001b[0m\u001b[1;33m)\u001b[0m\u001b[1;33m\u001b[0m\u001b[0m\n\u001b[0;32m    984\u001b[0m         \u001b[1;32mtry\u001b[0m\u001b[1;33m:\u001b[0m\u001b[1;33m\u001b[0m\u001b[0m\n\u001b[1;32m--> 985\u001b[1;33m             \u001b[0mresponse\u001b[0m \u001b[1;33m=\u001b[0m \u001b[0mconnection\u001b[0m\u001b[1;33m.\u001b[0m\u001b[0msend_command\u001b[0m\u001b[1;33m(\u001b[0m\u001b[0mcommand\u001b[0m\u001b[1;33m)\u001b[0m\u001b[1;33m\u001b[0m\u001b[0m\n\u001b[0m\u001b[0;32m    986\u001b[0m             \u001b[1;32mif\u001b[0m \u001b[0mbinary\u001b[0m\u001b[1;33m:\u001b[0m\u001b[1;33m\u001b[0m\u001b[0m\n\u001b[0;32m    987\u001b[0m                 \u001b[1;32mreturn\u001b[0m \u001b[0mresponse\u001b[0m\u001b[1;33m,\u001b[0m \u001b[0mself\u001b[0m\u001b[1;33m.\u001b[0m\u001b[0m_create_connection_guard\u001b[0m\u001b[1;33m(\u001b[0m\u001b[0mconnection\u001b[0m\u001b[1;33m)\u001b[0m\u001b[1;33m\u001b[0m\u001b[0m\n",
      "\u001b[1;32mc:\\users\\bmz\\appdata\\local\\programs\\python\\python36\\lib\\site-packages\\py4j\\java_gateway.py\u001b[0m in \u001b[0;36msend_command\u001b[1;34m(self, command)\u001b[0m\n\u001b[0;32m   1150\u001b[0m \u001b[1;33m\u001b[0m\u001b[0m\n\u001b[0;32m   1151\u001b[0m         \u001b[1;32mtry\u001b[0m\u001b[1;33m:\u001b[0m\u001b[1;33m\u001b[0m\u001b[0m\n\u001b[1;32m-> 1152\u001b[1;33m             \u001b[0manswer\u001b[0m \u001b[1;33m=\u001b[0m \u001b[0msmart_decode\u001b[0m\u001b[1;33m(\u001b[0m\u001b[0mself\u001b[0m\u001b[1;33m.\u001b[0m\u001b[0mstream\u001b[0m\u001b[1;33m.\u001b[0m\u001b[0mreadline\u001b[0m\u001b[1;33m(\u001b[0m\u001b[1;33m)\u001b[0m\u001b[1;33m[\u001b[0m\u001b[1;33m:\u001b[0m\u001b[1;33m-\u001b[0m\u001b[1;36m1\u001b[0m\u001b[1;33m]\u001b[0m\u001b[1;33m)\u001b[0m\u001b[1;33m\u001b[0m\u001b[0m\n\u001b[0m\u001b[0;32m   1153\u001b[0m             \u001b[0mlogger\u001b[0m\u001b[1;33m.\u001b[0m\u001b[0mdebug\u001b[0m\u001b[1;33m(\u001b[0m\u001b[1;34m\"Answer received: {0}\"\u001b[0m\u001b[1;33m.\u001b[0m\u001b[0mformat\u001b[0m\u001b[1;33m(\u001b[0m\u001b[0manswer\u001b[0m\u001b[1;33m)\u001b[0m\u001b[1;33m)\u001b[0m\u001b[1;33m\u001b[0m\u001b[0m\n\u001b[0;32m   1154\u001b[0m             \u001b[1;32mif\u001b[0m \u001b[0manswer\u001b[0m\u001b[1;33m.\u001b[0m\u001b[0mstartswith\u001b[0m\u001b[1;33m(\u001b[0m\u001b[0mproto\u001b[0m\u001b[1;33m.\u001b[0m\u001b[0mRETURN_MESSAGE\u001b[0m\u001b[1;33m)\u001b[0m\u001b[1;33m:\u001b[0m\u001b[1;33m\u001b[0m\u001b[0m\n",
      "\u001b[1;32mc:\\users\\bmz\\appdata\\local\\programs\\python\\python36\\lib\\socket.py\u001b[0m in \u001b[0;36mreadinto\u001b[1;34m(self, b)\u001b[0m\n\u001b[0;32m    584\u001b[0m         \u001b[1;32mwhile\u001b[0m \u001b[1;32mTrue\u001b[0m\u001b[1;33m:\u001b[0m\u001b[1;33m\u001b[0m\u001b[0m\n\u001b[0;32m    585\u001b[0m             \u001b[1;32mtry\u001b[0m\u001b[1;33m:\u001b[0m\u001b[1;33m\u001b[0m\u001b[0m\n\u001b[1;32m--> 586\u001b[1;33m                 \u001b[1;32mreturn\u001b[0m \u001b[0mself\u001b[0m\u001b[1;33m.\u001b[0m\u001b[0m_sock\u001b[0m\u001b[1;33m.\u001b[0m\u001b[0mrecv_into\u001b[0m\u001b[1;33m(\u001b[0m\u001b[0mb\u001b[0m\u001b[1;33m)\u001b[0m\u001b[1;33m\u001b[0m\u001b[0m\n\u001b[0m\u001b[0;32m    587\u001b[0m             \u001b[1;32mexcept\u001b[0m \u001b[0mtimeout\u001b[0m\u001b[1;33m:\u001b[0m\u001b[1;33m\u001b[0m\u001b[0m\n\u001b[0;32m    588\u001b[0m                 \u001b[0mself\u001b[0m\u001b[1;33m.\u001b[0m\u001b[0m_timeout_occurred\u001b[0m \u001b[1;33m=\u001b[0m \u001b[1;32mTrue\u001b[0m\u001b[1;33m\u001b[0m\u001b[0m\n",
      "\u001b[1;31mKeyboardInterrupt\u001b[0m: "
     ]
    }
   ],
   "source": [
    "\n",
    "\n",
    "# mmScaler = MinMaxScaler(inputCol=\"age\", outputCol=\"scaled_age\")\n",
    "# model = mmScaler.fit(joined_df)\n",
    "# model.transform(joined_df)\n",
    "\n",
    "# joined_df = joined_df.drop(\"user_id\", \"movie_id\", \"gender\", \"indexed_gender\", \"occupation\", \"indexed_occupation\", \"age\")\n",
    "# joined_df.show()\n",
    "joined_df.show()"
   ]
  },
  {
   "cell_type": "code",
   "execution_count": 24,
   "metadata": {},
   "outputs": [
    {
     "name": "stdout",
     "output_type": "stream",
     "text": [
      "+-------+------------+------------------+------------------+------------------+------------------+------------------+------------------+------------------+------------------+------------+-----------------+------------------+------------------+------------------+------------------+------------------+------------------+------------------+------------+\n",
      "|user_id|avg(unknown)|       avg(Action)|    avg(Adventure)|    avg(Animation)|   avg(Children's)|       avg(Comedy)|        avg(Crime)|  avg(Documentary)|        avg(Drama)|avg(Fantasy)|   avg(Film-Noir)|       avg(Horror)|      avg(Musical)|      avg(Mystery)|      avg(Romance)|       avg(Sci-Fi)|     avg(Thriller)|          avg(War)|avg(Western)|\n",
      "+-------+------------+------------------+------------------+------------------+------------------+------------------+------------------+------------------+------------------+------------+-----------------+------------------+------------------+------------------+------------------+------------------+------------------+------------------+------------+\n",
      "|    148|         0.0|3.9166666666666665| 3.933333333333333| 4.428571428571429|               3.8|              4.45|3.6666666666666665|               0.0|              3.68|         0.0|              5.0|               2.0| 4.454545454545454|               3.0| 4.333333333333333| 4.461538461538462|               3.6|               4.1|         2.0|\n",
      "|    463|         0.0| 2.761904761904762|               2.4|               2.2|2.0588235294117645|              2.46|               3.5|               4.0| 3.406779661016949|         2.5|              5.0|               1.0|1.8571428571428572| 4.666666666666667|3.2857142857142856|3.3333333333333335|2.7058823529411766|2.5555555555555554|         0.0|\n",
      "|    471|         0.0|               4.0| 3.857142857142857|            2.6875|3.3461538461538463| 4.416666666666667|               0.0|               0.0|3.3333333333333335|         0.0|              0.0|               0.0| 2.111111111111111|               4.0|               4.0|               4.0|               0.0|               3.5|         0.0|\n",
      "|    496|         0.0|           3.09375|2.7916666666666665|             3.125| 2.380952380952381|              2.75|3.6666666666666665|               0.0|3.2115384615384617|         3.0|              4.0|3.3333333333333335|2.6666666666666665|2.7142857142857144|3.6818181818181817|              3.12|               2.8|              4.25|         2.0|\n",
      "|    833|         1.0| 2.736111111111111| 2.533333333333333|               4.0|               4.0| 2.753846153846154|3.3714285714285714|               4.0|3.3092783505154637|         3.0|4.111111111111111|               3.0|               2.4|               3.1|2.6153846153846154|2.8085106382978724|2.9722222222222223|3.3181818181818183|         4.0|\n",
      "|    243|         0.0|3.6666666666666665|              3.75|               4.0|3.6666666666666665|3.5555555555555554|3.3333333333333335|               4.0|3.6271186440677967|         3.0|              0.0|               4.0|               0.0|               5.0| 3.423076923076923|               3.0|              3.25|               4.0|         4.0|\n",
      "|    392|         0.0|               3.6| 4.166666666666667|               3.8|               4.0| 4.071428571428571|4.2727272727272725|               4.0| 4.298245614035087|         0.0|4.666666666666667|               3.5|               4.5|3.5555555555555554|               4.0|3.3636363636363638| 3.736842105263158| 4.090909090909091|         4.0|\n",
      "|    540|         0.0|3.6842105263157894|             3.875|               3.2|              3.25|             3.625|               4.0|               0.0|3.7857142857142856|         3.0|              0.0|               4.0|               3.5|               3.5|3.8181818181818183|3.9166666666666665|             3.625| 3.857142857142857|         0.0|\n",
      "|    623|         0.0|               4.0| 4.333333333333333|               0.0|               0.0| 3.789473684210526|              3.75|               0.0|3.5833333333333335|         0.0|              3.5|               3.0|3.3333333333333335|               4.0| 3.823529411764706|               3.9|             3.375|               4.0|         5.0|\n",
      "|    737|         0.0|              3.75|               3.0|               2.5|               1.0|               4.0|               4.5|               4.0|              4.25|         0.0|              4.0|               0.0|               3.0|               0.0|               4.0|               4.0|               3.8| 4.333333333333333|         0.0|\n",
      "|    858|         0.0|3.6666666666666665|               2.5|               0.0|               0.0|               4.0|3.5714285714285716|               0.0|3.4166666666666665|         0.0|              0.0|               3.0|               3.0|               3.5|               3.0|               2.0|             3.125|              3.25|         0.0|\n",
      "|    897|         0.0| 4.192982456140351| 4.085714285714285| 4.181818181818182| 4.038461538461538| 3.767857142857143|3.4166666666666665|               0.0| 3.890909090909091|         4.4|              4.0| 4.571428571428571|               4.2| 4.166666666666667|            3.9375| 4.178571428571429|              3.95|              4.25|         4.0|\n",
      "|     31|         0.0|               3.4|               4.0|               0.0|               0.0|               4.2|              4.25| 4.666666666666667|3.8461538461538463|         0.0|             4.25|               2.0|               4.5|3.6666666666666665|               3.6| 4.333333333333333| 3.111111111111111|               4.0|         0.0|\n",
      "|    516|         0.0|               4.0|               4.0|               5.0|               0.0|               4.2| 4.333333333333333|               0.0|3.9166666666666665|         0.0|              0.0|               0.0|               3.0|               4.5|              4.75|               4.4|               5.0| 4.142857142857143|         0.0|\n",
      "|     85|         0.0|3.4130434782608696|              3.25|               3.6|3.5217391304347827|3.5402298850574714|3.8181818181818183|               3.5|3.5526315789473686|         3.5|              4.0|               4.0|3.7916666666666665|               3.5| 3.769230769230769|3.6538461538461537| 3.310344827586207| 3.757575757575758|       3.375|\n",
      "|    137|         0.0| 4.857142857142857| 4.928571428571429|               3.0|              3.75|               4.0|               4.5|               0.0|3.3333333333333335|         4.0|              5.0|               5.0|               3.0|               4.0|4.2727272727272725| 4.857142857142857| 4.785714285714286|               4.0|         1.0|\n",
      "|    251|         0.0|3.7419354838709675| 3.764705882352941|3.6666666666666665|               4.2|              3.75|               3.6|               3.0| 4.130434782608695|         3.0|              0.0| 4.666666666666667|               4.0|               2.5|              3.75|3.9285714285714284| 3.769230769230769| 4.428571428571429|         0.0|\n",
      "|    451|         0.0| 3.176470588235294|2.5714285714285716|               1.0|              2.25|2.6538461538461537|               3.0|2.6666666666666665| 2.473684210526316|         1.0|              2.0|               3.0|1.3333333333333333|3.8181818181818183| 2.823529411764706|               3.4| 3.586206896551724|2.8333333333333335|         0.0|\n",
      "|    580|         0.0|3.4545454545454546|3.8181818181818183|               3.0|               2.5|3.5833333333333335|               3.0|               0.0|3.5833333333333335|         0.0|              0.0| 4.666666666666667|               5.0|               2.0|3.7142857142857144| 4.461538461538462|            3.0625| 4.142857142857143|         0.0|\n",
      "|    808|         0.0|3.8333333333333335|               3.0|               0.0|               0.0|               4.0|               4.4|               0.0| 4.153846153846154|         0.0|              5.0|               3.0|               0.0|              4.25| 4.166666666666667|               4.0| 3.727272727272727|3.6666666666666665|         0.0|\n",
      "+-------+------------+------------------+------------------+------------------+------------------+------------------+------------------+------------------+------------------+------------+-----------------+------------------+------------------+------------------+------------------+------------------+------------------+------------------+------------+\n",
      "only showing top 20 rows\n",
      "\n"
     ]
    }
   ],
   "source": [
    "avg_ratings_df = joined_df.select(['user_id', 'rating']  + genres)\n",
    "\n",
    "for genre in genres:\n",
    "    avg_ratings_df = avg_ratings_df.withColumn('rating {}'.format(genre), avg_ratings_df[genre] * avg_ratings_df.rating)\n",
    "\n",
    "genre_ratings = list(map(lambda genre: 'rating {}'.format(genre), genres))\n",
    "df1 = avg_ratings_df.groupBy('user_id').sum(*genres)\n",
    "df2 = avg_ratings_df.groupBy('user_id').sum(*genre_ratings)\n",
    "\n",
    "avg_ratings_df = df1.join(df2, ['user_id'])\n",
    "for genre in genres:\n",
    "    sum_rating_col = 'sum(rating {})'.format(genre)\n",
    "    count_col = 'sum({})'.format(genre)\n",
    "    avg_ratings_df = avg_ratings_df.withColumn('avg({})'\n",
    "                                   .format(genre), avg_ratings_df[sum_rating_col] / avg_ratings_df[count_col])\n",
    "    avg_ratings_df = avg_ratings_df.drop(sum_rating_col, count_col)\n",
    "\n",
    "avg_ratings_df = avg_ratings_df.fillna(value=0)\n",
    "avg_ratings_df.show()\n",
    "avg_ratings_df.toPandas().to_csv('~/avg_ratings.csv')"
   ]
  },
  {
   "cell_type": "code",
   "execution_count": 25,
   "metadata": {},
   "outputs": [
    {
     "name": "stdout",
     "output_type": "stream",
     "text": [
      "+--------+------------------+\n",
      "|movie_id|       avg(rating)|\n",
      "+--------+------------------+\n",
      "|     496| 4.121212121212121|\n",
      "|     471|3.6108597285067874|\n",
      "|     463| 3.859154929577465|\n",
      "|     148|          3.203125|\n",
      "|    1342|               2.5|\n",
      "|     833| 3.204081632653061|\n",
      "|    1088| 2.230769230769231|\n",
      "|    1591|3.1666666666666665|\n",
      "|    1238|             3.125|\n",
      "|    1580|               1.0|\n",
      "|    1645|               4.0|\n",
      "|     392|3.5441176470588234|\n",
      "|     623| 2.923076923076923|\n",
      "|     540| 2.511627906976744|\n",
      "|     858|               1.0|\n",
      "|     737| 2.983050847457627|\n",
      "|     243|2.4393939393939394|\n",
      "|    1025|2.9318181818181817|\n",
      "|    1084| 3.857142857142857|\n",
      "|    1127| 2.909090909090909|\n",
      "+--------+------------------+\n",
      "only showing top 20 rows\n",
      "\n"
     ]
    }
   ],
   "source": [
    "average_movie_rating = ratings.select('movie_id', 'rating')\n",
    "average_movie_rating = average_movie_rating.groupBy('movie_id').avg('rating')\n",
    "\n",
    "average_movie_rating.toPandas().to_csv('~/average_movie_rating.csv')\n",
    "average_movie_rating.show()"
   ]
  },
  {
   "cell_type": "code",
   "execution_count": 26,
   "metadata": {},
   "outputs": [
    {
     "name": "stdout",
     "output_type": "stream",
     "text": [
      "+--------+----------+\n",
      "|movie_id|popularity|\n",
      "+--------+----------+\n",
      "|     148|       128|\n",
      "|     463|        71|\n",
      "|     471|       221|\n",
      "|     496|       231|\n",
      "|     833|        49|\n",
      "|    1088|        13|\n",
      "|    1238|         8|\n",
      "|    1342|         2|\n",
      "|    1580|         1|\n",
      "|    1591|         6|\n",
      "|    1645|         1|\n",
      "|     243|       132|\n",
      "|     392|        68|\n",
      "|     540|        43|\n",
      "|     623|        39|\n",
      "|     737|        59|\n",
      "|     858|         3|\n",
      "|     897|         2|\n",
      "|    1025|        44|\n",
      "|    1084|        21|\n",
      "+--------+----------+\n",
      "only showing top 20 rows\n",
      "\n"
     ]
    }
   ],
   "source": [
    "popularity = joined_df.select('movie_id')\n",
    "popularity = popularity.groupBy('movie_id').count()\n",
    "popularity = popularity.withColumnRenamed('count', 'popularity').fillna(0)\n",
    "\n",
    "popularity.toPandas().to_csv('~/movie_popularity.csv')\n",
    "popularity.show()"
   ]
  },
  {
   "cell_type": "code",
   "execution_count": 29,
   "metadata": {},
   "outputs": [],
   "source": [
    "joined_df = joined_df.join(average_movie_rating, 'movie_id')"
   ]
  },
  {
   "cell_type": "code",
   "execution_count": 30,
   "metadata": {},
   "outputs": [],
   "source": [
    "joined_df = joined_df.join(popularity, ['movie_id'])"
   ]
  },
  {
   "cell_type": "code",
   "execution_count": 31,
   "metadata": {},
   "outputs": [],
   "source": [
    "joined_df = joined_df.join(avg_ratings_df, ['user_id'])"
   ]
  },
  {
   "cell_type": "code",
   "execution_count": 32,
   "metadata": {},
   "outputs": [],
   "source": [
    "\n",
    "final_df = joined_df.drop(\"gender\", \"indexed_gender\", \"occupation\", \"indexed_occupation\", \"age\")"
   ]
  },
  {
   "cell_type": "code",
   "execution_count": 39,
   "metadata": {},
   "outputs": [
    {
     "data": {
      "text/plain": [
       "['movie_id',\n",
       " 'user_id',\n",
       " 'rating',\n",
       " 'year_rated',\n",
       " 'gender_feature',\n",
       " 'occupation_feature',\n",
       " 'unknown',\n",
       " 'Action',\n",
       " 'Adventure',\n",
       " 'Animation',\n",
       " \"Children's\",\n",
       " 'Comedy',\n",
       " 'Crime',\n",
       " 'Documentary',\n",
       " 'Drama',\n",
       " 'Fantasy',\n",
       " 'Film-Noir',\n",
       " 'Horror',\n",
       " 'Musical',\n",
       " 'Mystery',\n",
       " 'Romance',\n",
       " 'Sci-Fi',\n",
       " 'Thriller',\n",
       " 'War',\n",
       " 'Western',\n",
       " 'year_released',\n",
       " 'rated_released_year_diff',\n",
       " 'avg(unknown)',\n",
       " 'avg(Action)',\n",
       " 'avg(Adventure)',\n",
       " 'avg(Animation)',\n",
       " \"avg(Children's)\",\n",
       " 'avg(Comedy)',\n",
       " 'avg(Crime)',\n",
       " 'avg(Documentary)',\n",
       " 'avg(Drama)',\n",
       " 'avg(Fantasy)',\n",
       " 'avg(Film-Noir)',\n",
       " 'avg(Horror)',\n",
       " 'avg(Musical)',\n",
       " 'avg(Mystery)',\n",
       " 'avg(Romance)',\n",
       " 'avg(Sci-Fi)',\n",
       " 'avg(Thriller)',\n",
       " 'avg(War)',\n",
       " 'avg(Western)',\n",
       " 'popularity',\n",
       " 'avg(rating)']"
      ]
     },
     "execution_count": 39,
     "metadata": {},
     "output_type": "execute_result"
    }
   ],
   "source": [
    "#final_df = final_df.drop('avg(rating)', 'popularity')\n",
    "#final_df= final_df.join(popularity, 'movie_id')\n",
    "final_df= final_df.join(average_movie_rating, 'movie_id')\n",
    "final_df.columns"
   ]
  },
  {
   "cell_type": "code",
   "execution_count": 38,
   "metadata": {},
   "outputs": [
    {
     "name": "stdout",
     "output_type": "stream",
     "text": [
      "['movie_id', 'popularity']\n"
     ]
    }
   ],
   "source": [
    "print(popularity.columns)"
   ]
  },
  {
   "cell_type": "code",
   "execution_count": 41,
   "metadata": {},
   "outputs": [
    {
     "data": {
      "text/plain": [
       "DataFrame[user_id: int, movie_id: int, rating: int, year_rated: int, age: int, gender: string, occupation: string, indexed_gender: double, gender_feature: vector, indexed_occupation: double, occupation_feature: vector, unknown: int, Action: int, Adventure: int, Animation: int, Children's: int, Comedy: int, Crime: int, Documentary: int, Drama: int, Fantasy: int, Film-Noir: int, Horror: int, Musical: int, Mystery: int, Romance: int, Sci-Fi: int, Thriller: int, War: int, Western: int, year_released: int, rated_released_year_diff: int, avg(rating): double, popularity: bigint, avg(rating): double, popularity: bigint, avg(unknown): double, avg(Action): double, avg(Adventure): double, avg(Animation): double, avg(Children's): double, avg(Comedy): double, avg(Crime): double, avg(Documentary): double, avg(Drama): double, avg(Fantasy): double, avg(Film-Noir): double, avg(Horror): double, avg(Musical): double, avg(Mystery): double, avg(Romance): double, avg(Sci-Fi): double, avg(Thriller): double, avg(War): double, avg(Western): double]"
      ]
     },
     "execution_count": 41,
     "metadata": {},
     "output_type": "execute_result"
    }
   ],
   "source": [
    "joined_df.unpersist()"
   ]
  },
  {
   "cell_type": "code",
   "execution_count": 42,
   "metadata": {},
   "outputs": [
    {
     "data": {
      "text/plain": [
       "DataFrame[movie_id: int, popularity: bigint]"
      ]
     },
     "execution_count": 42,
     "metadata": {},
     "output_type": "execute_result"
    }
   ],
   "source": [
    "info.unpersist()\n",
    "users.unpersist()\n",
    "movies.unpersist()\n",
    "average_movie_rating.unpersist()\n",
    "avg_ratings_df.unpersist()\n",
    "popularity.unpersist()"
   ]
  },
  {
   "cell_type": "code",
   "execution_count": 44,
   "metadata": {},
   "outputs": [
    {
     "data": {
      "text/plain": [
       "['movie_id',\n",
       " 'user_id',\n",
       " 'rating',\n",
       " 'year_rated',\n",
       " 'gender_feature',\n",
       " 'occupation_feature',\n",
       " 'unknown',\n",
       " 'Action',\n",
       " 'Adventure',\n",
       " 'Animation',\n",
       " \"Children's\",\n",
       " 'Comedy',\n",
       " 'Crime',\n",
       " 'Documentary',\n",
       " 'Drama',\n",
       " 'Fantasy',\n",
       " 'Film-Noir',\n",
       " 'Horror',\n",
       " 'Musical',\n",
       " 'Mystery',\n",
       " 'Romance',\n",
       " 'Sci-Fi',\n",
       " 'Thriller',\n",
       " 'War',\n",
       " 'Western',\n",
       " 'year_released',\n",
       " 'rated_released_year_diff',\n",
       " 'avg(unknown)',\n",
       " 'avg(Action)',\n",
       " 'avg(Adventure)',\n",
       " 'avg(Animation)',\n",
       " \"avg(Children's)\",\n",
       " 'avg(Comedy)',\n",
       " 'avg(Crime)',\n",
       " 'avg(Documentary)',\n",
       " 'avg(Drama)',\n",
       " 'avg(Fantasy)',\n",
       " 'avg(Film-Noir)',\n",
       " 'avg(Horror)',\n",
       " 'avg(Musical)',\n",
       " 'avg(Mystery)',\n",
       " 'avg(Romance)',\n",
       " 'avg(Sci-Fi)',\n",
       " 'avg(Thriller)',\n",
       " 'avg(War)',\n",
       " 'avg(Western)',\n",
       " 'popularity',\n",
       " 'avg(rating)']"
      ]
     },
     "execution_count": 44,
     "metadata": {},
     "output_type": "execute_result"
    }
   ],
   "source": [
    "final_df.columns"
   ]
  },
  {
   "cell_type": "code",
   "execution_count": 43,
   "metadata": {},
   "outputs": [
    {
     "ename": "KeyboardInterrupt",
     "evalue": "",
     "output_type": "error",
     "traceback": [
      "\u001b[1;31m---------------------------------------------------------------------------\u001b[0m",
      "\u001b[1;31mKeyboardInterrupt\u001b[0m                         Traceback (most recent call last)",
      "\u001b[1;32m<ipython-input-43-bcee4b6558b7>\u001b[0m in \u001b[0;36m<module>\u001b[1;34m()\u001b[0m\n\u001b[1;32m----> 1\u001b[1;33m \u001b[0mfinal_df\u001b[0m\u001b[1;33m.\u001b[0m\u001b[0mcount\u001b[0m\u001b[1;33m(\u001b[0m\u001b[1;33m)\u001b[0m\u001b[1;33m\u001b[0m\u001b[0m\n\u001b[0m",
      "\u001b[1;32mc:\\users\\bmz\\appdata\\local\\programs\\python\\python36\\lib\\site-packages\\pyspark\\sql\\dataframe.py\u001b[0m in \u001b[0;36mcount\u001b[1;34m(self)\u001b[0m\n\u001b[0;32m    453\u001b[0m         \u001b[1;36m2\u001b[0m\u001b[1;33m\u001b[0m\u001b[0m\n\u001b[0;32m    454\u001b[0m         \"\"\"\n\u001b[1;32m--> 455\u001b[1;33m         \u001b[1;32mreturn\u001b[0m \u001b[0mint\u001b[0m\u001b[1;33m(\u001b[0m\u001b[0mself\u001b[0m\u001b[1;33m.\u001b[0m\u001b[0m_jdf\u001b[0m\u001b[1;33m.\u001b[0m\u001b[0mcount\u001b[0m\u001b[1;33m(\u001b[0m\u001b[1;33m)\u001b[0m\u001b[1;33m)\u001b[0m\u001b[1;33m\u001b[0m\u001b[0m\n\u001b[0m\u001b[0;32m    456\u001b[0m \u001b[1;33m\u001b[0m\u001b[0m\n\u001b[0;32m    457\u001b[0m     \u001b[1;33m@\u001b[0m\u001b[0mignore_unicode_prefix\u001b[0m\u001b[1;33m\u001b[0m\u001b[0m\n",
      "\u001b[1;32mc:\\users\\bmz\\appdata\\local\\programs\\python\\python36\\lib\\site-packages\\py4j\\java_gateway.py\u001b[0m in \u001b[0;36m__call__\u001b[1;34m(self, *args)\u001b[0m\n\u001b[0;32m   1253\u001b[0m             \u001b[0mproto\u001b[0m\u001b[1;33m.\u001b[0m\u001b[0mEND_COMMAND_PART\u001b[0m\u001b[1;33m\u001b[0m\u001b[0m\n\u001b[0;32m   1254\u001b[0m \u001b[1;33m\u001b[0m\u001b[0m\n\u001b[1;32m-> 1255\u001b[1;33m         \u001b[0manswer\u001b[0m \u001b[1;33m=\u001b[0m \u001b[0mself\u001b[0m\u001b[1;33m.\u001b[0m\u001b[0mgateway_client\u001b[0m\u001b[1;33m.\u001b[0m\u001b[0msend_command\u001b[0m\u001b[1;33m(\u001b[0m\u001b[0mcommand\u001b[0m\u001b[1;33m)\u001b[0m\u001b[1;33m\u001b[0m\u001b[0m\n\u001b[0m\u001b[0;32m   1256\u001b[0m         return_value = get_return_value(\n\u001b[0;32m   1257\u001b[0m             answer, self.gateway_client, self.target_id, self.name)\n",
      "\u001b[1;32mc:\\users\\bmz\\appdata\\local\\programs\\python\\python36\\lib\\site-packages\\py4j\\java_gateway.py\u001b[0m in \u001b[0;36msend_command\u001b[1;34m(self, command, retry, binary)\u001b[0m\n\u001b[0;32m    983\u001b[0m         \u001b[0mconnection\u001b[0m \u001b[1;33m=\u001b[0m \u001b[0mself\u001b[0m\u001b[1;33m.\u001b[0m\u001b[0m_get_connection\u001b[0m\u001b[1;33m(\u001b[0m\u001b[1;33m)\u001b[0m\u001b[1;33m\u001b[0m\u001b[0m\n\u001b[0;32m    984\u001b[0m         \u001b[1;32mtry\u001b[0m\u001b[1;33m:\u001b[0m\u001b[1;33m\u001b[0m\u001b[0m\n\u001b[1;32m--> 985\u001b[1;33m             \u001b[0mresponse\u001b[0m \u001b[1;33m=\u001b[0m \u001b[0mconnection\u001b[0m\u001b[1;33m.\u001b[0m\u001b[0msend_command\u001b[0m\u001b[1;33m(\u001b[0m\u001b[0mcommand\u001b[0m\u001b[1;33m)\u001b[0m\u001b[1;33m\u001b[0m\u001b[0m\n\u001b[0m\u001b[0;32m    986\u001b[0m             \u001b[1;32mif\u001b[0m \u001b[0mbinary\u001b[0m\u001b[1;33m:\u001b[0m\u001b[1;33m\u001b[0m\u001b[0m\n\u001b[0;32m    987\u001b[0m                 \u001b[1;32mreturn\u001b[0m \u001b[0mresponse\u001b[0m\u001b[1;33m,\u001b[0m \u001b[0mself\u001b[0m\u001b[1;33m.\u001b[0m\u001b[0m_create_connection_guard\u001b[0m\u001b[1;33m(\u001b[0m\u001b[0mconnection\u001b[0m\u001b[1;33m)\u001b[0m\u001b[1;33m\u001b[0m\u001b[0m\n",
      "\u001b[1;32mc:\\users\\bmz\\appdata\\local\\programs\\python\\python36\\lib\\site-packages\\py4j\\java_gateway.py\u001b[0m in \u001b[0;36msend_command\u001b[1;34m(self, command)\u001b[0m\n\u001b[0;32m   1150\u001b[0m \u001b[1;33m\u001b[0m\u001b[0m\n\u001b[0;32m   1151\u001b[0m         \u001b[1;32mtry\u001b[0m\u001b[1;33m:\u001b[0m\u001b[1;33m\u001b[0m\u001b[0m\n\u001b[1;32m-> 1152\u001b[1;33m             \u001b[0manswer\u001b[0m \u001b[1;33m=\u001b[0m \u001b[0msmart_decode\u001b[0m\u001b[1;33m(\u001b[0m\u001b[0mself\u001b[0m\u001b[1;33m.\u001b[0m\u001b[0mstream\u001b[0m\u001b[1;33m.\u001b[0m\u001b[0mreadline\u001b[0m\u001b[1;33m(\u001b[0m\u001b[1;33m)\u001b[0m\u001b[1;33m[\u001b[0m\u001b[1;33m:\u001b[0m\u001b[1;33m-\u001b[0m\u001b[1;36m1\u001b[0m\u001b[1;33m]\u001b[0m\u001b[1;33m)\u001b[0m\u001b[1;33m\u001b[0m\u001b[0m\n\u001b[0m\u001b[0;32m   1153\u001b[0m             \u001b[0mlogger\u001b[0m\u001b[1;33m.\u001b[0m\u001b[0mdebug\u001b[0m\u001b[1;33m(\u001b[0m\u001b[1;34m\"Answer received: {0}\"\u001b[0m\u001b[1;33m.\u001b[0m\u001b[0mformat\u001b[0m\u001b[1;33m(\u001b[0m\u001b[0manswer\u001b[0m\u001b[1;33m)\u001b[0m\u001b[1;33m)\u001b[0m\u001b[1;33m\u001b[0m\u001b[0m\n\u001b[0;32m   1154\u001b[0m             \u001b[1;32mif\u001b[0m \u001b[0manswer\u001b[0m\u001b[1;33m.\u001b[0m\u001b[0mstartswith\u001b[0m\u001b[1;33m(\u001b[0m\u001b[0mproto\u001b[0m\u001b[1;33m.\u001b[0m\u001b[0mRETURN_MESSAGE\u001b[0m\u001b[1;33m)\u001b[0m\u001b[1;33m:\u001b[0m\u001b[1;33m\u001b[0m\u001b[0m\n",
      "\u001b[1;32mc:\\users\\bmz\\appdata\\local\\programs\\python\\python36\\lib\\socket.py\u001b[0m in \u001b[0;36mreadinto\u001b[1;34m(self, b)\u001b[0m\n\u001b[0;32m    584\u001b[0m         \u001b[1;32mwhile\u001b[0m \u001b[1;32mTrue\u001b[0m\u001b[1;33m:\u001b[0m\u001b[1;33m\u001b[0m\u001b[0m\n\u001b[0;32m    585\u001b[0m             \u001b[1;32mtry\u001b[0m\u001b[1;33m:\u001b[0m\u001b[1;33m\u001b[0m\u001b[0m\n\u001b[1;32m--> 586\u001b[1;33m                 \u001b[1;32mreturn\u001b[0m \u001b[0mself\u001b[0m\u001b[1;33m.\u001b[0m\u001b[0m_sock\u001b[0m\u001b[1;33m.\u001b[0m\u001b[0mrecv_into\u001b[0m\u001b[1;33m(\u001b[0m\u001b[0mb\u001b[0m\u001b[1;33m)\u001b[0m\u001b[1;33m\u001b[0m\u001b[0m\n\u001b[0m\u001b[0;32m    587\u001b[0m             \u001b[1;32mexcept\u001b[0m \u001b[0mtimeout\u001b[0m\u001b[1;33m:\u001b[0m\u001b[1;33m\u001b[0m\u001b[0m\n\u001b[0;32m    588\u001b[0m                 \u001b[0mself\u001b[0m\u001b[1;33m.\u001b[0m\u001b[0m_timeout_occurred\u001b[0m \u001b[1;33m=\u001b[0m \u001b[1;32mTrue\u001b[0m\u001b[1;33m\u001b[0m\u001b[0m\n",
      "\u001b[1;31mKeyboardInterrupt\u001b[0m: "
     ]
    }
   ],
   "source": [
    "final_df.count()"
   ]
  },
  {
   "cell_type": "code",
   "execution_count": 40,
   "metadata": {},
   "outputs": [
    {
     "name": "stdout",
     "output_type": "stream",
     "text": [
      "100000\n",
      "99991\n"
     ]
    }
   ],
   "source": [
    "print(final_df.count())\n",
    "final_df = final_df.dropna()\n",
    "print(final_df.count())"
   ]
  },
  {
   "cell_type": "code",
   "execution_count": 46,
   "metadata": {},
   "outputs": [],
   "source": [
    "from pyspark.ml.regression import RandomForestRegressor\n",
    "from pyspark.ml.feature import VectorAssembler\n",
    "from pyspark.ml.classification import NaiveBayes"
   ]
  },
  {
   "cell_type": "code",
   "execution_count": 47,
   "metadata": {},
   "outputs": [
    {
     "name": "stdout",
     "output_type": "stream",
     "text": [
      "['year_rated', 'gender_feature', 'occupation_feature', 'unknown', 'Action', 'Adventure', 'Animation', \"Children's\", 'Comedy', 'Crime', 'Documentary', 'Drama', 'Fantasy', 'Film-Noir', 'Horror', 'Musical', 'Mystery', 'Romance', 'Sci-Fi', 'Thriller', 'War', 'Western', 'year_released', 'rated_released_year_diff', 'avg(unknown)', 'avg(Action)', 'avg(Adventure)', 'avg(Animation)', \"avg(Children's)\", 'avg(Comedy)', 'avg(Crime)', 'avg(Documentary)', 'avg(Drama)', 'avg(Fantasy)', 'avg(Film-Noir)', 'avg(Horror)', 'avg(Musical)', 'avg(Mystery)', 'avg(Romance)', 'avg(Sci-Fi)', 'avg(Thriller)', 'avg(War)', 'avg(Western)', 'popularity', 'avg(rating)']\n"
     ]
    }
   ],
   "source": [
    "answer_col = 'rating'\n",
    "features_col = 'features'\n",
    "input_cols = [col for col in final_df.columns if col not in [answer_col, \"user_id\", \"movie_id\"]]\n",
    "assembler = VectorAssembler(inputCols=input_cols, outputCol=features_col)\n",
    "\n",
    "print(input_cols)"
   ]
  },
  {
   "cell_type": "code",
   "execution_count": 48,
   "metadata": {},
   "outputs": [
    {
     "name": "stdout",
     "output_type": "stream",
     "text": [
      "+------+-----------------------------------------------------------------------------------------------------------------------------------------------------------------------------------------------------------------------------------------------------------------------------------------------------------------------------------------------------------------------------------------------------------------------------+-------+--------+\n",
      "|rating|features                                                                                                                                                                                                                                                                                                                                                                                                                     |user_id|movie_id|\n",
      "+------+-----------------------------------------------------------------------------------------------------------------------------------------------------------------------------------------------------------------------------------------------------------------------------------------------------------------------------------------------------------------------------------------------------------------------------+-------+--------+\n",
      "|2     |(64,[0,1,21,23,24,41,42,44,45,46,47,48,49,50,51,52,54,55,56,57,58,59,60,62,63],[1998.0,1.0,1.0,1.0,1.0,1996.0,2.0,3.7419354838709675,3.764705882352941,3.6666666666666665,4.2,3.75,3.6,3.0,4.130434782608695,3.0,4.666666666666667,4.0,2.5,3.75,3.9285714285714284,3.769230769230769,4.428571428571429,128.0,3.203125])                                                                                                      |251    |148     |\n",
      "|4     |(64,[0,1,2,23,24,41,42,44,45,46,47,48,49,51,54,55,56,57,58,59,60,62,63],[1998.0,1.0,1.0,1.0,1.0,1996.0,2.0,3.4545454545454546,3.8181818181818183,3.0,2.5,3.5833333333333335,3.0,3.5833333333333335,4.666666666666667,5.0,2.0,3.7142857142857144,4.461538461538462,3.0625,4.142857142857143,128.0,3.203125])                                                                                                                  |580    |148     |\n",
      "|1     |(64,[0,1,7,23,24,41,42,44,45,46,47,48,49,51,52,53,54,55,56,57,58,59,60,61,62,63],[1997.0,1.0,1.0,1.0,1.0,1996.0,1.0,3.4827586206896552,3.1538461538461537,3.0,3.6666666666666665,3.0,2.5,3.1818181818181817,4.0,3.0,3.25,3.3333333333333335,3.5,3.1,3.5454545454545454,3.5185185185185186,3.125,3.0,128.0,3.203125])                                                                                                         |633    |148     |\n",
      "|5     |(64,[0,2,23,24,41,42,44,45,46,47,48,49,51,52,53,54,55,56,57,58,59,60,61,62,63],[1998.0,1.0,1.0,1.0,1996.0,2.0,3.8615384615384616,3.7,3.5384615384615383,3.460526315789474,3.75177304964539,3.4,3.6444444444444444,3.4615384615384617,2.0,2.6153846153846154,3.923076923076923,3.8,4.166666666666667,3.8620689655172415,3.4285714285714284,4.235294117647059,3.4285714285714284,128.0,3.203125])                              |642    |148     |\n",
      "|3     |(64,[0,1,4,23,24,41,42,44,45,46,47,48,49,50,51,52,53,54,55,56,57,58,59,60,61,62,63],[1997.0,1.0,1.0,1.0,1.0,1996.0,1.0,3.490566037735849,3.5277777777777777,4.0,3.9411764705882355,3.116504854368932,3.8,4.25,3.6026490066225167,3.25,3.7142857142857144,3.25,3.259259259259259,3.769230769230769,3.35,3.8055555555555554,3.702127659574468,4.0,3.857142857142857,128.0,3.203125])                                           |406    |148     |\n",
      "|3     |(64,[0,1,6,23,24,41,42,44,45,46,47,48,49,51,53,54,56,57,58,59,60,61,62,63],[1998.0,1.0,1.0,1.0,1.0,1996.0,2.0,2.8,2.8823529411764706,3.0,3.25,2.727272727272727,3.7777777777777777,3.292682926829268,5.0,3.0,3.0,3.3,2.875,2.8620689655172415,3.125,2.0,128.0,3.203125])                                                                                                                                                     |26     |148     |\n",
      "|3     |(64,[0,8,23,24,41,42,44,45,46,47,48,49,51,54,55,56,57,58,59,60,62,63],[1998.0,1.0,1.0,1.0,1996.0,2.0,3.2,2.75,2.0,2.0,5.0,5.0,3.4166666666666665,4.0,2.0,2.0,3.3333333333333335,3.5,3.076923076923077,3.5,128.0,3.203125])                                                                                                                                                                                                   |27     |148     |\n",
      "|5     |(64,[0,1,2,23,24,41,42,44,45,46,47,48,49,51,52,53,54,55,56,57,58,59,60,61,62,63],[1998.0,1.0,1.0,1.0,1.0,1996.0,2.0,4.428571428571429,4.4324324324324325,4.25,4.2,4.0,4.470588235294118,4.142857142857143,3.6666666666666665,4.5,4.4,5.0,4.176470588235294,4.2272727272727275,4.15625,4.0519480519480515,4.461538461538462,4.714285714285714,128.0,3.203125])                                                                |332    |148     |\n",
      "|4     |(64,[0,1,13,23,24,41,42,44,45,46,47,48,49,50,51,52,53,54,55,56,57,58,59,60,61,62,63],[1997.0,1.0,1.0,1.0,1.0,1996.0,1.0,3.590909090909091,3.588235294117647,3.5454545454545454,3.5,3.409090909090909,3.6,3.0,3.7254901960784315,3.5,5.0,3.4545454545454546,3.7142857142857144,3.875,3.44,3.864864864864865,3.5294117647058822,4.166666666666667,2.5,128.0,3.203125])                                                         |44     |148     |\n",
      "|3     |(64,[0,1,6,23,24,41,42,44,45,46,47,48,49,50,51,52,53,54,55,56,57,58,59,60,61,62,63],[1998.0,1.0,1.0,1.0,1.0,1996.0,2.0,3.5555555555555554,3.7586206896551726,3.5,3.2142857142857144,3.367816091954023,3.75,3.6666666666666665,3.798507462686567,2.6666666666666665,4.166666666666667,3.8333333333333335,3.5,3.7333333333333334,3.6440677966101696,3.3333333333333335,3.595744680851064,4.121212121212121,3.6,128.0,3.203125])|271    |148     |\n",
      "|3     |(64,[0,1,7,23,24,41,42,44,45,46,47,48,49,50,51,52,53,54,55,56,57,58,59,60,61,62,63],[1997.0,1.0,1.0,1.0,1.0,1996.0,1.0,4.0144927536231885,4.083333333333333,4.4,4.04,3.8,3.9166666666666665,4.5,4.096385542168675,3.6666666666666665,5.0,3.7333333333333334,4.2105263157894735,4.142857142857143,4.15,4.176470588235294,3.980392156862745,4.217391304347826,4.5,128.0,3.203125])                                             |606    |148     |\n",
      "|2     |(64,[0,1,6,23,24,41,42,44,45,46,47,48,49,50,51,52,53,54,55,56,57,58,59,60,61,62,63],[1997.0,1.0,1.0,1.0,1.0,1996.0,1.0,3.0348837209302326,3.0652173913043477,3.0,2.888888888888889,3.2736842105263158,3.625,5.0,3.6492537313432836,2.6666666666666665,4.0,3.3333333333333335,3.0,3.0,3.5,3.2093023255813953,3.0,3.7096774193548385,3.125,128.0,3.203125])                                                                    |916    |148     |\n",
      "|4     |(64,[0,9,23,24,41,42,44,45,46,47,48,49,51,52,53,54,55,56,57,58,59,60,61,62,63],[1998.0,1.0,1.0,1.0,1996.0,2.0,3.142857142857143,3.3125,4.0,3.9,2.9642857142857144,3.375,3.838709677419355,3.0,4.0,3.6,4.111111111111111,3.4285714285714284,3.6666666666666665,2.642857142857143,3.1785714285714284,4.0,4.0,128.0,3.203125])                                                                                                  |236    |148     |\n",
      "|4     |(64,[0,3,23,24,41,42,44,45,46,47,48,49,51,54,55,57,58,59,60,62,63],[1998.0,1.0,1.0,1.0,1996.0,2.0,3.9166666666666665,4.111111111111111,4.0,3.5714285714285716,3.75,5.0,3.875,2.5,4.0,4.166666666666667,4.0,3.5714285714285716,4.666666666666667,128.0,3.203125])                                                                                                                                                             |602    |148     |\n",
      "|4     |(64,[0,1,3,23,24,41,42,44,45,46,47,48,49,51,52,53,54,55,56,57,58,59,60,62,63],[1998.0,1.0,1.0,1.0,1.0,1996.0,2.0,3.5555555555555554,3.5384615384615383,3.5,3.1666666666666665,3.3421052631578947,4.0,3.6944444444444446,3.0,3.0,3.375,2.25,3.4545454545454546,3.3846153846153846,3.642857142857143,3.6458333333333335,3.7857142857142856,128.0,3.203125])                                                                    |663    |148     |\n",
      "|2     |(64,[0,1,7,23,24,41,42,44,45,46,47,48,49,50,51,52,53,54,55,56,57,58,59,60,61,62,63],[1997.0,1.0,1.0,1.0,1.0,1996.0,1.0,3.2695652173913046,3.0806451612903225,2.526315789473684,2.116279069767442,2.732824427480916,3.5517241379310347,5.0,3.3828125,3.1666666666666665,3.4,2.5555555555555554,2.85,3.5384615384615383,3.3442622950819674,3.3653846153846154,3.4871794871794872,3.5185185185185186,3.375,128.0,3.203125])     |222    |148     |\n",
      "|3     |(64,[0,12,23,24,41,42,44,45,46,47,48,49,50,51,52,53,54,55,56,57,58,59,60,61,62,63],[1997.0,1.0,1.0,1.0,1996.0,1.0,3.189189189189189,3.2413793103448274,2.1666666666666665,2.608695652173913,2.902439024390244,3.3333333333333335,5.0,3.23728813559322,2.4,1.0,2.7857142857142856,3.1538461538461537,3.5,3.526315789473684,3.4444444444444446,2.8333333333333335,3.6666666666666665,2.0,128.0,3.203125])                      |601    |148     |\n",
      "|4     |(64,[0,4,23,24,41,42,44,45,46,47,48,49,50,51,52,53,54,55,56,57,58,59,60,61,62,63],[1997.0,1.0,1.0,1.0,1996.0,1.0,4.5,4.625,4.6,4.461538461538462,4.433962264150943,4.142857142857143,5.0,4.584905660377358,5.0,3.0,4.166666666666667,4.631578947368421,4.5,4.771428571428571,4.428571428571429,4.318181818181818,4.625,4.571428571428571,128.0,3.203125])                                                                    |330    |148     |\n",
      "|5     |(64,[0,2,23,24,41,42,44,45,48,49,51,53,54,56,57,58,59,60,62,63],[1997.0,1.0,1.0,1.0,1996.0,1.0,4.2727272727272725,3.6666666666666665,3.0,4.0,4.172413793103448,4.0,4.5,4.333333333333333,4.285714285714286,3.8,4.2727272727272725,4.0,128.0,3.203125])                                                                                                                                                                       |372    |148     |\n",
      "|2     |(64,[0,1,2,23,24,41,42,44,45,46,47,48,49,51,52,53,54,55,56,57,58,59,60,61,62,63],[1998.0,1.0,1.0,1.0,1.0,1996.0,2.0,3.0984848484848486,3.0454545454545454,3.235294117647059,2.739130434782609,3.0576923076923075,3.2,3.1341463414634148,2.25,5.0,2.423076923076923,3.3333333333333335,2.909090909090909,3.3220338983050848,2.9272727272727272,3.130434782608696,3.6,3.1666666666666665,128.0,3.203125])                      |727    |148     |\n",
      "+------+-----------------------------------------------------------------------------------------------------------------------------------------------------------------------------------------------------------------------------------------------------------------------------------------------------------------------------------------------------------------------------------------------------------------------------+-------+--------+\n",
      "only showing top 20 rows\n",
      "\n"
     ]
    }
   ],
   "source": [
    "data = assembler.transform(final_df)\n",
    "data = data.select(answer_col,features_col, 'user_id', 'movie_id')\n",
    "final_df.unpersist()\n",
    "data.show(truncate=False)"
   ]
  },
  {
   "cell_type": "code",
   "execution_count": 49,
   "metadata": {},
   "outputs": [
    {
     "data": {
      "text/plain": [
       "DataFrame[rating: int, features: vector, user_id: int, movie_id: int]"
      ]
     },
     "execution_count": 49,
     "metadata": {},
     "output_type": "execute_result"
    }
   ],
   "source": [
    "data = data.dropna()\n",
    "data.cache()"
   ]
  },
  {
   "cell_type": "code",
   "execution_count": 53,
   "metadata": {},
   "outputs": [
    {
     "data": {
      "text/plain": [
       "1"
      ]
     },
     "execution_count": 53,
     "metadata": {},
     "output_type": "execute_result"
    }
   ],
   "source": [
    "data.rdd.getNumPartitions()\n",
    "data = data.repartition(1)\n",
    "data.rdd.getNumPartitions()"
   ]
  },
  {
   "cell_type": "code",
   "execution_count": 54,
   "metadata": {},
   "outputs": [
    {
     "data": {
      "text/plain": [
       "99991"
      ]
     },
     "execution_count": 54,
     "metadata": {},
     "output_type": "execute_result"
    }
   ],
   "source": [
    "data.count()"
   ]
  },
  {
   "cell_type": "code",
   "execution_count": 55,
   "metadata": {},
   "outputs": [],
   "source": [
    "training, test = data.randomSplit([0.8, 0.2])"
   ]
  },
  {
   "cell_type": "code",
   "execution_count": 56,
   "metadata": {},
   "outputs": [],
   "source": [
    "rf = RandomForestRegressor(labelCol=answer_col)"
   ]
  },
  {
   "cell_type": "code",
   "execution_count": 57,
   "metadata": {},
   "outputs": [],
   "source": [
    "model = rf.fit(training)"
   ]
  },
  {
   "cell_type": "code",
   "execution_count": 58,
   "metadata": {},
   "outputs": [],
   "source": [
    "test_results = model.transform(test)"
   ]
  },
  {
   "cell_type": "code",
   "execution_count": 59,
   "metadata": {},
   "outputs": [
    {
     "name": "stdout",
     "output_type": "stream",
     "text": [
      "+------+--------------------+-------+--------+------------------+\n",
      "|rating|            features|user_id|movie_id|        prediction|\n",
      "+------+--------------------+-------+--------+------------------+\n",
      "|     1|(64,[0,1,2,23,24,...|    774|     398|1.5155091852055536|\n",
      "|     1|(64,[0,1,2,23,24,...|    425|     398|2.4942595782980277|\n",
      "|     1|(64,[0,1,2,23,24,...|    774|     231| 2.022574524378514|\n",
      "|     1|(64,[0,1,2,23,24,...|    363|      29|2.6891749202913977|\n",
      "|     1|(64,[0,1,2,23,24,...|    246|      29|2.5481146031584467|\n",
      "|     1|(64,[0,1,2,23,24,...|    466|     231| 2.960839878748644|\n",
      "|     1|(64,[0,1,2,23,24,...|    110|     173|3.7011180008527687|\n",
      "|     1|(64,[0,1,2,23,24,...|    246|     802|2.5084469696318568|\n",
      "|     1|(64,[0,1,2,23,24,...|    484|      24| 4.068495449616922|\n",
      "|     1|(64,[0,1,2,23,24,...|    153|     172|3.4909181738509965|\n",
      "|     1|(64,[0,1,2,23,24,...|    943|     720|3.0659151850728548|\n",
      "|     1|(64,[0,1,2,23,24,...|    276|     769|2.6894745478617073|\n",
      "|     1|(64,[0,1,2,23,24,...|    773|     769|2.6803007859162533|\n",
      "|     1|(64,[0,1,2,23,24,...|    153|      50|3.5053126768042326|\n",
      "|     1|(64,[0,1,2,23,24,...|    820|     358|2.5616071343896665|\n",
      "|     1|(64,[0,1,2,23,24,...|    347|     271|3.2605001799399522|\n",
      "|     1|(64,[0,1,2,23,24,...|    933|      62|2.5505427333352015|\n",
      "|     1|(64,[0,1,2,23,24,...|    943|     230|3.6109314020429037|\n",
      "|     1|(64,[0,1,2,23,24,...|    943|     450|2.8339863155529974|\n",
      "|     1|(64,[0,1,2,23,24,...|    521|     827|2.5057625414481253|\n",
      "+------+--------------------+-------+--------+------------------+\n",
      "only showing top 20 rows\n",
      "\n"
     ]
    }
   ],
   "source": [
    "test_results.show()"
   ]
  },
  {
   "cell_type": "code",
   "execution_count": 60,
   "metadata": {},
   "outputs": [],
   "source": [
    "from pyspark.ml.evaluation import RegressionEvaluator\n",
    "from pyspark.ml.evaluation import MulticlassClassificationEvaluator\n",
    "from pyspark.sql.functions import round"
   ]
  },
  {
   "cell_type": "code",
   "execution_count": 61,
   "metadata": {},
   "outputs": [],
   "source": [
    "mae_eval = RegressionEvaluator(labelCol=answer_col, metricName='mae')\n",
    "# mae_eval = MulticlassClassificationEvaluator(labelCol=answer_col)"
   ]
  },
  {
   "cell_type": "code",
   "execution_count": 62,
   "metadata": {},
   "outputs": [],
   "source": [
    "mae = mae_eval.evaluate(test_results)"
   ]
  },
  {
   "cell_type": "code",
   "execution_count": 63,
   "metadata": {},
   "outputs": [
    {
     "name": "stdout",
     "output_type": "stream",
     "text": [
      "0.7492396741942997\n"
     ]
    }
   ],
   "source": [
    "print(mae)"
   ]
  },
  {
   "cell_type": "code",
   "execution_count": 64,
   "metadata": {},
   "outputs": [],
   "source": [
    "rounded_test_results = test_results.withColumn('prediction', round(test_results.prediction))"
   ]
  },
  {
   "cell_type": "code",
   "execution_count": 65,
   "metadata": {},
   "outputs": [
    {
     "name": "stdout",
     "output_type": "stream",
     "text": [
      "+------+--------------------+-------+--------+----------+\n",
      "|rating|            features|user_id|movie_id|prediction|\n",
      "+------+--------------------+-------+--------+----------+\n",
      "|     1|(64,[0,1,2,23,24,...|    774|     398|       2.0|\n",
      "|     1|(64,[0,1,2,23,24,...|    425|     398|       2.0|\n",
      "|     1|(64,[0,1,2,23,24,...|    774|     231|       2.0|\n",
      "|     1|(64,[0,1,2,23,24,...|    363|      29|       3.0|\n",
      "|     1|(64,[0,1,2,23,24,...|    246|      29|       3.0|\n",
      "|     1|(64,[0,1,2,23,24,...|    466|     231|       3.0|\n",
      "|     1|(64,[0,1,2,23,24,...|    110|     173|       4.0|\n",
      "|     1|(64,[0,1,2,23,24,...|    246|     802|       3.0|\n",
      "|     1|(64,[0,1,2,23,24,...|    484|      24|       4.0|\n",
      "|     1|(64,[0,1,2,23,24,...|    153|     172|       3.0|\n",
      "|     1|(64,[0,1,2,23,24,...|    943|     720|       3.0|\n",
      "|     1|(64,[0,1,2,23,24,...|    276|     769|       3.0|\n",
      "|     1|(64,[0,1,2,23,24,...|    773|     769|       3.0|\n",
      "|     1|(64,[0,1,2,23,24,...|    153|      50|       4.0|\n",
      "|     1|(64,[0,1,2,23,24,...|    820|     358|       3.0|\n",
      "|     1|(64,[0,1,2,23,24,...|    347|     271|       3.0|\n",
      "|     1|(64,[0,1,2,23,24,...|    933|      62|       3.0|\n",
      "|     1|(64,[0,1,2,23,24,...|    943|     230|       4.0|\n",
      "|     1|(64,[0,1,2,23,24,...|    943|     450|       3.0|\n",
      "|     1|(64,[0,1,2,23,24,...|    521|     827|       3.0|\n",
      "+------+--------------------+-------+--------+----------+\n",
      "only showing top 20 rows\n",
      "\n"
     ]
    }
   ],
   "source": [
    "rounded_test_results.show()"
   ]
  },
  {
   "cell_type": "code",
   "execution_count": 66,
   "metadata": {},
   "outputs": [],
   "source": [
    "accuracy_eval = MulticlassClassificationEvaluator(labelCol=answer_col)"
   ]
  },
  {
   "cell_type": "code",
   "execution_count": 67,
   "metadata": {},
   "outputs": [],
   "source": [
    "accuracy = accuracy_eval.evaluate(rounded_test_results)"
   ]
  },
  {
   "cell_type": "code",
   "execution_count": 68,
   "metadata": {},
   "outputs": [
    {
     "name": "stdout",
     "output_type": "stream",
     "text": [
      "0.3157825115372181\n"
     ]
    }
   ],
   "source": [
    "print(accuracy)"
   ]
  },
  {
   "cell_type": "code",
   "execution_count": 69,
   "metadata": {},
   "outputs": [],
   "source": [
    "from pyspark.sql.functions import floor"
   ]
  },
  {
   "cell_type": "code",
   "execution_count": 70,
   "metadata": {},
   "outputs": [],
   "source": [
    "floor_test_results = test_results.withColumn('prediction', floor(test_results.prediction).cast(\"double\"))"
   ]
  },
  {
   "cell_type": "code",
   "execution_count": 71,
   "metadata": {},
   "outputs": [
    {
     "name": "stdout",
     "output_type": "stream",
     "text": [
      "+------+--------------------+-------+--------+----------+\n",
      "|rating|            features|user_id|movie_id|prediction|\n",
      "+------+--------------------+-------+--------+----------+\n",
      "|     1|(64,[0,1,2,23,24,...|    774|     398|       1.0|\n",
      "|     1|(64,[0,1,2,23,24,...|    425|     398|       2.0|\n",
      "|     1|(64,[0,1,2,23,24,...|    774|     231|       2.0|\n",
      "|     1|(64,[0,1,2,23,24,...|    363|      29|       2.0|\n",
      "|     1|(64,[0,1,2,23,24,...|    246|      29|       2.0|\n",
      "|     1|(64,[0,1,2,23,24,...|    466|     231|       2.0|\n",
      "|     1|(64,[0,1,2,23,24,...|    110|     173|       3.0|\n",
      "|     1|(64,[0,1,2,23,24,...|    246|     802|       2.0|\n",
      "|     1|(64,[0,1,2,23,24,...|    484|      24|       4.0|\n",
      "|     1|(64,[0,1,2,23,24,...|    153|     172|       3.0|\n",
      "|     1|(64,[0,1,2,23,24,...|    943|     720|       3.0|\n",
      "|     1|(64,[0,1,2,23,24,...|    276|     769|       2.0|\n",
      "|     1|(64,[0,1,2,23,24,...|    773|     769|       2.0|\n",
      "|     1|(64,[0,1,2,23,24,...|    153|      50|       3.0|\n",
      "|     1|(64,[0,1,2,23,24,...|    820|     358|       2.0|\n",
      "|     1|(64,[0,1,2,23,24,...|    347|     271|       3.0|\n",
      "|     1|(64,[0,1,2,23,24,...|    933|      62|       2.0|\n",
      "|     1|(64,[0,1,2,23,24,...|    943|     230|       3.0|\n",
      "|     1|(64,[0,1,2,23,24,...|    943|     450|       2.0|\n",
      "|     1|(64,[0,1,2,23,24,...|    521|     827|       2.0|\n",
      "+------+--------------------+-------+--------+----------+\n",
      "only showing top 20 rows\n",
      "\n"
     ]
    }
   ],
   "source": [
    "floor_test_results.show()"
   ]
  },
  {
   "cell_type": "code",
   "execution_count": 72,
   "metadata": {},
   "outputs": [],
   "source": [
    "accuracy = accuracy_eval.evaluate(floor_test_results)"
   ]
  },
  {
   "cell_type": "code",
   "execution_count": 73,
   "metadata": {},
   "outputs": [
    {
     "name": "stdout",
     "output_type": "stream",
     "text": [
      "0.25323695738311675\n"
     ]
    }
   ],
   "source": [
    "print(accuracy)"
   ]
  },
  {
   "cell_type": "code",
   "execution_count": 74,
   "metadata": {},
   "outputs": [
    {
     "name": "stdout",
     "output_type": "stream",
     "text": [
      "0.17823669394344605\n"
     ]
    }
   ],
   "source": [
    "nb = NaiveBayes(labelCol=answer_col)\n",
    "model = nb.fit(training)\n",
    "test_results = model.transform(test)\n",
    "mce = MulticlassClassificationEvaluator(labelCol=answer_col)\n",
    "acc = mce.evaluate(test_results)\n",
    "print(acc)"
   ]
  },
  {
   "cell_type": "code",
   "execution_count": 75,
   "metadata": {},
   "outputs": [
    {
     "name": "stdout",
     "output_type": "stream",
     "text": [
      "0.42029897060960936\n"
     ]
    }
   ],
   "source": [
    "from pyspark.ml.classification import RandomForestClassifier\n",
    "rf = RandomForestClassifier(labelCol=answer_col, numTrees=50, maxDepth=10, seed=42)\n",
    "model = rf.fit(training)\n",
    "test_results = model.transform(test)\n",
    "mce = MulticlassClassificationEvaluator(labelCol=answer_col)\n",
    "acc = mce.evaluate(test_results)\n",
    "print(acc)"
   ]
  },
  {
   "cell_type": "code",
   "execution_count": 85,
   "metadata": {},
   "outputs": [
    {
     "name": "stdout",
     "output_type": "stream",
     "text": [
      "['rating', 'features', 'user_id', 'movie_id', 'rawPrediction', 'probability', 'prediction']\n",
      "root\n",
      " |-- prediction: double (nullable = false)\n",
      " |-- rating_d: double (nullable = true)\n",
      "\n",
      "None\n"
     ]
    }
   ],
   "source": [
    "from pyspark.mllib.evaluation import MulticlassMetrics\n",
    "print(test_results.columns)\n",
    "preds = test_results.select('rating', 'prediction').withColumn('rating_d', test_results['rating'].astype('double')).drop('rating')\n",
    "print(preds.printSchema())\n",
    "mm = MulticlassMetrics(preds.rdd)\n",
    "confusion_matrix = mm.confusionMatrix()"
   ]
  },
  {
   "cell_type": "code",
   "execution_count": 114,
   "metadata": {},
   "outputs": [
    {
     "name": "stdout",
     "output_type": "stream",
     "text": [
      "19972\n",
      "[[1.4720e-02 4.3600e-03 2.8000e-03 1.4500e-03 6.0000e-04]\n",
      " [3.5500e-03 4.7600e-03 3.0500e-03 7.5000e-04 2.0000e-04]\n",
      " [2.7140e-02 6.5990e-02 1.2142e-01 6.8000e-02 1.4470e-02]\n",
      " [1.4120e-02 3.6650e-02 1.3018e-01 2.3097e-01 1.2092e-01]\n",
      " [1.5000e-03 2.9000e-03 1.2870e-02 3.9560e-02 7.7060e-02]]\n",
      "0.44892849989985983\n"
     ]
    },
    {
     "data": {
      "text/plain": [
       "array([[ 294,   87,   56,   29,   12],\n",
       "       [  71,   95,   61,   15,    4],\n",
       "       [ 542, 1318, 2425, 1358,  289],\n",
       "       [ 282,  732, 2600, 4613, 2415],\n",
       "       [  30,   58,  257,  790, 1539]])"
      ]
     },
     "execution_count": 114,
     "metadata": {},
     "output_type": "execute_result"
    }
   ],
   "source": [
    "import numpy as np\n",
    "con = np.array(confusion_matrix.values, dtype='int32').reshape((5,5))\n",
    "print(con.sum())\n",
    "print((con/con.sum()).round(5))\n",
    "print((con/con.sum()).diagonal().sum())\n",
    "con"
   ]
  },
  {
   "cell_type": "code",
   "execution_count": 94,
   "metadata": {},
   "outputs": [
    {
     "data": {
      "text/plain": [
       "DenseMatrix(5, 5, [294.0, 87.0, 56.0, 29.0, 12.0, 71.0, 95.0, 61.0, ..., 2600.0, 4613.0, 2415.0, 30.0, 58.0, 257.0, 790.0, 1539.0], 0)"
      ]
     },
     "execution_count": 94,
     "metadata": {},
     "output_type": "execute_result"
    }
   ],
   "source": [
    "confusion_matrix.asML()"
   ]
  },
  {
   "cell_type": "code",
   "execution_count": 101,
   "metadata": {},
   "outputs": [
    {
     "name": "stdout",
     "output_type": "stream",
     "text": [
      "0.0\n"
     ]
    }
   ],
   "source": [
    "from pyspark.ml.regression import RandomForestRegressor\n",
    "rf = RandomForestRegressor(labelCol=answer_col, numTrees=50, maxDepth=10, seed=42)\n",
    "model = rf.fit(training)\n",
    "test_results = model.transform(test)\n",
    "re = RegressionEvaluator(metricName='rmse', labelCol=answer_col)\n",
    "mae = re.evaluate(test_results)\n",
    "print(mae)"
   ]
  },
  {
   "cell_type": "code",
   "execution_count": 116,
   "metadata": {},
   "outputs": [
    {
     "name": "stdout",
     "output_type": "stream",
     "text": [
      "year_rated - 0.0016229937602093506\n",
      "gender_feature - 0.0012461027000109717\n",
      "occupation_feature - 0.0013933791384578868\n",
      "unknown - 0.0007862778511677879\n",
      "Action - 0.0005193807346538636\n",
      "Adventure - 0.0005373934030449095\n",
      "Animation - 0.00038049018107633067\n",
      "Children's - 0.00046318344202714605\n",
      "Comedy - 0.00042866291873302814\n",
      "Crime - 0.0006637737356761243\n",
      "Documentary - 0.0004977402305733563\n",
      "Drama - 0.0003242295005386404\n",
      "Fantasy - 0.0005325043778420515\n",
      "Film-Noir - 0.0003038022161542015\n",
      "Horror - 0.0003149242812555039\n",
      "Musical - 0.00033184660749104576\n",
      "Mystery - 0.00036327631251334663\n",
      "Romance - 0.00010994043280099081\n",
      "Sci-Fi - 0.0002058549751313048\n",
      "Thriller - 0.00013867138491034528\n",
      "War - 0.00015676774455251305\n",
      "Western - 9.412671081521299e-05\n",
      "year_released - 0.0\n",
      "rated_released_year_diff - 0.00596387256435291\n",
      "avg(unknown) - 0.002644574686171624\n",
      "avg(Action) - 0.0011788234557086373\n",
      "avg(Adventure) - 0.002253492808967048\n",
      "avg(Animation) - 0.004267906987181656\n",
      "avg(Children's) - 0.0023477707235866475\n",
      "avg(Comedy) - 0.0006189935760988219\n",
      "avg(Crime) - 0.008815296304375322\n",
      "avg(Documentary) - 0.0003753065820434758\n",
      "avg(Drama) - 0.0005150956366853015\n",
      "avg(Fantasy) - 0.0016755086450602268\n",
      "avg(Film-Noir) - 0.0016253323915725018\n",
      "avg(Horror) - 0.0010480410544899876\n",
      "avg(Musical) - 0.0030785018854683033\n",
      "avg(Mystery) - 0.0028102313429613905\n",
      "avg(Romance) - 0.003392037711122039\n",
      "avg(Sci-Fi) - 0.0018779660068095488\n",
      "avg(Thriller) - 0.000678565836512194\n",
      "avg(War) - 0.01481038282066829\n",
      "avg(Western) - 0.012366835929162582\n",
      "popularity - 0.0003376451997374686\n",
      "avg(rating) - 0.05567317518799409\n"
     ]
    }
   ],
   "source": [
    "print(\"\\n\".join(name + \" - \" + str(val) for name, val in zip(input_cols, model.featureImportances)))"
   ]
  },
  {
   "cell_type": "code",
   "execution_count": 105,
   "metadata": {},
   "outputs": [
    {
     "name": "stdout",
     "output_type": "stream",
     "text": [
      "Train 0.8584752209725818 rating\n"
     ]
    }
   ],
   "source": [
    "re = RegressionEvaluator(metricName='rmse', labelCol=answer_col)\n",
    "mae = re.evaluate(model.transform(training))\n",
    "print(\"Train\", mae, answer_col)"
   ]
  },
  {
   "cell_type": "code",
   "execution_count": 106,
   "metadata": {},
   "outputs": [
    {
     "name": "stdout",
     "output_type": "stream",
     "text": [
      "0.7136277930335493 rating\n"
     ]
    }
   ],
   "source": [
    "re = RegressionEvaluator(metricName='mae', labelCol=answer_col)\n",
    "mae = re.evaluate(test_results)\n",
    "print(mae, answer_col)"
   ]
  },
  {
   "cell_type": "code",
   "execution_count": 115,
   "metadata": {},
   "outputs": [
    {
     "name": "stdout",
     "output_type": "stream",
     "text": [
      "0.9005223543524787 rating\n"
     ]
    }
   ],
   "source": [
    "re = RegressionEvaluator(metricName='rmse', labelCol=answer_col)\n",
    "mae = re.evaluate(test_results)\n",
    "print(mae, answer_col)"
   ]
  },
  {
   "cell_type": "code",
   "execution_count": 104,
   "metadata": {},
   "outputs": [
    {
     "name": "stdout",
     "output_type": "stream",
     "text": [
      "+------+--------------------+-------+--------+------------------+\n",
      "|rating|            features|user_id|movie_id|        prediction|\n",
      "+------+--------------------+-------+--------+------------------+\n",
      "|     1|(64,[0,1,2,23,24,...|    774|     398|1.2678262372263784|\n",
      "|     1|(64,[0,1,2,23,24,...|    425|     398| 2.031977587407364|\n",
      "|     1|(64,[0,1,2,23,24,...|    774|     231|1.5971554070974208|\n",
      "|     1|(64,[0,1,2,23,24,...|    363|      29| 2.443847432533645|\n",
      "|     1|(64,[0,1,2,23,24,...|    246|      29| 2.221701723523152|\n",
      "|     1|(64,[0,1,2,23,24,...|    466|     231|2.6036329056100875|\n",
      "|     1|(64,[0,1,2,23,24,...|    110|     173|3.8522454217675968|\n",
      "|     1|(64,[0,1,2,23,24,...|    246|     802|2.2138041684316154|\n",
      "|     1|(64,[0,1,2,23,24,...|    484|      24| 4.033611272755383|\n",
      "|     1|(64,[0,1,2,23,24,...|    153|     172| 2.980772867102687|\n",
      "+------+--------------------+-------+--------+------------------+\n",
      "only showing top 10 rows\n",
      "\n"
     ]
    }
   ],
   "source": [
    "test_results.show(n=10)"
   ]
  },
  {
   "cell_type": "code",
   "execution_count": 118,
   "metadata": {},
   "outputs": [],
   "source": [
    "from pyspark.ml.regression import RandomForestRegressor\n",
    "rf_full = RandomForestRegressor(labelCol=answer_col, numTrees=50, maxDepth=10, seed=42)\n",
    "full_model = rf_full.fit(data)"
   ]
  },
  {
   "cell_type": "code",
   "execution_count": 131,
   "metadata": {},
   "outputs": [],
   "source": [
    "avg_ratings_df = avg_ratings_df.repartition(1)\n",
    "average_movie_rating = average_movie_rating.repartition(1)\n",
    "popularity = popularity.repartition(1)\n",
    "users = users.repartition(1)\n",
    "movies = movies.repartition(1)"
   ]
  },
  {
   "cell_type": "code",
   "execution_count": 142,
   "metadata": {},
   "outputs": [
    {
     "name": "stdout",
     "output_type": "stream",
     "text": [
      "+-------+------------------+--------------------+------------+------------------+--------------------+--------------------+-------------------+------------------+-------------------+-------------------+-------------------+-------------------+--------------------+-------------------+--------------------+--------------------+--------------------+-------------------+-------------------+-------------------+-------------------+------------------+-------------------+-------------------+------------------+\n",
      "|summary|          movie_id|         movie_title|release_date|video_release_date|            IMDb_URL|             unknown|             Action|         Adventure|          Animation|         Children's|             Comedy|              Crime|         Documentary|              Drama|             Fantasy|           Film-Noir|              Horror|            Musical|            Mystery|            Romance|             Sci-Fi|          Thriller|                War|            Western|     year_released|\n",
      "+-------+------------------+--------------------+------------+------------------+--------------------+--------------------+-------------------+------------------+-------------------+-------------------+-------------------+-------------------+--------------------+-------------------+--------------------+--------------------+--------------------+-------------------+-------------------+-------------------+-------------------+------------------+-------------------+-------------------+------------------+\n",
      "|  count|              1682|                1682|        1681|                 0|                1679|                1682|               1682|              1682|               1682|               1682|               1682|               1682|                1682|               1682|                1682|                1682|                1682|               1682|               1682|               1682|               1682|              1682|               1682|               1682|              1681|\n",
      "|   mean|             841.5|                null|        null|              null|                null|0.001189060642092...| 0.1492271105826397|0.0802615933412604|0.02497027348394768|0.07253269916765755|0.30023781212841855|0.06480380499405469|0.029726516052318668|0.43103448275862066|0.013079667063020214|0.014268727705112961|0.054696789536266346|0.03329369797859691|0.03626634958382877|0.14684898929845422|0.06004756242568371|0.1492271105826397|0.04221165279429251|0.01605231866825208|1989.3860797144557|\n",
      "| stddev|485.69589250888254|                null|        null|              null|                null|0.034472500474212284|0.35641816109515484|0.2717785571305444|0.15608088423430846|0.25944503383362605| 0.4584976014014335| 0.2462525621467922| 0.16988233706244027| 0.4953681954046321| 0.11364976236574524| 0.11863177582846385|  0.2274550708557175|0.17945577207322622| 0.1870077359968219|0.35406057857880563| 0.2376455954301871|0.3564181610951548|0.20113149982303108| 0.1257141110346824|  14.2535800487298|\n",
      "|    min|                 1|'Til There Was Yo...| 01-Aug-1997|              null|http://us.imdb.co...|                   0|                  0|                 0|                  0|                  0|                  0|                  0|                   0|                  0|                   0|                   0|                   0|                  0|                  0|                  0|                  0|                 0|                  0|                  0|              1922|\n",
      "|    max|              1682|� k�ldum klaka (C...|  4-Feb-1971|              null|http://us.imdb.co...|                   1|                  1|                 1|                  1|                  1|                  1|                  1|                   1|                  1|                   1|                   1|                   1|                  1|                  1|                  1|                  1|                 1|                  1|                  1|              1998|\n",
      "+-------+------------------+--------------------+------------+------------------+--------------------+--------------------+-------------------+------------------+-------------------+-------------------+-------------------+-------------------+--------------------+-------------------+--------------------+--------------------+--------------------+-------------------+-------------------+-------------------+-------------------+------------------+-------------------+-------------------+------------------+\n",
      "\n"
     ]
    }
   ],
   "source": [
    "movies.describe().show()"
   ]
  },
  {
   "cell_type": "code",
   "execution_count": 146,
   "metadata": {},
   "outputs": [
    {
     "name": "stdout",
     "output_type": "stream",
     "text": [
      "['user_id', 'age', 'gender_feature', 'occupation_feature']\n",
      "['user_id', 'age', 'gender_feature', 'occupation_feature', 'movie_id', 'unknown', 'Action', 'Adventure', 'Animation', \"Children's\", 'Comedy', 'Crime', 'Documentary', 'Drama', 'Fantasy', 'Film-Noir', 'Horror', 'Musical', 'Mystery', 'Romance', 'Sci-Fi', 'Thriller', 'War', 'Western', 'year_released']\n",
      "['user_id', 'age', 'gender_feature', 'occupation_feature', 'movie_id', 'unknown', 'Action', 'Adventure', 'Animation', \"Children's\", 'Comedy', 'Crime', 'Documentary', 'Drama', 'Fantasy', 'Film-Noir', 'Horror', 'Musical', 'Mystery', 'Romance', 'Sci-Fi', 'Thriller', 'War', 'Western', 'year_released', 'year_rated', 'rated_released_year_diff']\n",
      "+-------+-------+----+------------------+--------------------+-------------------+------------------+-------------------+-------------------+-------------------+-------------------+--------------------+-------------------+--------------------+--------------------+--------------------+-------------------+-------------------+-------------------+-------------------+------------------+-------------------+-------------------+------------------+----------+------------------------+\n",
      "|summary|user_id| age|          movie_id|             unknown|             Action|         Adventure|          Animation|         Children's|             Comedy|              Crime|         Documentary|              Drama|             Fantasy|           Film-Noir|              Horror|            Musical|            Mystery|            Romance|             Sci-Fi|          Thriller|                War|            Western|     year_released|year_rated|rated_released_year_diff|\n",
      "+-------+-------+----+------------------+--------------------+-------------------+------------------+-------------------+-------------------+-------------------+-------------------+--------------------+-------------------+--------------------+--------------------+--------------------+-------------------+-------------------+-------------------+-------------------+------------------+-------------------+-------------------+------------------+----------+------------------------+\n",
      "|  count|   1682|1682|              1682|                1682|               1682|              1682|               1682|               1682|               1682|               1682|                1682|               1682|                1682|                1682|                1682|               1682|               1682|               1682|               1682|              1682|               1682|               1682|              1682|      1682|                    1682|\n",
      "|   mean|  122.0|32.0|             841.5|0.001189060642092...| 0.1492271105826397|0.0802615933412604|0.02497027348394768|0.07253269916765755|0.30023781212841855|0.06480380499405469|0.029726516052318668|0.43103448275862066|0.013079667063020214|0.014268727705112961|0.054696789536266346|0.03329369797859691|0.03626634958382877|0.14684898929845422|0.06004756242568371|0.1492271105826397|0.04221165279429251|0.01605231866825208|1989.3906064209275|    2018.0|      29.784185493460168|\n",
      "| stddev|    0.0| 0.0|485.69589250888254|0.034472500474212284|0.35641816109515484|0.2717785571305444|0.15608088423430846|0.25944503383362605| 0.4584976014014335| 0.2462525621467922| 0.16988233706244027| 0.4953681954046321| 0.11364976236574524| 0.11863177582846385|  0.2274550708557175|0.17945577207322622| 0.1870077359968219|0.35406057857880563| 0.2376455954301871|0.3564181610951548|0.20113149982303108| 0.1257141110346824| 14.25054914210497|       0.0|      50.065731091286494|\n",
      "|    min|    122|  32|                 1|                   0|                  0|                 0|                  0|                  0|                  0|                  0|                   0|                  0|                   0|                   0|                   0|                  0|                  0|                  0|                  0|                 0|                  0|                  0|              1922|      2018|                      20|\n",
      "|    max|    122|  32|              1682|                   1|                  1|                 1|                  1|                  1|                  1|                  1|                   1|                  1|                   1|                   1|                   1|                  1|                  1|                  1|                  1|                 1|                  1|                  1|              1998|      2018|                    1997|\n",
      "+-------+-------+----+------------------+--------------------+-------------------+------------------+-------------------+-------------------+-------------------+-------------------+--------------------+-------------------+--------------------+--------------------+--------------------+-------------------+-------------------+-------------------+-------------------+------------------+-------------------+-------------------+------------------+----------+------------------------+\n",
      "\n",
      "+--------------------+-------+--------+\n",
      "|            features|user_id|movie_id|\n",
      "+--------------------+-------+--------+\n",
      "|(64,[0,9,23,24,41...|    122|     148|\n",
      "|(64,[0,9,24,41,42...|    122|     463|\n",
      "|(64,[0,9,30,39,41...|    122|     471|\n",
      "|(64,[0,9,30,41,42...|    122|     496|\n",
      "|(64,[0,9,23,41,42...|    122|     833|\n",
      "|(64,[0,9,23,41,42...|    122|    1088|\n",
      "|(64,[0,9,30,41,42...|    122|    1238|\n",
      "|(64,[0,9,30,41,42...|    122|    1342|\n",
      "|(64,[0,9,36,41,42...|    122|    1580|\n",
      "|(64,[0,9,30,41,42...|    122|    1591|\n",
      "|(64,[0,9,30,41,42...|    122|    1645|\n",
      "|(64,[0,9,26,27,41...|    122|     243|\n",
      "|(64,[0,9,30,41,42...|    122|     392|\n",
      "|(64,[0,9,23,41,42...|    122|     540|\n",
      "|(64,[0,9,26,27,41...|    122|     623|\n",
      "|(64,[0,9,27,30,41...|    122|     737|\n",
      "|(64,[0,9,33,41,42...|    122|     858|\n",
      "|(64,[0,9,23,24,37...|    122|     897|\n",
      "|(64,[0,9,23,30,38...|    122|    1025|\n",
      "|(64,[0,9,29,41,42...|    122|    1084|\n",
      "+--------------------+-------+--------+\n",
      "only showing top 20 rows\n",
      "\n",
      "+--------------------+-------+--------+------------------+\n",
      "|            features|user_id|movie_id|        prediction|\n",
      "+--------------------+-------+--------+------------------+\n",
      "|(64,[0,9,23,24,41...|    122|     148| 3.793816123546087|\n",
      "|(64,[0,9,24,41,42...|    122|     463|3.9870501042539717|\n",
      "|(64,[0,9,30,39,41...|    122|     471| 3.849934263611937|\n",
      "|(64,[0,9,30,41,42...|    122|     496| 4.163381135983301|\n",
      "|(64,[0,9,23,41,42...|    122|     833|3.8131946213326877|\n",
      "|(64,[0,9,23,41,42...|    122|    1088| 3.207154408968208|\n",
      "|(64,[0,9,30,41,42...|    122|    1238| 3.679257168241914|\n",
      "|(64,[0,9,30,41,42...|    122|    1342|3.3839856355515643|\n",
      "|(64,[0,9,36,41,42...|    122|    1580| 3.109876201480548|\n",
      "|(64,[0,9,30,41,42...|    122|    1591| 3.678895892021984|\n",
      "|(64,[0,9,30,41,42...|    122|    1645| 4.110325148935797|\n",
      "|(64,[0,9,26,27,41...|    122|     243|3.2594199064006064|\n",
      "|(64,[0,9,30,41,42...|    122|     392|3.8636069464252154|\n",
      "|(64,[0,9,23,41,42...|    122|     540| 3.462974533958379|\n",
      "|(64,[0,9,26,27,41...|    122|     623|3.7399400168639096|\n",
      "|(64,[0,9,27,30,41...|    122|     737| 3.682399315057328|\n",
      "|(64,[0,9,33,41,42...|    122|     858|3.2207804540092604|\n",
      "|(64,[0,9,23,24,37...|    122|     897|3.3360344557030284|\n",
      "|(64,[0,9,23,30,38...|    122|    1025|3.6706336043837386|\n",
      "|(64,[0,9,29,41,42...|    122|    1084|3.9802708190422957|\n",
      "+--------------------+-------+--------+------------------+\n",
      "only showing top 20 rows\n",
      "\n"
     ]
    }
   ],
   "source": [
    "def recommend(user_id, model, time=2018):\n",
    "    from pyspark.sql.functions import lit\n",
    "    d = users.filter(users.user_id == user_id).select('user_id','age','gender_feature','occupation_feature')\n",
    "    print(d.columns)\n",
    "    d = d.crossJoin(movies.drop('movie_title', 'release_date', 'video_release_date', 'IMDb_URL'))\n",
    "    print(d.columns)\n",
    "    #.show()\n",
    "    d = d.repartition(1)\n",
    "    d = d.withColumn('year_rated', lit(time))\n",
    "    d = d.withColumn('rated_released_year_diff', d.year_rated - d.year_released)\n",
    "    print(d.columns)\n",
    "    d = d.fillna(1997)\n",
    "    d.describe().show()\n",
    "    #avg_ratings_df_p = avg_ratings_df.repartition(1)\n",
    "    #average_movie_rating_p = average_movie_rating.repartition(1)\n",
    "    #popularity_p = popularity.repartition(1)\n",
    "    \n",
    "    d = d.join(avg_ratings_df, 'user_id')\n",
    "    d = d.join(average_movie_rating, 'movie_id')\n",
    "    d = d.join(popularity, 'movie_id')\n",
    "    d = d.dropna()\n",
    "    assembler = VectorAssembler(inputCols=input_cols, outputCol=features_col)\n",
    "    d = assembler.transform(d)\n",
    "    d = d.select(features_col, 'user_id', 'movie_id')\n",
    "    d = d.repartition(1)\n",
    "    #print(d.count(), d.printSchema())\n",
    "    \n",
    "    d.show()\n",
    "    predictions = model.transform(d)\n",
    "    \n",
    "    return predictions\n",
    "preds = recommend(122, full_model)\n",
    "preds.show()"
   ]
  },
  {
   "cell_type": "code",
   "execution_count": null,
   "metadata": {},
   "outputs": [],
   "source": [
    "from pyspark.ml.recommendation import ALS"
   ]
  },
  {
   "cell_type": "code",
   "execution_count": null,
   "metadata": {},
   "outputs": [],
   "source": [
    "als = ALS(maxIter=5,regParam=0.01,userCol='user_id',itemCol='movie_id',ratingCol='rating')"
   ]
  },
  {
   "cell_type": "code",
   "execution_count": null,
   "metadata": {},
   "outputs": [],
   "source": [
    "model = als.fit(training)"
   ]
  },
  {
   "cell_type": "code",
   "execution_count": null,
   "metadata": {},
   "outputs": [],
   "source": [
    "test_results = model.transform(test)"
   ]
  },
  {
   "cell_type": "code",
   "execution_count": null,
   "metadata": {},
   "outputs": [],
   "source": [
    "test_results.show()"
   ]
  },
  {
   "cell_type": "code",
   "execution_count": null,
   "metadata": {},
   "outputs": [],
   "source": [
    "test_results = test_results.dropna(subset=['prediction'])"
   ]
  },
  {
   "cell_type": "code",
   "execution_count": null,
   "metadata": {},
   "outputs": [],
   "source": [
    "mae = mae_eval.evaluate(test_results)"
   ]
  },
  {
   "cell_type": "code",
   "execution_count": null,
   "metadata": {},
   "outputs": [],
   "source": [
    "print(mae)"
   ]
  },
  {
   "cell_type": "code",
   "execution_count": null,
   "metadata": {},
   "outputs": [],
   "source": [
    "rounded_test_results = test_results.withColumn('prediction', round(test_results.prediction).cast('double'))"
   ]
  },
  {
   "cell_type": "code",
   "execution_count": null,
   "metadata": {},
   "outputs": [],
   "source": [
    "rounded_test_results.show()"
   ]
  },
  {
   "cell_type": "code",
   "execution_count": null,
   "metadata": {},
   "outputs": [],
   "source": [
    "acc = accuracy_eval.evaluate(rounded_test_results)"
   ]
  },
  {
   "cell_type": "code",
   "execution_count": null,
   "metadata": {},
   "outputs": [],
   "source": [
    "print(acc)"
   ]
  },
  {
   "cell_type": "code",
   "execution_count": null,
   "metadata": {},
   "outputs": [],
   "source": []
  }
 ],
 "metadata": {
  "kernelspec": {
   "display_name": "Python 3",
   "language": "python",
   "name": "python3"
  },
  "language_info": {
   "codemirror_mode": {
    "name": "ipython",
    "version": 3
   },
   "file_extension": ".py",
   "mimetype": "text/x-python",
   "name": "python",
   "nbconvert_exporter": "python",
   "pygments_lexer": "ipython3",
   "version": "3.6.3"
  }
 },
 "nbformat": 4,
 "nbformat_minor": 2
}
