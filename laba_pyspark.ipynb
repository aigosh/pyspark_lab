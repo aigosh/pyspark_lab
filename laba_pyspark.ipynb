{
 "cells": [
  {
   "cell_type": "markdown",
   "metadata": {},
   "source": [
    "# Лабораторная работа 2\n",
    "Выполнили: Елизарова Юлия, Игошин Андрей, Кипаренко Илья, Кириленко Юлия, Клыков Вячеслав, Лепигина Анастасия"
   ]
  },
  {
   "cell_type": "code",
   "execution_count": 42,
   "metadata": {
    "collapsed": true
   },
   "outputs": [],
   "source": [
    "from pyspark.sql import SparkSession\n",
    "from pyspark.ml.recommendation import ALS\n",
    "from pyspark.ml.evaluation import RegressionEvaluator\n",
    "from pyspark.ml.feature import OneHotEncoder\n",
    "from pyspark.ml.feature import StringIndexer\n",
    "from pyspark.ml.feature import MinMaxScaler"
   ]
  },
  {
   "cell_type": "code",
   "execution_count": 43,
   "metadata": {},
   "outputs": [
    {
     "name": "stdout",
     "output_type": "stream",
     "text": [
      "Installing /Users/stacey/anaconda/lib/python3.6/site-packages/sparkmonitor/static -> sparkmonitor\n",
      "- Validating: \u001b[32mOK\u001b[0m\n",
      "\n",
      "    To initialize this nbextension in the browser every time the notebook (or other app) loads:\n",
      "    \n",
      "          jupyter nbextension enable sparkmonitor --user --py\n",
      "    \n",
      "Enabling notebook extension sparkmonitor/module...\n",
      "      - Validating: \u001b[32mOK\u001b[0m\n",
      "Enabling: sparkmonitor.serverextension\n",
      "- Writing config: /Users/stacey/.jupyter\n",
      "    - Validating...\n",
      "      sparkmonitor.serverextension  \u001b[32mOK\u001b[0m\n"
     ]
    }
   ],
   "source": [
    "import sparkmonitor\n",
    "!jupyter nbextension install sparkmonitor --py --user --symlink \n",
    "!jupyter nbextension enable sparkmonitor --py --user            \n",
    "!jupyter serverextension enable --py --user sparkmonitor\n",
    "!ipython profile create && echo \"c.InteractiveShellApp.extensions.append('sparkmonitor.kernelextension')\" >>  $(ipython profile locate default)/ipython_kernel_config.py"
   ]
  },
  {
   "cell_type": "code",
   "execution_count": 44,
   "metadata": {
    "collapsed": true
   },
   "outputs": [],
   "source": [
    "from pyspark import SparkContext\n",
    "sc=SparkContext.getOrCreate(conf=conf) #Start the spark context"
   ]
  },
  {
   "cell_type": "code",
   "execution_count": 45,
   "metadata": {
    "collapsed": true
   },
   "outputs": [],
   "source": [
    "spark = SparkSession.builder.appName('MovieRatingsProject').getOrCreate()"
   ]
  },
  {
   "cell_type": "code",
   "execution_count": 46,
   "metadata": {},
   "outputs": [
    {
     "name": "stdout",
     "output_type": "stream",
     "text": [
      "+--------------+\n",
      "|           _c0|\n",
      "+--------------+\n",
      "|     943 users|\n",
      "|    1682 items|\n",
      "|100000 ratings|\n",
      "+--------------+\n",
      "\n"
     ]
    }
   ],
   "source": [
    "info = spark.read.csv('ml-100k/u.info',inferSchema=True,sep='\\t')\n",
    "info.show()"
   ]
  },
  {
   "cell_type": "markdown",
   "metadata": {},
   "source": [
    "Датасет содержит 100 000 оценок 934 пользователями 1682 фильмов. Каждый пользователь оценил не менее 20 фильмов."
   ]
  },
  {
   "cell_type": "code",
   "execution_count": 47,
   "metadata": {},
   "outputs": [
    {
     "name": "stdout",
     "output_type": "stream",
     "text": [
      "+-------+--------+------+---------+\n",
      "|user_id|movie_id|rating|timestamp|\n",
      "+-------+--------+------+---------+\n",
      "|    196|     242|     3|881250949|\n",
      "|    186|     302|     3|891717742|\n",
      "|     22|     377|     1|878887116|\n",
      "|    244|      51|     2|880606923|\n",
      "|    166|     346|     1|886397596|\n",
      "|    298|     474|     4|884182806|\n",
      "|    115|     265|     2|881171488|\n",
      "|    253|     465|     5|891628467|\n",
      "|    305|     451|     3|886324817|\n",
      "|      6|      86|     3|883603013|\n",
      "|     62|     257|     2|879372434|\n",
      "|    286|    1014|     5|879781125|\n",
      "|    200|     222|     5|876042340|\n",
      "|    210|      40|     3|891035994|\n",
      "|    224|      29|     3|888104457|\n",
      "|    303|     785|     3|879485318|\n",
      "|    122|     387|     5|879270459|\n",
      "|    194|     274|     2|879539794|\n",
      "|    291|    1042|     4|874834944|\n",
      "|    234|    1184|     2|892079237|\n",
      "+-------+--------+------+---------+\n",
      "only showing top 20 rows\n",
      "\n"
     ]
    }
   ],
   "source": [
    "data = spark.read.csv('ml-100k/u.data',inferSchema=True,sep='\\t')\n",
    "data = data.withColumnRenamed('_c0','user_id').withColumnRenamed('_c1','movie_id').withColumnRenamed('_c2','rating').withColumnRenamed('_c3','timestamp')\n",
    "data.show()"
   ]
  },
  {
   "cell_type": "markdown",
   "metadata": {},
   "source": [
    "Информация о каждом фильме включает в себя название, даты выхода в прокат и появления в магазинах, ссылку на IMDB и жанр. Причем один фильм может быть отнесен к нескольким жанрам. "
   ]
  },
  {
   "cell_type": "code",
   "execution_count": 57,
   "metadata": {},
   "outputs": [
    {
     "name": "stdout",
     "output_type": "stream",
     "text": [
      "+---+--------------------+------------+------------------+--------------------+-------+------+---------+---------+----------+------+-----+-----------+-----+-------+---------+------+-------+-------+-------+------+--------+---+-------+\n",
      "| id|         movie_title|release_date|video_release_date|            IMDb_URL|unknown|Action|Adventure|Animation|Children's|Comedy|Crime|Documentary|Drama|Fantasy|Film-Noir|Horror|Musical|Mystery|Romance|Sci-Fi|Thriller|War|Western|\n",
      "+---+--------------------+------------+------------------+--------------------+-------+------+---------+---------+----------+------+-----+-----------+-----+-------+---------+------+-------+-------+-------+------+--------+---+-------+\n",
      "|  1|    Toy Story (1995)| 01-Jan-1995|              null|http://us.imdb.co...|      0|     0|        0|        1|         1|     1|    0|          0|    0|      0|        0|     0|      0|      0|      0|     0|       0|  0|      0|\n",
      "|  2|    GoldenEye (1995)| 01-Jan-1995|              null|http://us.imdb.co...|      0|     1|        1|        0|         0|     0|    0|          0|    0|      0|        0|     0|      0|      0|      0|     0|       1|  0|      0|\n",
      "|  3|   Four Rooms (1995)| 01-Jan-1995|              null|http://us.imdb.co...|      0|     0|        0|        0|         0|     0|    0|          0|    0|      0|        0|     0|      0|      0|      0|     0|       1|  0|      0|\n",
      "|  4|   Get Shorty (1995)| 01-Jan-1995|              null|http://us.imdb.co...|      0|     1|        0|        0|         0|     1|    0|          0|    1|      0|        0|     0|      0|      0|      0|     0|       0|  0|      0|\n",
      "|  5|      Copycat (1995)| 01-Jan-1995|              null|http://us.imdb.co...|      0|     0|        0|        0|         0|     0|    1|          0|    1|      0|        0|     0|      0|      0|      0|     0|       1|  0|      0|\n",
      "|  6|Shanghai Triad (Y...| 01-Jan-1995|              null|http://us.imdb.co...|      0|     0|        0|        0|         0|     0|    0|          0|    1|      0|        0|     0|      0|      0|      0|     0|       0|  0|      0|\n",
      "|  7|Twelve Monkeys (1...| 01-Jan-1995|              null|http://us.imdb.co...|      0|     0|        0|        0|         0|     0|    0|          0|    1|      0|        0|     0|      0|      0|      0|     1|       0|  0|      0|\n",
      "|  8|         Babe (1995)| 01-Jan-1995|              null|http://us.imdb.co...|      0|     0|        0|        0|         1|     1|    0|          0|    1|      0|        0|     0|      0|      0|      0|     0|       0|  0|      0|\n",
      "|  9|Dead Man Walking ...| 01-Jan-1995|              null|http://us.imdb.co...|      0|     0|        0|        0|         0|     0|    0|          0|    1|      0|        0|     0|      0|      0|      0|     0|       0|  0|      0|\n",
      "| 10|  Richard III (1995)| 22-Jan-1996|              null|http://us.imdb.co...|      0|     0|        0|        0|         0|     0|    0|          0|    1|      0|        0|     0|      0|      0|      0|     0|       0|  1|      0|\n",
      "| 11|Seven (Se7en) (1995)| 01-Jan-1995|              null|http://us.imdb.co...|      0|     0|        0|        0|         0|     0|    1|          0|    0|      0|        0|     0|      0|      0|      0|     0|       1|  0|      0|\n",
      "| 12|Usual Suspects, T...| 14-Aug-1995|              null|http://us.imdb.co...|      0|     0|        0|        0|         0|     0|    1|          0|    0|      0|        0|     0|      0|      0|      0|     0|       1|  0|      0|\n",
      "| 13|Mighty Aphrodite ...| 30-Oct-1995|              null|http://us.imdb.co...|      0|     0|        0|        0|         0|     1|    0|          0|    0|      0|        0|     0|      0|      0|      0|     0|       0|  0|      0|\n",
      "| 14|  Postino, Il (1994)| 01-Jan-1994|              null|http://us.imdb.co...|      0|     0|        0|        0|         0|     0|    0|          0|    1|      0|        0|     0|      0|      0|      1|     0|       0|  0|      0|\n",
      "| 15|Mr. Holland's Opu...| 29-Jan-1996|              null|http://us.imdb.co...|      0|     0|        0|        0|         0|     0|    0|          0|    1|      0|        0|     0|      0|      0|      0|     0|       0|  0|      0|\n",
      "| 16|French Twist (Gaz...| 01-Jan-1995|              null|http://us.imdb.co...|      0|     0|        0|        0|         0|     1|    0|          0|    0|      0|        0|     0|      0|      0|      1|     0|       0|  0|      0|\n",
      "| 17|From Dusk Till Da...| 05-Feb-1996|              null|http://us.imdb.co...|      0|     1|        0|        0|         0|     1|    1|          0|    0|      0|        0|     1|      0|      0|      0|     0|       1|  0|      0|\n",
      "| 18|White Balloon, Th...| 01-Jan-1995|              null|http://us.imdb.co...|      0|     0|        0|        0|         0|     0|    0|          0|    1|      0|        0|     0|      0|      0|      0|     0|       0|  0|      0|\n",
      "| 19|Antonia's Line (1...| 01-Jan-1995|              null|http://us.imdb.co...|      0|     0|        0|        0|         0|     0|    0|          0|    1|      0|        0|     0|      0|      0|      0|     0|       0|  0|      0|\n",
      "| 20|Angels and Insect...| 01-Jan-1995|              null|http://us.imdb.co...|      0|     0|        0|        0|         0|     0|    0|          0|    1|      0|        0|     0|      0|      0|      1|     0|       0|  0|      0|\n",
      "+---+--------------------+------------+------------------+--------------------+-------+------+---------+---------+----------+------+-----+-----------+-----+-------+---------+------+-------+-------+-------+------+--------+---+-------+\n",
      "only showing top 20 rows\n",
      "\n"
     ]
    }
   ],
   "source": [
    "movies = spark.read.csv('ml-100k/u.item', inferSchema=True, sep='|')\n",
    "names = ['id', 'movie_title', 'release_date', 'video_release_date', 'IMDb_URL', 'unknown', 'Action', 'Adventure', 'Animation', \"Children's\", 'Comedy', 'Crime', 'Documentary', 'Drama', 'Fantasy', 'Film-Noir', 'Horror', 'Musical', 'Mystery', 'Romance', 'Sci-Fi', 'Thriller', 'War', 'Western']\n",
    "for i in range(len(names)):\n",
    "    movies = movies.withColumnRenamed('_c'+str(i), names[i])\n",
    "movies.show()"
   ]
  },
  {
   "cell_type": "markdown",
   "metadata": {},
   "source": [
    "Информация о каждом пользователе включает в себя возраст, пол, профессию и почтовый индекс."
   ]
  },
  {
   "cell_type": "code",
   "execution_count": 58,
   "metadata": {
    "scrolled": true
   },
   "outputs": [
    {
     "name": "stdout",
     "output_type": "stream",
     "text": [
      "+---+---+------+-------------+--------+\n",
      "| id|age|gender|   occupation|zip_code|\n",
      "+---+---+------+-------------+--------+\n",
      "|  1| 24|     M|   technician|   85711|\n",
      "|  2| 53|     F|        other|   94043|\n",
      "|  3| 23|     M|       writer|   32067|\n",
      "|  4| 24|     M|   technician|   43537|\n",
      "|  5| 33|     F|        other|   15213|\n",
      "|  6| 42|     M|    executive|   98101|\n",
      "|  7| 57|     M|administrator|   91344|\n",
      "|  8| 36|     M|administrator|   05201|\n",
      "|  9| 29|     M|      student|   01002|\n",
      "| 10| 53|     M|       lawyer|   90703|\n",
      "| 11| 39|     F|        other|   30329|\n",
      "| 12| 28|     F|        other|   06405|\n",
      "| 13| 47|     M|     educator|   29206|\n",
      "| 14| 45|     M|    scientist|   55106|\n",
      "| 15| 49|     F|     educator|   97301|\n",
      "| 16| 21|     M|entertainment|   10309|\n",
      "| 17| 30|     M|   programmer|   06355|\n",
      "| 18| 35|     F|        other|   37212|\n",
      "| 19| 40|     M|    librarian|   02138|\n",
      "| 20| 42|     F|    homemaker|   95660|\n",
      "+---+---+------+-------------+--------+\n",
      "only showing top 20 rows\n",
      "\n"
     ]
    }
   ],
   "source": [
    "users = spark.read.csv('ml-100k/u.user', inferSchema=True, sep='|')\n",
    "names = ['id', 'age', 'gender', 'occupation', 'zip_code']\n",
    "for i in range(len(names)):\n",
    "    users = users.withColumnRenamed('_c'+str(i), names[i])\n",
    "users.show()"
   ]
  },
  {
   "cell_type": "markdown",
   "metadata": {},
   "source": [
    "Для получения целостного датасета было принято решение собрать датафреймы с оценками и информацией о фильмах и пользователях в один."
   ]
  },
  {
   "cell_type": "code",
   "execution_count": 60,
   "metadata": {
    "scrolled": true
   },
   "outputs": [
    {
     "name": "stdout",
     "output_type": "stream",
     "text": [
      "+-------+--------+------+---+------+----------+-------+------+---------+---------+----------+------+-----+-----------+-----+-------+---------+------+-------+-------+-------+------+--------+---+-------+\n",
      "|user_id|movie_id|rating|age|gender|occupation|unknown|Action|Adventure|Animation|Children's|Comedy|Crime|Documentary|Drama|Fantasy|Film-Noir|Horror|Musical|Mystery|Romance|Sci-Fi|Thriller|War|Western|\n",
      "+-------+--------+------+---+------+----------+-------+------+---------+---------+----------+------+-----+-----------+-----+-------+---------+------+-------+-------+-------+------+--------+---+-------+\n",
      "|    251|     148|     2| 28|     M|    doctor|      0|     1|        1|        0|         0|     0|    0|          0|    0|      0|        0|     0|      0|      0|      0|     0|       0|  0|      0|\n",
      "|    580|     148|     4| 16|     M|   student|      0|     1|        1|        0|         0|     0|    0|          0|    0|      0|        0|     0|      0|      0|      0|     0|       0|  0|      0|\n",
      "|    633|     148|     1| 35|     M|programmer|      0|     1|        1|        0|         0|     0|    0|          0|    0|      0|        0|     0|      0|      0|      0|     0|       0|  0|      0|\n",
      "|    642|     148|     5| 18|     F|   student|      0|     1|        1|        0|         0|     0|    0|          0|    0|      0|        0|     0|      0|      0|      0|     0|       0|  0|      0|\n",
      "|    406|     148|     3| 52|     M|  educator|      0|     1|        1|        0|         0|     0|    0|          0|    0|      0|        0|     0|      0|      0|      0|     0|       0|  0|      0|\n",
      "|     26|     148|     3| 49|     M|  engineer|      0|     1|        1|        0|         0|     0|    0|          0|    0|      0|        0|     0|      0|      0|      0|     0|       0|  0|      0|\n",
      "|     27|     148|     3| 40|     F| librarian|      0|     1|        1|        0|         0|     0|    0|          0|    0|      0|        0|     0|      0|      0|      0|     0|       0|  0|      0|\n",
      "|    332|     148|     5| 20|     M|   student|      0|     1|        1|        0|         0|     0|    0|          0|    0|      0|        0|     0|      0|      0|      0|     0|       0|  0|      0|\n",
      "|     44|     148|     4| 26|     M|technician|      0|     1|        1|        0|         0|     0|    0|          0|    0|      0|        0|     0|      0|      0|      0|     0|       0|  0|      0|\n",
      "|    271|     148|     3| 51|     M|  engineer|      0|     1|        1|        0|         0|     0|    0|          0|    0|      0|        0|     0|      0|      0|      0|     0|       0|  0|      0|\n",
      "|    606|     148|     3| 28|     M|programmer|      0|     1|        1|        0|         0|     0|    0|          0|    0|      0|        0|     0|      0|      0|      0|     0|       0|  0|      0|\n",
      "|    916|     148|     2| 27|     M|  engineer|      0|     1|        1|        0|         0|     0|    0|          0|    0|      0|        0|     0|      0|      0|      0|     0|       0|  0|      0|\n",
      "|    236|     148|     4| 44|     F|    writer|      0|     1|        1|        0|         0|     0|    0|          0|    0|      0|        0|     0|      0|      0|      0|     0|       0|  0|      0|\n",
      "|    602|     148|     4| 47|     F|     other|      0|     1|        1|        0|         0|     0|    0|          0|    0|      0|        0|     0|      0|      0|      0|     0|       0|  0|      0|\n",
      "|    663|     148|     4| 26|     M|     other|      0|     1|        1|        0|         0|     0|    0|          0|    0|      0|        0|     0|      0|      0|      0|     0|       0|  0|      0|\n",
      "|    222|     148|     2| 29|     M|programmer|      0|     1|        1|        0|         0|     0|    0|          0|    0|      0|        0|     0|      0|      0|      0|     0|       0|  0|      0|\n",
      "|    601|     148|     3| 19|     F|    artist|      0|     1|        1|        0|         0|     0|    0|          0|    0|      0|        0|     0|      0|      0|      0|     0|       0|  0|      0|\n",
      "|    330|     148|     4| 35|     F|  educator|      0|     1|        1|        0|         0|     0|    0|          0|    0|      0|        0|     0|      0|      0|      0|     0|       0|  0|      0|\n",
      "|    372|     148|     5| 25|     F|   student|      0|     1|        1|        0|         0|     0|    0|          0|    0|      0|        0|     0|      0|      0|      0|     0|       0|  0|      0|\n",
      "|    727|     148|     2| 25|     M|   student|      0|     1|        1|        0|         0|     0|    0|          0|    0|      0|        0|     0|      0|      0|      0|     0|       0|  0|      0|\n",
      "+-------+--------+------+---+------+----------+-------+------+---------+---------+----------+------+-----+-----------+-----+-------+---------+------+-------+-------+-------+------+--------+---+-------+\n",
      "only showing top 20 rows\n",
      "\n"
     ]
    }
   ],
   "source": [
    "joined_df = data.join(users, data.user_id == users.id, 'outer').drop('zip_code', 'timestamp')\n",
    "joined_df = joined_df.join(movies, joined_df.movie_id == movies.id, 'outer').drop('movie_title', 'release_date', 'video_release_date', 'IMDb_URL', 'id')\n",
    "joined_df.show()"
   ]
  },
  {
   "cell_type": "markdown",
   "metadata": {},
   "source": [
    "Категориальные значения (профессия, пол) были оформлены при помощи one-hot encoding."
   ]
  },
  {
   "cell_type": "code",
   "execution_count": 61,
   "metadata": {},
   "outputs": [
    {
     "name": "stdout",
     "output_type": "stream",
     "text": [
      "+-------+--------+------+-------+------+---------+---------+----------+------+-----+-----------+-----+-------+---------+------+-------+-------+-------+------+--------+---+-------+--------------+------------------+\n",
      "|user_id|movie_id|rating|unknown|Action|Adventure|Animation|Children's|Comedy|Crime|Documentary|Drama|Fantasy|Film-Noir|Horror|Musical|Mystery|Romance|Sci-Fi|Thriller|War|Western|gender_feature|occupation_feature|\n",
      "+-------+--------+------+-------+------+---------+---------+----------+------+-----+-----------+-----+-------+---------+------+-------+-------+-------+------+--------+---+-------+--------------+------------------+\n",
      "|    251|     148|     2|      0|     1|        1|        0|         0|     0|    0|          0|    0|      0|        0|     0|      0|      0|      0|     0|       0|  0|      0| (1,[0],[1.0])|   (20,[19],[1.0])|\n",
      "|    580|     148|     4|      0|     1|        1|        0|         0|     0|    0|          0|    0|      0|        0|     0|      0|      0|      0|     0|       0|  0|      0| (1,[0],[1.0])|    (20,[0],[1.0])|\n",
      "|    633|     148|     1|      0|     1|        1|        0|         0|     0|    0|          0|    0|      0|        0|     0|      0|      0|      0|     0|       0|  0|      0| (1,[0],[1.0])|    (20,[4],[1.0])|\n",
      "|    642|     148|     5|      0|     1|        1|        0|         0|     0|    0|          0|    0|      0|        0|     0|      0|      0|      0|     0|       0|  0|      0|     (1,[],[])|    (20,[0],[1.0])|\n",
      "|    406|     148|     3|      0|     1|        1|        0|         0|     0|    0|          0|    0|      0|        0|     0|      0|      0|      0|     0|       0|  0|      0| (1,[0],[1.0])|    (20,[2],[1.0])|\n",
      "|     26|     148|     3|      0|     1|        1|        0|         0|     0|    0|          0|    0|      0|        0|     0|      0|      0|      0|     0|       0|  0|      0| (1,[0],[1.0])|    (20,[3],[1.0])|\n",
      "|     27|     148|     3|      0|     1|        1|        0|         0|     0|    0|          0|    0|      0|        0|     0|      0|      0|      0|     0|       0|  0|      0|     (1,[],[])|    (20,[7],[1.0])|\n",
      "|    332|     148|     5|      0|     1|        1|        0|         0|     0|    0|          0|    0|      0|        0|     0|      0|      0|      0|     0|       0|  0|      0| (1,[0],[1.0])|    (20,[0],[1.0])|\n",
      "|     44|     148|     4|      0|     1|        1|        0|         0|     0|    0|          0|    0|      0|        0|     0|      0|      0|      0|     0|       0|  0|      0| (1,[0],[1.0])|    (20,[8],[1.0])|\n",
      "|    271|     148|     3|      0|     1|        1|        0|         0|     0|    0|          0|    0|      0|        0|     0|      0|      0|      0|     0|       0|  0|      0| (1,[0],[1.0])|    (20,[3],[1.0])|\n",
      "|    606|     148|     3|      0|     1|        1|        0|         0|     0|    0|          0|    0|      0|        0|     0|      0|      0|      0|     0|       0|  0|      0| (1,[0],[1.0])|    (20,[4],[1.0])|\n",
      "|    916|     148|     2|      0|     1|        1|        0|         0|     0|    0|          0|    0|      0|        0|     0|      0|      0|      0|     0|       0|  0|      0| (1,[0],[1.0])|    (20,[3],[1.0])|\n",
      "|    236|     148|     4|      0|     1|        1|        0|         0|     0|    0|          0|    0|      0|        0|     0|      0|      0|      0|     0|       0|  0|      0|     (1,[],[])|    (20,[6],[1.0])|\n",
      "|    602|     148|     4|      0|     1|        1|        0|         0|     0|    0|          0|    0|      0|        0|     0|      0|      0|      0|     0|       0|  0|      0|     (1,[],[])|    (20,[1],[1.0])|\n",
      "|    663|     148|     4|      0|     1|        1|        0|         0|     0|    0|          0|    0|      0|        0|     0|      0|      0|      0|     0|       0|  0|      0| (1,[0],[1.0])|    (20,[1],[1.0])|\n",
      "|    222|     148|     2|      0|     1|        1|        0|         0|     0|    0|          0|    0|      0|        0|     0|      0|      0|      0|     0|       0|  0|      0| (1,[0],[1.0])|    (20,[4],[1.0])|\n",
      "|    601|     148|     3|      0|     1|        1|        0|         0|     0|    0|          0|    0|      0|        0|     0|      0|      0|      0|     0|       0|  0|      0|     (1,[],[])|   (20,[11],[1.0])|\n",
      "|    330|     148|     4|      0|     1|        1|        0|         0|     0|    0|          0|    0|      0|        0|     0|      0|      0|      0|     0|       0|  0|      0|     (1,[],[])|    (20,[2],[1.0])|\n",
      "|    372|     148|     5|      0|     1|        1|        0|         0|     0|    0|          0|    0|      0|        0|     0|      0|      0|      0|     0|       0|  0|      0|     (1,[],[])|    (20,[0],[1.0])|\n",
      "|    727|     148|     2|      0|     1|        1|        0|         0|     0|    0|          0|    0|      0|        0|     0|      0|      0|      0|     0|       0|  0|      0| (1,[0],[1.0])|    (20,[0],[1.0])|\n",
      "+-------+--------+------+-------+------+---------+---------+----------+------+-----+-----------+-----+-------+---------+------+-------+-------+-------+------+--------+---+-------+--------------+------------------+\n",
      "only showing top 20 rows\n",
      "\n"
     ]
    }
   ],
   "source": [
    "stringIndexer = StringIndexer(inputCol=\"gender\", outputCol=\"indexed_gender\", handleInvalid='error')\n",
    "model = stringIndexer.fit(joined_df)\n",
    "joined_df = model.transform(joined_df)\n",
    "encoder = OneHotEncoder(inputCol=\"indexed_gender\", outputCol=\"gender_feature\")\n",
    "joined_df = encoder.transform(joined_df)\n",
    "\n",
    "stringIndexer = StringIndexer(inputCol=\"occupation\", outputCol=\"indexed_occupation\", handleInvalid='error')\n",
    "model = stringIndexer.fit(joined_df)\n",
    "joined_df = model.transform(joined_df)\n",
    "encoder = OneHotEncoder(inputCol=\"indexed_occupation\", outputCol=\"occupation_feature\")\n",
    "joined_df = encoder.transform(joined_df)\n",
    "\n",
    "# mmScaler = MinMaxScaler(inputCol=\"age\", outputCol=\"scaled_age\")\n",
    "# model = mmScaler.fit(joined_df)\n",
    "# model.transform(joined_df)\n",
    "\n",
    "joined_df = joined_df.drop(\"gender\", \"indexed_gender\", \"occupation\", \"indexed_occupation\", \"age\")\n",
    "joined_df.show()"
   ]
  },
  {
   "cell_type": "code",
   "execution_count": 63,
   "metadata": {},
   "outputs": [
    {
     "data": {
      "text/plain": [
       "[Row(user_id=345, movie_id=148, rating=3, unknown=0, Action=1, Adventure=1, Animation=0, Children's=0, Comedy=0, Crime=0, Documentary=0, Drama=0, Fantasy=0, Film-Noir=0, Horror=0, Musical=0, Mystery=0, Romance=0, Sci-Fi=0, Thriller=0, War=0, Western=0, gender_feature=SparseVector(1, {}), occupation_feature=SparseVector(20, {7: 1.0})),\n",
       " Row(user_id=345, movie_id=471, rating=3, unknown=0, Action=0, Adventure=0, Animation=0, Children's=0, Comedy=0, Crime=0, Documentary=0, Drama=1, Fantasy=0, Film-Noir=0, Horror=0, Musical=0, Mystery=0, Romance=0, Sci-Fi=0, Thriller=0, War=1, Western=0, gender_feature=SparseVector(1, {}), occupation_feature=SparseVector(20, {7: 1.0})),\n",
       " Row(user_id=345, movie_id=737, rating=3, unknown=0, Action=0, Adventure=0, Animation=0, Children's=0, Comedy=1, Crime=0, Documentary=0, Drama=1, Fantasy=0, Film-Noir=0, Horror=0, Musical=0, Mystery=0, Romance=0, Sci-Fi=0, Thriller=0, War=0, Western=0, gender_feature=SparseVector(1, {}), occupation_feature=SparseVector(20, {7: 1.0})),\n",
       " Row(user_id=345, movie_id=137, rating=4, unknown=0, Action=0, Adventure=0, Animation=0, Children's=0, Comedy=0, Crime=0, Documentary=0, Drama=1, Fantasy=0, Film-Noir=0, Horror=0, Musical=0, Mystery=0, Romance=0, Sci-Fi=0, Thriller=0, War=0, Western=0, gender_feature=SparseVector(1, {}), occupation_feature=SparseVector(20, {7: 1.0})),\n",
       " Row(user_id=345, movie_id=251, rating=5, unknown=0, Action=0, Adventure=0, Animation=0, Children's=0, Comedy=1, Crime=0, Documentary=0, Drama=0, Fantasy=0, Film-Noir=0, Horror=0, Musical=0, Mystery=0, Romance=0, Sci-Fi=0, Thriller=0, War=0, Western=0, gender_feature=SparseVector(1, {}), occupation_feature=SparseVector(20, {7: 1.0})),\n",
       " Row(user_id=345, movie_id=451, rating=5, unknown=0, Action=0, Adventure=0, Animation=0, Children's=0, Comedy=1, Crime=0, Documentary=0, Drama=0, Fantasy=0, Film-Noir=0, Horror=0, Musical=1, Mystery=0, Romance=1, Sci-Fi=0, Thriller=0, War=0, Western=0, gender_feature=SparseVector(1, {}), occupation_feature=SparseVector(20, {7: 1.0})),\n",
       " Row(user_id=345, movie_id=65, rating=4, unknown=0, Action=0, Adventure=0, Animation=0, Children's=0, Comedy=1, Crime=0, Documentary=0, Drama=1, Fantasy=0, Film-Noir=0, Horror=0, Musical=0, Mystery=0, Romance=0, Sci-Fi=0, Thriller=0, War=0, Western=0, gender_feature=SparseVector(1, {}), occupation_feature=SparseVector(20, {7: 1.0})),\n",
       " Row(user_id=345, movie_id=879, rating=2, unknown=0, Action=1, Adventure=0, Animation=0, Children's=0, Comedy=0, Crime=0, Documentary=0, Drama=0, Fantasy=0, Film-Noir=0, Horror=0, Musical=0, Mystery=0, Romance=0, Sci-Fi=0, Thriller=1, War=1, Western=0, gender_feature=SparseVector(1, {}), occupation_feature=SparseVector(20, {7: 1.0})),\n",
       " Row(user_id=345, movie_id=255, rating=4, unknown=0, Action=0, Adventure=0, Animation=0, Children's=0, Comedy=1, Crime=0, Documentary=0, Drama=0, Fantasy=0, Film-Noir=0, Horror=0, Musical=0, Mystery=0, Romance=1, Sci-Fi=0, Thriller=0, War=0, Western=0, gender_feature=SparseVector(1, {}), occupation_feature=SparseVector(20, {7: 1.0})),\n",
       " Row(user_id=345, movie_id=481, rating=3, unknown=0, Action=0, Adventure=0, Animation=0, Children's=0, Comedy=1, Crime=0, Documentary=0, Drama=1, Fantasy=0, Film-Noir=0, Horror=0, Musical=0, Mystery=0, Romance=0, Sci-Fi=0, Thriller=0, War=0, Western=0, gender_feature=SparseVector(1, {}), occupation_feature=SparseVector(20, {7: 1.0})),\n",
       " Row(user_id=345, movie_id=588, rating=3, unknown=0, Action=0, Adventure=0, Animation=1, Children's=1, Comedy=0, Crime=0, Documentary=0, Drama=0, Fantasy=0, Film-Noir=0, Horror=0, Musical=1, Mystery=0, Romance=0, Sci-Fi=0, Thriller=0, War=0, Western=0, gender_feature=SparseVector(1, {}), occupation_feature=SparseVector(20, {7: 1.0})),\n",
       " Row(user_id=345, movie_id=1016, rating=3, unknown=0, Action=1, Adventure=1, Animation=0, Children's=0, Comedy=0, Crime=0, Documentary=0, Drama=0, Fantasy=0, Film-Noir=0, Horror=0, Musical=0, Mystery=0, Romance=0, Sci-Fi=0, Thriller=1, War=0, Western=0, gender_feature=SparseVector(1, {}), occupation_feature=SparseVector(20, {7: 1.0})),\n",
       " Row(user_id=345, movie_id=974, rating=3, unknown=0, Action=0, Adventure=0, Animation=0, Children's=0, Comedy=0, Crime=0, Documentary=0, Drama=1, Fantasy=0, Film-Noir=0, Horror=0, Musical=0, Mystery=0, Romance=0, Sci-Fi=0, Thriller=1, War=0, Western=0, gender_feature=SparseVector(1, {}), occupation_feature=SparseVector(20, {7: 1.0})),\n",
       " Row(user_id=345, movie_id=1160, rating=3, unknown=0, Action=0, Adventure=0, Animation=0, Children's=0, Comedy=0, Crime=0, Documentary=0, Drama=1, Fantasy=0, Film-Noir=0, Horror=0, Musical=0, Mystery=0, Romance=1, Sci-Fi=0, Thriller=0, War=0, Western=0, gender_feature=SparseVector(1, {}), occupation_feature=SparseVector(20, {7: 1.0})),\n",
       " Row(user_id=345, movie_id=744, rating=4, unknown=0, Action=0, Adventure=0, Animation=0, Children's=0, Comedy=0, Crime=0, Documentary=0, Drama=1, Fantasy=0, Film-Noir=0, Horror=0, Musical=0, Mystery=0, Romance=0, Sci-Fi=0, Thriller=0, War=1, Western=0, gender_feature=SparseVector(1, {}), occupation_feature=SparseVector(20, {7: 1.0})),\n",
       " Row(user_id=345, movie_id=126, rating=5, unknown=0, Action=0, Adventure=0, Animation=0, Children's=0, Comedy=0, Crime=0, Documentary=0, Drama=1, Fantasy=0, Film-Noir=0, Horror=0, Musical=0, Mystery=0, Romance=0, Sci-Fi=0, Thriller=0, War=0, Western=0, gender_feature=SparseVector(1, {}), occupation_feature=SparseVector(20, {7: 1.0})),\n",
       " Row(user_id=345, movie_id=772, rating=4, unknown=0, Action=0, Adventure=0, Animation=0, Children's=0, Comedy=0, Crime=0, Documentary=0, Drama=1, Fantasy=0, Film-Noir=0, Horror=0, Musical=0, Mystery=0, Romance=0, Sci-Fi=0, Thriller=0, War=0, Western=0, gender_feature=SparseVector(1, {}), occupation_feature=SparseVector(20, {7: 1.0})),\n",
       " Row(user_id=345, movie_id=81, rating=4, unknown=0, Action=0, Adventure=0, Animation=0, Children's=0, Comedy=1, Crime=0, Documentary=0, Drama=0, Fantasy=0, Film-Noir=0, Horror=0, Musical=0, Mystery=0, Romance=1, Sci-Fi=0, Thriller=0, War=0, Western=0, gender_feature=SparseVector(1, {}), occupation_feature=SparseVector(20, {7: 1.0})),\n",
       " Row(user_id=345, movie_id=385, rating=3, unknown=0, Action=1, Adventure=1, Animation=0, Children's=0, Comedy=1, Crime=0, Documentary=0, Drama=0, Fantasy=0, Film-Noir=0, Horror=0, Musical=0, Mystery=0, Romance=1, Sci-Fi=0, Thriller=0, War=0, Western=0, gender_feature=SparseVector(1, {}), occupation_feature=SparseVector(20, {7: 1.0})),\n",
       " Row(user_id=345, movie_id=1226, rating=3, unknown=0, Action=0, Adventure=0, Animation=0, Children's=0, Comedy=0, Crime=1, Documentary=0, Drama=1, Fantasy=0, Film-Noir=0, Horror=0, Musical=0, Mystery=0, Romance=0, Sci-Fi=0, Thriller=0, War=0, Western=0, gender_feature=SparseVector(1, {}), occupation_feature=SparseVector(20, {7: 1.0})),\n",
       " Row(user_id=345, movie_id=28, rating=3, unknown=0, Action=1, Adventure=0, Animation=0, Children's=0, Comedy=0, Crime=0, Documentary=0, Drama=1, Fantasy=0, Film-Noir=0, Horror=0, Musical=0, Mystery=0, Romance=0, Sci-Fi=0, Thriller=1, War=0, Western=0, gender_feature=SparseVector(1, {}), occupation_feature=SparseVector(20, {7: 1.0})),\n",
       " Row(user_id=345, movie_id=210, rating=4, unknown=0, Action=1, Adventure=1, Animation=0, Children's=0, Comedy=0, Crime=0, Documentary=0, Drama=0, Fantasy=0, Film-Noir=0, Horror=0, Musical=0, Mystery=0, Romance=0, Sci-Fi=0, Thriller=0, War=0, Western=0, gender_feature=SparseVector(1, {}), occupation_feature=SparseVector(20, {7: 1.0})),\n",
       " Row(user_id=345, movie_id=762, rating=5, unknown=0, Action=0, Adventure=0, Animation=0, Children's=0, Comedy=0, Crime=0, Documentary=0, Drama=1, Fantasy=0, Film-Noir=0, Horror=0, Musical=0, Mystery=0, Romance=0, Sci-Fi=0, Thriller=0, War=0, Western=0, gender_feature=SparseVector(1, {}), occupation_feature=SparseVector(20, {7: 1.0})),\n",
       " Row(user_id=345, movie_id=300, rating=3, unknown=0, Action=1, Adventure=0, Animation=0, Children's=0, Comedy=0, Crime=0, Documentary=0, Drama=0, Fantasy=0, Film-Noir=0, Horror=0, Musical=0, Mystery=0, Romance=0, Sci-Fi=0, Thriller=1, War=0, Western=0, gender_feature=SparseVector(1, {}), occupation_feature=SparseVector(20, {7: 1.0})),\n",
       " Row(user_id=345, movie_id=412, rating=3, unknown=0, Action=0, Adventure=0, Animation=0, Children's=0, Comedy=1, Crime=0, Documentary=0, Drama=0, Fantasy=0, Film-Noir=0, Horror=0, Musical=0, Mystery=0, Romance=0, Sci-Fi=0, Thriller=0, War=0, Western=0, gender_feature=SparseVector(1, {}), occupation_feature=SparseVector(20, {7: 1.0})),\n",
       " Row(user_id=345, movie_id=988, rating=2, unknown=0, Action=0, Adventure=0, Animation=0, Children's=0, Comedy=1, Crime=0, Documentary=0, Drama=0, Fantasy=0, Film-Noir=0, Horror=0, Musical=0, Mystery=0, Romance=1, Sci-Fi=0, Thriller=0, War=0, Western=0, gender_feature=SparseVector(1, {}), occupation_feature=SparseVector(20, {7: 1.0})),\n",
       " Row(user_id=345, movie_id=26, rating=3, unknown=0, Action=0, Adventure=0, Animation=0, Children's=0, Comedy=1, Crime=0, Documentary=0, Drama=0, Fantasy=0, Film-Noir=0, Horror=0, Musical=0, Mystery=0, Romance=0, Sci-Fi=0, Thriller=0, War=0, Western=0, gender_feature=SparseVector(1, {}), occupation_feature=SparseVector(20, {7: 1.0})),\n",
       " Row(user_id=345, movie_id=332, rating=1, unknown=0, Action=0, Adventure=0, Animation=0, Children's=0, Comedy=0, Crime=1, Documentary=0, Drama=1, Fantasy=0, Film-Noir=0, Horror=0, Musical=0, Mystery=0, Romance=0, Sci-Fi=0, Thriller=1, War=0, Western=0, gender_feature=SparseVector(1, {}), occupation_feature=SparseVector(20, {7: 1.0})),\n",
       " Row(user_id=345, movie_id=44, rating=3, unknown=0, Action=0, Adventure=0, Animation=0, Children's=0, Comedy=0, Crime=0, Documentary=0, Drama=1, Fantasy=0, Film-Noir=0, Horror=0, Musical=0, Mystery=0, Romance=0, Sci-Fi=0, Thriller=1, War=0, Western=0, gender_feature=SparseVector(1, {}), occupation_feature=SparseVector(20, {7: 1.0})),\n",
       " Row(user_id=345, movie_id=12, rating=5, unknown=0, Action=0, Adventure=0, Animation=0, Children's=0, Comedy=0, Crime=1, Documentary=0, Drama=0, Fantasy=0, Film-Noir=0, Horror=0, Musical=0, Mystery=0, Romance=0, Sci-Fi=0, Thriller=1, War=0, Western=0, gender_feature=SparseVector(1, {}), occupation_feature=SparseVector(20, {7: 1.0})),\n",
       " Row(user_id=345, movie_id=223, rating=5, unknown=0, Action=0, Adventure=0, Animation=0, Children's=0, Comedy=0, Crime=0, Documentary=0, Drama=1, Fantasy=0, Film-Noir=0, Horror=0, Musical=0, Mystery=0, Romance=0, Sci-Fi=0, Thriller=1, War=0, Western=0, gender_feature=SparseVector(1, {}), occupation_feature=SparseVector(20, {7: 1.0})),\n",
       " Row(user_id=345, movie_id=738, rating=3, unknown=0, Action=0, Adventure=0, Animation=0, Children's=0, Comedy=1, Crime=0, Documentary=0, Drama=0, Fantasy=0, Film-Noir=0, Horror=0, Musical=0, Mystery=0, Romance=1, Sci-Fi=0, Thriller=0, War=0, Western=0, gender_feature=SparseVector(1, {}), occupation_feature=SparseVector(20, {7: 1.0})),\n",
       " Row(user_id=345, movie_id=91, rating=4, unknown=0, Action=0, Adventure=0, Animation=0, Children's=1, Comedy=1, Crime=0, Documentary=0, Drama=0, Fantasy=0, Film-Noir=0, Horror=0, Musical=1, Mystery=0, Romance=0, Sci-Fi=0, Thriller=0, War=0, Western=0, gender_feature=SparseVector(1, {}), occupation_feature=SparseVector(20, {7: 1.0})),\n",
       " Row(user_id=345, movie_id=333, rating=3, unknown=0, Action=0, Adventure=0, Animation=0, Children's=0, Comedy=0, Crime=0, Documentary=0, Drama=0, Fantasy=0, Film-Noir=0, Horror=0, Musical=0, Mystery=1, Romance=0, Sci-Fi=0, Thriller=1, War=0, Western=0, gender_feature=SparseVector(1, {}), occupation_feature=SparseVector(20, {7: 1.0})),\n",
       " Row(user_id=345, movie_id=285, rating=5, unknown=0, Action=0, Adventure=0, Animation=0, Children's=0, Comedy=0, Crime=0, Documentary=0, Drama=1, Fantasy=0, Film-Noir=0, Horror=0, Musical=0, Mystery=0, Romance=0, Sci-Fi=0, Thriller=0, War=0, Western=0, gender_feature=SparseVector(1, {}), occupation_feature=SparseVector(20, {7: 1.0})),\n",
       " Row(user_id=345, movie_id=93, rating=4, unknown=0, Action=0, Adventure=0, Animation=0, Children's=0, Comedy=1, Crime=0, Documentary=0, Drama=1, Fantasy=0, Film-Noir=0, Horror=0, Musical=0, Mystery=0, Romance=0, Sci-Fi=0, Thriller=0, War=0, Western=0, gender_feature=SparseVector(1, {}), occupation_feature=SparseVector(20, {7: 1.0})),\n",
       " Row(user_id=345, movie_id=246, rating=4, unknown=0, Action=0, Adventure=0, Animation=0, Children's=0, Comedy=0, Crime=0, Documentary=0, Drama=1, Fantasy=0, Film-Noir=0, Horror=0, Musical=0, Mystery=0, Romance=1, Sci-Fi=0, Thriller=0, War=0, Western=0, gender_feature=SparseVector(1, {}), occupation_feature=SparseVector(20, {7: 1.0})),\n",
       " Row(user_id=345, movie_id=367, rating=4, unknown=0, Action=0, Adventure=0, Animation=0, Children's=0, Comedy=1, Crime=0, Documentary=0, Drama=0, Fantasy=0, Film-Noir=0, Horror=0, Musical=0, Mystery=0, Romance=0, Sci-Fi=0, Thriller=0, War=0, Western=0, gender_feature=SparseVector(1, {}), occupation_feature=SparseVector(20, {7: 1.0})),\n",
       " Row(user_id=345, movie_id=476, rating=3, unknown=0, Action=0, Adventure=0, Animation=0, Children's=0, Comedy=1, Crime=0, Documentary=0, Drama=0, Fantasy=0, Film-Noir=0, Horror=0, Musical=0, Mystery=0, Romance=0, Sci-Fi=0, Thriller=0, War=0, Western=0, gender_feature=SparseVector(1, {}), occupation_feature=SparseVector(20, {7: 1.0})),\n",
       " Row(user_id=345, movie_id=111, rating=4, unknown=0, Action=0, Adventure=0, Animation=0, Children's=0, Comedy=1, Crime=0, Documentary=0, Drama=0, Fantasy=0, Film-Noir=0, Horror=0, Musical=0, Mystery=0, Romance=1, Sci-Fi=0, Thriller=0, War=0, Western=0, gender_feature=SparseVector(1, {}), occupation_feature=SparseVector(20, {7: 1.0})),\n",
       " Row(user_id=345, movie_id=416, rating=4, unknown=0, Action=0, Adventure=0, Animation=0, Children's=1, Comedy=0, Crime=0, Documentary=0, Drama=1, Fantasy=0, Film-Noir=0, Horror=0, Musical=0, Mystery=0, Romance=0, Sci-Fi=0, Thriller=0, War=0, Western=0, gender_feature=SparseVector(1, {}), occupation_feature=SparseVector(20, {7: 1.0})),\n",
       " Row(user_id=345, movie_id=132, rating=5, unknown=0, Action=0, Adventure=1, Animation=0, Children's=1, Comedy=0, Crime=0, Documentary=0, Drama=1, Fantasy=0, Film-Noir=0, Horror=0, Musical=1, Mystery=0, Romance=0, Sci-Fi=0, Thriller=0, War=0, Western=0, gender_feature=SparseVector(1, {}), occupation_feature=SparseVector(20, {7: 1.0})),\n",
       " Row(user_id=345, movie_id=305, rating=4, unknown=0, Action=0, Adventure=0, Animation=0, Children's=0, Comedy=0, Crime=0, Documentary=0, Drama=1, Fantasy=0, Film-Noir=0, Horror=0, Musical=0, Mystery=0, Romance=0, Sci-Fi=0, Thriller=0, War=0, Western=0, gender_feature=SparseVector(1, {}), occupation_feature=SparseVector(20, {7: 1.0})),\n",
       " Row(user_id=345, movie_id=696, rating=3, unknown=0, Action=0, Adventure=0, Animation=0, Children's=0, Comedy=0, Crime=0, Documentary=0, Drama=1, Fantasy=0, Film-Noir=0, Horror=0, Musical=0, Mystery=0, Romance=0, Sci-Fi=0, Thriller=1, War=0, Western=0, gender_feature=SparseVector(1, {}), occupation_feature=SparseVector(20, {7: 1.0})),\n",
       " Row(user_id=345, movie_id=747, rating=3, unknown=0, Action=0, Adventure=0, Animation=0, Children's=0, Comedy=1, Crime=0, Documentary=0, Drama=0, Fantasy=0, Film-Noir=0, Horror=0, Musical=0, Mystery=0, Romance=1, Sci-Fi=0, Thriller=0, War=0, Western=0, gender_feature=SparseVector(1, {}), occupation_feature=SparseVector(20, {7: 1.0})),\n",
       " Row(user_id=345, movie_id=291, rating=3, unknown=0, Action=0, Adventure=0, Animation=0, Children's=0, Comedy=0, Crime=0, Documentary=0, Drama=0, Fantasy=0, Film-Noir=0, Horror=0, Musical=0, Mystery=1, Romance=0, Sci-Fi=0, Thriller=1, War=0, Western=0, gender_feature=SparseVector(1, {}), occupation_feature=SparseVector(20, {7: 1.0})),\n",
       " Row(user_id=345, movie_id=325, rating=1, unknown=0, Action=0, Adventure=0, Animation=0, Children's=0, Comedy=0, Crime=0, Documentary=0, Drama=1, Fantasy=0, Film-Noir=0, Horror=0, Musical=0, Mystery=0, Romance=0, Sci-Fi=0, Thriller=1, War=0, Western=0, gender_feature=SparseVector(1, {}), occupation_feature=SparseVector(20, {7: 1.0})),\n",
       " Row(user_id=345, movie_id=955, rating=4, unknown=0, Action=0, Adventure=0, Animation=0, Children's=0, Comedy=0, Crime=0, Documentary=0, Drama=1, Fantasy=0, Film-Noir=0, Horror=0, Musical=0, Mystery=0, Romance=1, Sci-Fi=0, Thriller=0, War=0, Western=0, gender_feature=SparseVector(1, {}), occupation_feature=SparseVector(20, {7: 1.0})),\n",
       " Row(user_id=345, movie_id=473, rating=2, unknown=0, Action=0, Adventure=0, Animation=1, Children's=1, Comedy=0, Crime=0, Documentary=0, Drama=0, Fantasy=0, Film-Noir=0, Horror=0, Musical=1, Mystery=0, Romance=0, Sci-Fi=0, Thriller=0, War=0, Western=0, gender_feature=SparseVector(1, {}), occupation_feature=SparseVector(20, {7: 1.0})),\n",
       " Row(user_id=345, movie_id=660, rating=5, unknown=0, Action=0, Adventure=0, Animation=0, Children's=0, Comedy=0, Crime=0, Documentary=0, Drama=1, Fantasy=0, Film-Noir=0, Horror=0, Musical=0, Mystery=0, Romance=0, Sci-Fi=0, Thriller=0, War=0, Western=0, gender_feature=SparseVector(1, {}), occupation_feature=SparseVector(20, {7: 1.0})),\n",
       " Row(user_id=345, movie_id=748, rating=2, unknown=0, Action=1, Adventure=0, Animation=0, Children's=0, Comedy=0, Crime=0, Documentary=0, Drama=0, Fantasy=0, Film-Noir=0, Horror=0, Musical=0, Mystery=0, Romance=1, Sci-Fi=0, Thriller=1, War=0, Western=0, gender_feature=SparseVector(1, {}), occupation_feature=SparseVector(20, {7: 1.0})),\n",
       " Row(user_id=345, movie_id=1247, rating=2, unknown=0, Action=0, Adventure=0, Animation=0, Children's=0, Comedy=0, Crime=0, Documentary=0, Drama=0, Fantasy=0, Film-Noir=0, Horror=0, Musical=0, Mystery=0, Romance=0, Sci-Fi=0, Thriller=0, War=0, Western=1, gender_feature=SparseVector(1, {}), occupation_feature=SparseVector(20, {7: 1.0})),\n",
       " Row(user_id=345, movie_id=1, rating=3, unknown=0, Action=0, Adventure=0, Animation=1, Children's=1, Comedy=1, Crime=0, Documentary=0, Drama=0, Fantasy=0, Film-Noir=0, Horror=0, Musical=0, Mystery=0, Romance=0, Sci-Fi=0, Thriller=0, War=0, Western=0, gender_feature=SparseVector(1, {}), occupation_feature=SparseVector(20, {7: 1.0})),\n",
       " Row(user_id=345, movie_id=1008, rating=3, unknown=0, Action=0, Adventure=0, Animation=0, Children's=0, Comedy=0, Crime=0, Documentary=0, Drama=1, Fantasy=0, Film-Noir=0, Horror=0, Musical=0, Mystery=0, Romance=0, Sci-Fi=0, Thriller=0, War=0, Western=0, gender_feature=SparseVector(1, {}), occupation_feature=SparseVector(20, {7: 1.0})),\n",
       " Row(user_id=345, movie_id=297, rating=4, unknown=0, Action=0, Adventure=0, Animation=0, Children's=0, Comedy=0, Crime=0, Documentary=0, Drama=1, Fantasy=0, Film-Noir=0, Horror=0, Musical=0, Mystery=0, Romance=0, Sci-Fi=0, Thriller=0, War=0, Western=0, gender_feature=SparseVector(1, {}), occupation_feature=SparseVector(20, {7: 1.0})),\n",
       " Row(user_id=345, movie_id=715, rating=4, unknown=0, Action=0, Adventure=0, Animation=0, Children's=0, Comedy=1, Crime=0, Documentary=0, Drama=1, Fantasy=0, Film-Noir=0, Horror=0, Musical=0, Mystery=0, Romance=0, Sci-Fi=0, Thriller=0, War=0, Western=0, gender_feature=SparseVector(1, {}), occupation_feature=SparseVector(20, {7: 1.0})),\n",
       " Row(user_id=345, movie_id=1047, rating=4, unknown=0, Action=0, Adventure=0, Animation=0, Children's=0, Comedy=1, Crime=0, Documentary=0, Drama=0, Fantasy=0, Film-Noir=0, Horror=0, Musical=0, Mystery=0, Romance=0, Sci-Fi=0, Thriller=0, War=0, Western=0, gender_feature=SparseVector(1, {}), occupation_feature=SparseVector(20, {7: 1.0})),\n",
       " Row(user_id=345, movie_id=274, rating=3, unknown=0, Action=0, Adventure=0, Animation=0, Children's=0, Comedy=1, Crime=0, Documentary=0, Drama=0, Fantasy=0, Film-Noir=0, Horror=0, Musical=0, Mystery=0, Romance=1, Sci-Fi=0, Thriller=0, War=0, Western=0, gender_feature=SparseVector(1, {}), occupation_feature=SparseVector(20, {7: 1.0})),\n",
       " Row(user_id=345, movie_id=13, rating=4, unknown=0, Action=0, Adventure=0, Animation=0, Children's=0, Comedy=1, Crime=0, Documentary=0, Drama=0, Fantasy=0, Film-Noir=0, Horror=0, Musical=0, Mystery=0, Romance=0, Sci-Fi=0, Thriller=0, War=0, Western=0, gender_feature=SparseVector(1, {}), occupation_feature=SparseVector(20, {7: 1.0})),\n",
       " Row(user_id=345, movie_id=218, rating=3, unknown=0, Action=0, Adventure=0, Animation=0, Children's=0, Comedy=0, Crime=0, Documentary=0, Drama=0, Fantasy=0, Film-Noir=0, Horror=0, Musical=0, Mystery=0, Romance=0, Sci-Fi=0, Thriller=1, War=0, Western=0, gender_feature=SparseVector(1, {}), occupation_feature=SparseVector(20, {7: 1.0})),\n",
       " Row(user_id=345, movie_id=280, rating=3, unknown=0, Action=0, Adventure=0, Animation=0, Children's=0, Comedy=0, Crime=0, Documentary=0, Drama=1, Fantasy=0, Film-Noir=0, Horror=0, Musical=0, Mystery=0, Romance=1, Sci-Fi=0, Thriller=0, War=0, Western=0, gender_feature=SparseVector(1, {}), occupation_feature=SparseVector(20, {7: 1.0})),\n",
       " Row(user_id=345, movie_id=86, rating=4, unknown=0, Action=0, Adventure=0, Animation=0, Children's=0, Comedy=0, Crime=0, Documentary=0, Drama=1, Fantasy=0, Film-Noir=0, Horror=0, Musical=0, Mystery=0, Romance=0, Sci-Fi=0, Thriller=0, War=0, Western=0, gender_feature=SparseVector(1, {}), occupation_feature=SparseVector(20, {7: 1.0})),\n",
       " Row(user_id=345, movie_id=972, rating=4, unknown=0, Action=0, Adventure=0, Animation=0, Children's=0, Comedy=0, Crime=0, Documentary=0, Drama=1, Fantasy=0, Film-Noir=0, Horror=0, Musical=0, Mystery=0, Romance=0, Sci-Fi=0, Thriller=0, War=0, Western=0, gender_feature=SparseVector(1, {}), occupation_feature=SparseVector(20, {7: 1.0})),\n",
       " Row(user_id=345, movie_id=1082, rating=2, unknown=0, Action=0, Adventure=0, Animation=0, Children's=0, Comedy=0, Crime=0, Documentary=0, Drama=1, Fantasy=0, Film-Noir=0, Horror=0, Musical=0, Mystery=0, Romance=0, Sci-Fi=0, Thriller=0, War=0, Western=0, gender_feature=SparseVector(1, {}), occupation_feature=SparseVector(20, {7: 1.0})),\n",
       " Row(user_id=345, movie_id=40, rating=3, unknown=0, Action=0, Adventure=0, Animation=0, Children's=0, Comedy=1, Crime=0, Documentary=0, Drama=0, Fantasy=0, Film-Noir=0, Horror=0, Musical=0, Mystery=0, Romance=0, Sci-Fi=0, Thriller=0, War=0, Western=0, gender_feature=SparseVector(1, {}), occupation_feature=SparseVector(20, {7: 1.0})),\n",
       " Row(user_id=345, movie_id=470, rating=4, unknown=0, Action=0, Adventure=0, Animation=0, Children's=0, Comedy=0, Crime=0, Documentary=0, Drama=0, Fantasy=0, Film-Noir=0, Horror=0, Musical=0, Mystery=0, Romance=0, Sci-Fi=0, Thriller=0, War=0, Western=1, gender_feature=SparseVector(1, {}), occupation_feature=SparseVector(20, {7: 1.0})),\n",
       " Row(user_id=345, movie_id=283, rating=4, unknown=0, Action=0, Adventure=0, Animation=0, Children's=0, Comedy=0, Crime=0, Documentary=0, Drama=1, Fantasy=0, Film-Noir=0, Horror=0, Musical=0, Mystery=0, Romance=1, Sci-Fi=0, Thriller=0, War=0, Western=0, gender_feature=SparseVector(1, {}), occupation_feature=SparseVector(20, {7: 1.0})),\n",
       " Row(user_id=345, movie_id=479, rating=4, unknown=0, Action=0, Adventure=0, Animation=0, Children's=0, Comedy=0, Crime=0, Documentary=0, Drama=0, Fantasy=0, Film-Noir=0, Horror=0, Musical=0, Mystery=1, Romance=0, Sci-Fi=0, Thriller=1, War=0, Western=0, gender_feature=SparseVector(1, {}), occupation_feature=SparseVector(20, {7: 1.0})),\n",
       " Row(user_id=345, movie_id=295, rating=4, unknown=0, Action=1, Adventure=0, Animation=0, Children's=0, Comedy=0, Crime=0, Documentary=0, Drama=0, Fantasy=0, Film-Noir=0, Horror=0, Musical=0, Mystery=0, Romance=0, Sci-Fi=0, Thriller=1, War=0, Western=0, gender_feature=SparseVector(1, {}), occupation_feature=SparseVector(20, {7: 1.0})),\n",
       " Row(user_id=345, movie_id=980, rating=4, unknown=0, Action=0, Adventure=0, Animation=0, Children's=0, Comedy=0, Crime=0, Documentary=0, Drama=1, Fantasy=0, Film-Noir=0, Horror=0, Musical=0, Mystery=0, Romance=0, Sci-Fi=0, Thriller=0, War=0, Western=0, gender_feature=SparseVector(1, {}), occupation_feature=SparseVector(20, {7: 1.0})),\n",
       " Row(user_id=345, movie_id=402, rating=4, unknown=0, Action=0, Adventure=0, Animation=0, Children's=0, Comedy=1, Crime=0, Documentary=0, Drama=0, Fantasy=0, Film-Noir=0, Horror=0, Musical=0, Mystery=0, Romance=1, Sci-Fi=0, Thriller=1, War=0, Western=0, gender_feature=SparseVector(1, {}), occupation_feature=SparseVector(20, {7: 1.0})),\n",
       " Row(user_id=345, movie_id=582, rating=5, unknown=0, Action=0, Adventure=0, Animation=0, Children's=0, Comedy=0, Crime=0, Documentary=0, Drama=1, Fantasy=0, Film-Noir=0, Horror=0, Musical=0, Mystery=0, Romance=1, Sci-Fi=0, Thriller=0, War=0, Western=0, gender_feature=SparseVector(1, {}), occupation_feature=SparseVector(20, {7: 1.0})),\n",
       " Row(user_id=345, movie_id=570, rating=2, unknown=0, Action=0, Adventure=0, Animation=0, Children's=0, Comedy=0, Crime=0, Documentary=0, Drama=0, Fantasy=0, Film-Noir=0, Horror=0, Musical=0, Mystery=0, Romance=0, Sci-Fi=0, Thriller=0, War=0, Western=1, gender_feature=SparseVector(1, {}), occupation_feature=SparseVector(20, {7: 1.0})),\n",
       " Row(user_id=345, movie_id=1074, rating=3, unknown=0, Action=0, Adventure=0, Animation=0, Children's=0, Comedy=1, Crime=0, Documentary=0, Drama=1, Fantasy=0, Film-Noir=0, Horror=0, Musical=0, Mystery=0, Romance=0, Sci-Fi=0, Thriller=0, War=0, Western=0, gender_feature=SparseVector(1, {}), occupation_feature=SparseVector(20, {7: 1.0})),\n",
       " Row(user_id=345, movie_id=676, rating=4, unknown=0, Action=0, Adventure=0, Animation=0, Children's=0, Comedy=0, Crime=0, Documentary=0, Drama=1, Fantasy=0, Film-Noir=0, Horror=0, Musical=0, Mystery=0, Romance=0, Sci-Fi=0, Thriller=0, War=0, Western=0, gender_feature=SparseVector(1, {}), occupation_feature=SparseVector(20, {7: 1.0})),\n",
       " Row(user_id=345, movie_id=919, rating=2, unknown=0, Action=0, Adventure=1, Animation=0, Children's=0, Comedy=0, Crime=0, Documentary=0, Drama=0, Fantasy=0, Film-Noir=0, Horror=0, Musical=0, Mystery=0, Romance=0, Sci-Fi=1, Thriller=0, War=0, Western=0, gender_feature=SparseVector(1, {}), occupation_feature=SparseVector(20, {7: 1.0})),\n",
       " Row(user_id=345, movie_id=54, rating=3, unknown=0, Action=1, Adventure=0, Animation=0, Children's=0, Comedy=0, Crime=0, Documentary=0, Drama=1, Fantasy=0, Film-Noir=0, Horror=0, Musical=0, Mystery=0, Romance=0, Sci-Fi=0, Thriller=1, War=0, Western=0, gender_feature=SparseVector(1, {}), occupation_feature=SparseVector(20, {7: 1.0})),\n",
       " Row(user_id=345, movie_id=559, rating=1, unknown=0, Action=0, Adventure=0, Animation=0, Children's=0, Comedy=0, Crime=0, Documentary=0, Drama=1, Fantasy=0, Film-Noir=0, Horror=1, Musical=0, Mystery=0, Romance=0, Sci-Fi=0, Thriller=0, War=0, Western=0, gender_feature=SparseVector(1, {}), occupation_feature=SparseVector(20, {7: 1.0})),\n",
       " Row(user_id=345, movie_id=235, rating=3, unknown=0, Action=1, Adventure=0, Animation=0, Children's=0, Comedy=1, Crime=0, Documentary=0, Drama=0, Fantasy=0, Film-Noir=0, Horror=0, Musical=0, Mystery=0, Romance=0, Sci-Fi=1, Thriller=0, War=1, Western=0, gender_feature=SparseVector(1, {}), occupation_feature=SparseVector(20, {7: 1.0})),\n",
       " Row(user_id=345, movie_id=620, rating=2, unknown=0, Action=0, Adventure=0, Animation=0, Children's=0, Comedy=0, Crime=0, Documentary=0, Drama=1, Fantasy=0, Film-Noir=0, Horror=0, Musical=0, Mystery=0, Romance=0, Sci-Fi=0, Thriller=0, War=0, Western=0, gender_feature=SparseVector(1, {}), occupation_feature=SparseVector(20, {7: 1.0})),\n",
       " Row(user_id=345, movie_id=846, rating=4, unknown=0, Action=0, Adventure=0, Animation=0, Children's=0, Comedy=0, Crime=0, Documentary=0, Drama=1, Fantasy=0, Film-Noir=0, Horror=0, Musical=0, Mystery=0, Romance=1, Sci-Fi=0, Thriller=0, War=0, Western=0, gender_feature=SparseVector(1, {}), occupation_feature=SparseVector(20, {7: 1.0})),\n",
       " Row(user_id=345, movie_id=732, rating=4, unknown=0, Action=0, Adventure=0, Animation=0, Children's=0, Comedy=1, Crime=0, Documentary=0, Drama=0, Fantasy=0, Film-Noir=0, Horror=0, Musical=0, Mystery=0, Romance=1, Sci-Fi=0, Thriller=0, War=0, Western=0, gender_feature=SparseVector(1, {}), occupation_feature=SparseVector(20, {7: 1.0})),\n",
       " Row(user_id=345, movie_id=48, rating=5, unknown=0, Action=0, Adventure=0, Animation=0, Children's=0, Comedy=0, Crime=0, Documentary=1, Drama=0, Fantasy=0, Film-Noir=0, Horror=0, Musical=0, Mystery=0, Romance=0, Sci-Fi=0, Thriller=0, War=0, Western=0, gender_feature=SparseVector(1, {}), occupation_feature=SparseVector(20, {7: 1.0})),\n",
       " Row(user_id=345, movie_id=5, rating=3, unknown=0, Action=0, Adventure=0, Animation=0, Children's=0, Comedy=0, Crime=1, Documentary=0, Drama=1, Fantasy=0, Film-Noir=0, Horror=0, Musical=0, Mystery=0, Romance=0, Sci-Fi=0, Thriller=1, War=0, Western=0, gender_feature=SparseVector(1, {}), occupation_feature=SparseVector(20, {7: 1.0})),\n",
       " Row(user_id=345, movie_id=191, rating=5, unknown=0, Action=0, Adventure=0, Animation=0, Children's=0, Comedy=0, Crime=0, Documentary=0, Drama=1, Fantasy=0, Film-Noir=0, Horror=0, Musical=0, Mystery=1, Romance=0, Sci-Fi=0, Thriller=0, War=0, Western=0, gender_feature=SparseVector(1, {}), occupation_feature=SparseVector(20, {7: 1.0})),\n",
       " Row(user_id=345, movie_id=268, rating=4, unknown=0, Action=0, Adventure=0, Animation=0, Children's=0, Comedy=0, Crime=0, Documentary=0, Drama=1, Fantasy=0, Film-Noir=0, Horror=0, Musical=0, Mystery=0, Romance=1, Sci-Fi=0, Thriller=0, War=0, Western=0, gender_feature=SparseVector(1, {}), occupation_feature=SparseVector(20, {7: 1.0})),\n",
       " Row(user_id=345, movie_id=258, rating=4, unknown=0, Action=0, Adventure=0, Animation=0, Children's=0, Comedy=0, Crime=0, Documentary=0, Drama=1, Fantasy=0, Film-Noir=0, Horror=0, Musical=0, Mystery=0, Romance=0, Sci-Fi=1, Thriller=0, War=0, Western=0, gender_feature=SparseVector(1, {}), occupation_feature=SparseVector(20, {7: 1.0})),\n",
       " Row(user_id=345, movie_id=709, rating=4, unknown=0, Action=0, Adventure=0, Animation=0, Children's=0, Comedy=1, Crime=0, Documentary=0, Drama=0, Fantasy=0, Film-Noir=0, Horror=0, Musical=0, Mystery=0, Romance=1, Sci-Fi=0, Thriller=0, War=0, Western=0, gender_feature=SparseVector(1, {}), occupation_feature=SparseVector(20, {7: 1.0})),\n",
       " Row(user_id=345, movie_id=64, rating=5, unknown=0, Action=0, Adventure=0, Animation=0, Children's=0, Comedy=0, Crime=0, Documentary=0, Drama=1, Fantasy=0, Film-Noir=0, Horror=0, Musical=0, Mystery=0, Romance=0, Sci-Fi=0, Thriller=0, War=0, Western=0, gender_feature=SparseVector(1, {}), occupation_feature=SparseVector(20, {7: 1.0})),\n",
       " Row(user_id=345, movie_id=117, rating=4, unknown=0, Action=1, Adventure=1, Animation=0, Children's=0, Comedy=0, Crime=0, Documentary=0, Drama=0, Fantasy=0, Film-Noir=0, Horror=0, Musical=0, Mystery=0, Romance=0, Sci-Fi=0, Thriller=1, War=0, Western=0, gender_feature=SparseVector(1, {}), occupation_feature=SparseVector(20, {7: 1.0})),\n",
       " Row(user_id=345, movie_id=886, rating=3, unknown=0, Action=0, Adventure=0, Animation=0, Children's=0, Comedy=0, Crime=0, Documentary=0, Drama=0, Fantasy=0, Film-Noir=0, Horror=0, Musical=0, Mystery=0, Romance=1, Sci-Fi=0, Thriller=1, War=0, Western=0, gender_feature=SparseVector(1, {}), occupation_feature=SparseVector(20, {7: 1.0})),\n",
       " Row(user_id=345, movie_id=1048, rating=2, unknown=0, Action=0, Adventure=0, Animation=0, Children's=0, Comedy=1, Crime=0, Documentary=0, Drama=0, Fantasy=0, Film-Noir=0, Horror=0, Musical=0, Mystery=0, Romance=1, Sci-Fi=0, Thriller=0, War=0, Western=0, gender_feature=SparseVector(1, {}), occupation_feature=SparseVector(20, {7: 1.0})),\n",
       " Row(user_id=345, movie_id=15, rating=4, unknown=0, Action=0, Adventure=0, Animation=0, Children's=0, Comedy=0, Crime=0, Documentary=0, Drama=1, Fantasy=0, Film-Noir=0, Horror=0, Musical=0, Mystery=0, Romance=0, Sci-Fi=0, Thriller=0, War=0, Western=0, gender_feature=SparseVector(1, {}), occupation_feature=SparseVector(20, {7: 1.0})),\n",
       " Row(user_id=345, movie_id=43, rating=3, unknown=0, Action=0, Adventure=0, Animation=0, Children's=0, Comedy=0, Crime=0, Documentary=0, Drama=1, Fantasy=0, Film-Noir=0, Horror=0, Musical=0, Mystery=0, Romance=0, Sci-Fi=0, Thriller=1, War=0, Western=0, gender_feature=SparseVector(1, {}), occupation_feature=SparseVector(20, {7: 1.0})),\n",
       " Row(user_id=345, movie_id=845, rating=3, unknown=0, Action=0, Adventure=0, Animation=0, Children's=0, Comedy=1, Crime=0, Documentary=0, Drama=0, Fantasy=0, Film-Noir=0, Horror=0, Musical=0, Mystery=0, Romance=0, Sci-Fi=0, Thriller=0, War=0, Western=0, gender_feature=SparseVector(1, {}), occupation_feature=SparseVector(20, {7: 1.0})),\n",
       " Row(user_id=345, movie_id=262, rating=5, unknown=0, Action=0, Adventure=0, Animation=0, Children's=0, Comedy=0, Crime=0, Documentary=0, Drama=1, Fantasy=0, Film-Noir=0, Horror=0, Musical=0, Mystery=0, Romance=0, Sci-Fi=0, Thriller=0, War=0, Western=0, gender_feature=SparseVector(1, {}), occupation_feature=SparseVector(20, {7: 1.0})),\n",
       " Row(user_id=345, movie_id=269, rating=5, unknown=0, Action=0, Adventure=0, Animation=0, Children's=0, Comedy=1, Crime=0, Documentary=0, Drama=0, Fantasy=0, Film-Noir=0, Horror=0, Musical=0, Mystery=0, Romance=0, Sci-Fi=0, Thriller=0, War=0, Western=0, gender_feature=SparseVector(1, {}), occupation_feature=SparseVector(20, {7: 1.0})),\n",
       " Row(user_id=345, movie_id=461, rating=3, unknown=0, Action=0, Adventure=0, Animation=0, Children's=0, Comedy=0, Crime=0, Documentary=0, Drama=1, Fantasy=0, Film-Noir=0, Horror=0, Musical=0, Mystery=0, Romance=0, Sci-Fi=0, Thriller=0, War=0, Western=0, gender_feature=SparseVector(1, {}), occupation_feature=SparseVector(20, {7: 1.0})),\n",
       " Row(user_id=345, movie_id=88, rating=4, unknown=0, Action=0, Adventure=0, Animation=0, Children's=0, Comedy=1, Crime=0, Documentary=0, Drama=0, Fantasy=0, Film-Noir=0, Horror=0, Musical=0, Mystery=0, Romance=1, Sci-Fi=0, Thriller=0, War=0, Western=0, gender_feature=SparseVector(1, {}), occupation_feature=SparseVector(20, {7: 1.0})),\n",
       " Row(user_id=345, movie_id=197, rating=4, unknown=0, Action=0, Adventure=0, Animation=0, Children's=0, Comedy=0, Crime=0, Documentary=0, Drama=1, Fantasy=0, Film-Noir=0, Horror=0, Musical=0, Mystery=0, Romance=1, Sci-Fi=0, Thriller=0, War=0, Western=0, gender_feature=SparseVector(1, {}), occupation_feature=SparseVector(20, {7: 1.0})),\n",
       " Row(user_id=345, movie_id=903, rating=3, unknown=0, Action=0, Adventure=0, Animation=0, Children's=0, Comedy=0, Crime=0, Documentary=0, Drama=1, Fantasy=0, Film-Noir=0, Horror=0, Musical=0, Mystery=0, Romance=1, Sci-Fi=0, Thriller=0, War=0, Western=0, gender_feature=SparseVector(1, {}), occupation_feature=SparseVector(20, {7: 1.0})),\n",
       " Row(user_id=345, movie_id=318, rating=5, unknown=0, Action=0, Adventure=0, Animation=0, Children's=0, Comedy=0, Crime=0, Documentary=0, Drama=1, Fantasy=0, Film-Noir=0, Horror=0, Musical=0, Mystery=0, Romance=0, Sci-Fi=0, Thriller=0, War=1, Western=0, gender_feature=SparseVector(1, {}), occupation_feature=SparseVector(20, {7: 1.0})),\n",
       " Row(user_id=345, movie_id=462, rating=5, unknown=0, Action=0, Adventure=0, Animation=0, Children's=0, Comedy=0, Crime=0, Documentary=0, Drama=1, Fantasy=0, Film-Noir=0, Horror=0, Musical=0, Mystery=0, Romance=1, Sci-Fi=0, Thriller=0, War=0, Western=0, gender_feature=SparseVector(1, {}), occupation_feature=SparseVector(20, {7: 1.0})),\n",
       " Row(user_id=345, movie_id=202, rating=3, unknown=0, Action=0, Adventure=0, Animation=0, Children's=0, Comedy=1, Crime=0, Documentary=0, Drama=0, Fantasy=0, Film-Noir=0, Horror=0, Musical=0, Mystery=0, Romance=1, Sci-Fi=0, Thriller=0, War=0, Western=0, gender_feature=SparseVector(1, {}), occupation_feature=SparseVector(20, {7: 1.0})),\n",
       " Row(user_id=345, movie_id=9, rating=4, unknown=0, Action=0, Adventure=0, Animation=0, Children's=0, Comedy=0, Crime=0, Documentary=0, Drama=1, Fantasy=0, Film-Noir=0, Horror=0, Musical=0, Mystery=0, Romance=0, Sci-Fi=0, Thriller=0, War=0, Western=0, gender_feature=SparseVector(1, {}), occupation_feature=SparseVector(20, {7: 1.0})),\n",
       " Row(user_id=345, movie_id=286, rating=3, unknown=0, Action=0, Adventure=0, Animation=0, Children's=0, Comedy=0, Crime=0, Documentary=0, Drama=1, Fantasy=0, Film-Noir=0, Horror=0, Musical=0, Mystery=0, Romance=1, Sci-Fi=0, Thriller=0, War=1, Western=0, gender_feature=SparseVector(1, {}), occupation_feature=SparseVector(20, {7: 1.0})),\n",
       " Row(user_id=345, movie_id=1017, rating=2, unknown=0, Action=0, Adventure=0, Animation=0, Children's=0, Comedy=0, Crime=0, Documentary=0, Drama=1, Fantasy=0, Film-Noir=0, Horror=0, Musical=0, Mystery=0, Romance=0, Sci-Fi=0, Thriller=0, War=0, Western=0, gender_feature=SparseVector(1, {}), occupation_feature=SparseVector(20, {7: 1.0})),\n",
       " Row(user_id=345, movie_id=387, rating=4, unknown=0, Action=0, Adventure=0, Animation=0, Children's=0, Comedy=0, Crime=0, Documentary=0, Drama=1, Fantasy=0, Film-Noir=0, Horror=0, Musical=0, Mystery=0, Romance=0, Sci-Fi=0, Thriller=0, War=0, Western=0, gender_feature=SparseVector(1, {}), occupation_feature=SparseVector(20, {7: 1.0})),\n",
       " Row(user_id=345, movie_id=381, rating=4, unknown=0, Action=0, Adventure=0, Animation=0, Children's=0, Comedy=1, Crime=0, Documentary=0, Drama=0, Fantasy=0, Film-Noir=0, Horror=0, Musical=0, Mystery=0, Romance=1, Sci-Fi=0, Thriller=0, War=0, Western=0, gender_feature=SparseVector(1, {}), occupation_feature=SparseVector(20, {7: 1.0})),\n",
       " Row(user_id=345, movie_id=498, rating=4, unknown=0, Action=1, Adventure=1, Animation=0, Children's=0, Comedy=0, Crime=0, Documentary=0, Drama=0, Fantasy=0, Film-Noir=0, Horror=0, Musical=0, Mystery=0, Romance=1, Sci-Fi=0, Thriller=0, War=1, Western=0, gender_feature=SparseVector(1, {}), occupation_feature=SparseVector(20, {7: 1.0})),\n",
       " Row(user_id=345, movie_id=739, rating=4, unknown=0, Action=0, Adventure=0, Animation=0, Children's=0, Comedy=1, Crime=0, Documentary=0, Drama=0, Fantasy=0, Film-Noir=0, Horror=0, Musical=0, Mystery=0, Romance=1, Sci-Fi=0, Thriller=0, War=0, Western=0, gender_feature=SparseVector(1, {}), occupation_feature=SparseVector(20, {7: 1.0})),\n",
       " Row(user_id=345, movie_id=485, rating=4, unknown=0, Action=0, Adventure=0, Animation=0, Children's=0, Comedy=0, Crime=0, Documentary=0, Drama=0, Fantasy=0, Film-Noir=0, Horror=0, Musical=1, Mystery=0, Romance=1, Sci-Fi=0, Thriller=0, War=0, Western=0, gender_feature=SparseVector(1, {}), occupation_feature=SparseVector(20, {7: 1.0})),\n",
       " Row(user_id=345, movie_id=568, rating=4, unknown=0, Action=1, Adventure=0, Animation=0, Children's=0, Comedy=0, Crime=0, Documentary=0, Drama=0, Fantasy=0, Film-Noir=0, Horror=0, Musical=0, Mystery=0, Romance=1, Sci-Fi=0, Thriller=1, War=0, Western=0, gender_feature=SparseVector(1, {}), occupation_feature=SparseVector(20, {7: 1.0})),\n",
       " Row(user_id=345, movie_id=742, rating=4, unknown=0, Action=0, Adventure=0, Animation=0, Children's=0, Comedy=0, Crime=0, Documentary=0, Drama=1, Fantasy=0, Film-Noir=0, Horror=0, Musical=0, Mystery=0, Romance=0, Sci-Fi=0, Thriller=1, War=0, Western=0, gender_feature=SparseVector(1, {}), occupation_feature=SparseVector(20, {7: 1.0})),\n",
       " Row(user_id=345, movie_id=196, rating=5, unknown=0, Action=0, Adventure=0, Animation=0, Children's=0, Comedy=0, Crime=0, Documentary=0, Drama=1, Fantasy=0, Film-Noir=0, Horror=0, Musical=0, Mystery=0, Romance=0, Sci-Fi=0, Thriller=0, War=0, Western=0, gender_feature=SparseVector(1, {}), occupation_feature=SparseVector(20, {7: 1.0})),\n",
       " Row(user_id=345, movie_id=1096, rating=3, unknown=0, Action=0, Adventure=0, Animation=0, Children's=0, Comedy=0, Crime=0, Documentary=0, Drama=0, Fantasy=0, Film-Noir=0, Horror=0, Musical=0, Mystery=0, Romance=1, Sci-Fi=0, Thriller=0, War=0, Western=0, gender_feature=SparseVector(1, {}), occupation_feature=SparseVector(20, {7: 1.0})),\n",
       " Row(user_id=345, movie_id=173, rating=5, unknown=0, Action=1, Adventure=1, Animation=0, Children's=0, Comedy=1, Crime=0, Documentary=0, Drama=0, Fantasy=0, Film-Noir=0, Horror=0, Musical=0, Mystery=0, Romance=1, Sci-Fi=0, Thriller=0, War=0, Western=0, gender_feature=SparseVector(1, {}), occupation_feature=SparseVector(20, {7: 1.0})),\n",
       " Row(user_id=345, movie_id=220, rating=3, unknown=0, Action=0, Adventure=0, Animation=0, Children's=0, Comedy=1, Crime=0, Documentary=0, Drama=0, Fantasy=0, Film-Noir=0, Horror=0, Musical=0, Mystery=0, Romance=1, Sci-Fi=0, Thriller=0, War=0, Western=0, gender_feature=SparseVector(1, {}), occupation_feature=SparseVector(20, {7: 1.0})),\n",
       " Row(user_id=345, movie_id=278, rating=3, unknown=0, Action=0, Adventure=0, Animation=0, Children's=0, Comedy=0, Crime=0, Documentary=0, Drama=1, Fantasy=0, Film-Noir=0, Horror=0, Musical=0, Mystery=0, Romance=1, Sci-Fi=0, Thriller=0, War=0, Western=0, gender_feature=SparseVector(1, {}), occupation_feature=SparseVector(20, {7: 1.0})),\n",
       " Row(user_id=345, movie_id=301, rating=4, unknown=0, Action=0, Adventure=0, Animation=0, Children's=0, Comedy=1, Crime=0, Documentary=0, Drama=0, Fantasy=0, Film-Noir=0, Horror=0, Musical=0, Mystery=0, Romance=0, Sci-Fi=0, Thriller=0, War=0, Western=0, gender_feature=SparseVector(1, {}), occupation_feature=SparseVector(20, {7: 1.0})),\n",
       " Row(user_id=345, movie_id=4, rating=4, unknown=0, Action=1, Adventure=0, Animation=0, Children's=0, Comedy=1, Crime=0, Documentary=0, Drama=1, Fantasy=0, Film-Noir=0, Horror=0, Musical=0, Mystery=0, Romance=0, Sci-Fi=0, Thriller=0, War=0, Western=0, gender_feature=SparseVector(1, {}), occupation_feature=SparseVector(20, {7: 1.0})),\n",
       " Row(user_id=345, movie_id=684, rating=4, unknown=0, Action=1, Adventure=0, Animation=0, Children's=0, Comedy=0, Crime=0, Documentary=0, Drama=0, Fantasy=0, Film-Noir=0, Horror=0, Musical=0, Mystery=0, Romance=0, Sci-Fi=0, Thriller=1, War=0, Western=0, gender_feature=SparseVector(1, {}), occupation_feature=SparseVector(20, {7: 1.0})),\n",
       " Row(user_id=345, movie_id=100, rating=5, unknown=0, Action=0, Adventure=0, Animation=0, Children's=0, Comedy=0, Crime=1, Documentary=0, Drama=1, Fantasy=0, Film-Noir=0, Horror=0, Musical=0, Mystery=0, Romance=0, Sci-Fi=0, Thriller=1, War=0, Western=0, gender_feature=SparseVector(1, {}), occupation_feature=SparseVector(20, {7: 1.0})),\n",
       " Row(user_id=345, movie_id=241, rating=4, unknown=0, Action=1, Adventure=0, Animation=0, Children's=0, Comedy=0, Crime=0, Documentary=0, Drama=0, Fantasy=0, Film-Noir=0, Horror=0, Musical=0, Mystery=0, Romance=1, Sci-Fi=0, Thriller=0, War=1, Western=0, gender_feature=SparseVector(1, {}), occupation_feature=SparseVector(20, {7: 1.0})),\n",
       " Row(user_id=345, movie_id=161, rating=3, unknown=0, Action=1, Adventure=0, Animation=0, Children's=0, Comedy=0, Crime=0, Documentary=0, Drama=0, Fantasy=0, Film-Noir=0, Horror=0, Musical=0, Mystery=0, Romance=1, Sci-Fi=0, Thriller=0, War=0, Western=0, gender_feature=SparseVector(1, {}), occupation_feature=SparseVector(20, {7: 1.0})),\n",
       " Row(user_id=345, movie_id=1315, rating=3, unknown=0, Action=0, Adventure=0, Animation=0, Children's=0, Comedy=0, Crime=0, Documentary=0, Drama=1, Fantasy=0, Film-Noir=0, Horror=0, Musical=0, Mystery=0, Romance=1, Sci-Fi=0, Thriller=0, War=0, Western=0, gender_feature=SparseVector(1, {}), occupation_feature=SparseVector(20, {7: 1.0})),\n",
       " Row(user_id=345, movie_id=49, rating=3, unknown=0, Action=0, Adventure=0, Animation=0, Children's=0, Comedy=1, Crime=0, Documentary=0, Drama=0, Fantasy=0, Film-Noir=0, Horror=0, Musical=0, Mystery=0, Romance=1, Sci-Fi=0, Thriller=0, War=0, Western=0, gender_feature=SparseVector(1, {}), occupation_feature=SparseVector(20, {7: 1.0})),\n",
       " Row(user_id=345, movie_id=736, rating=3, unknown=0, Action=0, Adventure=0, Animation=0, Children's=0, Comedy=0, Crime=0, Documentary=0, Drama=1, Fantasy=0, Film-Noir=0, Horror=0, Musical=0, Mystery=0, Romance=1, Sci-Fi=0, Thriller=0, War=0, Western=0, gender_feature=SparseVector(1, {}), occupation_feature=SparseVector(20, {7: 1.0})),\n",
       " Row(user_id=345, movie_id=238, rating=5, unknown=0, Action=0, Adventure=0, Animation=0, Children's=0, Comedy=1, Crime=0, Documentary=0, Drama=0, Fantasy=0, Film-Noir=0, Horror=0, Musical=0, Mystery=0, Romance=0, Sci-Fi=0, Thriller=0, War=0, Western=0, gender_feature=SparseVector(1, {}), occupation_feature=SparseVector(20, {7: 1.0})),\n",
       " Row(user_id=345, movie_id=244, rating=3, unknown=0, Action=1, Adventure=0, Animation=0, Children's=0, Comedy=0, Crime=0, Documentary=0, Drama=1, Fantasy=0, Film-Noir=0, Horror=0, Musical=0, Mystery=0, Romance=0, Sci-Fi=0, Thriller=1, War=0, Western=0, gender_feature=SparseVector(1, {}), occupation_feature=SparseVector(20, {7: 1.0})),\n",
       " Row(user_id=345, movie_id=87, rating=5, unknown=0, Action=0, Adventure=0, Animation=0, Children's=0, Comedy=0, Crime=0, Documentary=0, Drama=1, Fantasy=0, Film-Noir=0, Horror=0, Musical=0, Mystery=0, Romance=0, Sci-Fi=0, Thriller=0, War=0, Western=0, gender_feature=SparseVector(1, {}), occupation_feature=SparseVector(20, {7: 1.0})),\n",
       " Row(user_id=345, movie_id=443, rating=5, unknown=0, Action=0, Adventure=0, Animation=0, Children's=0, Comedy=0, Crime=0, Documentary=0, Drama=0, Fantasy=0, Film-Noir=0, Horror=1, Musical=0, Mystery=0, Romance=0, Sci-Fi=0, Thriller=0, War=0, Western=0, gender_feature=SparseVector(1, {}), occupation_feature=SparseVector(20, {7: 1.0})),\n",
       " Row(user_id=345, movie_id=956, rating=4, unknown=0, Action=0, Adventure=0, Animation=0, Children's=0, Comedy=0, Crime=0, Documentary=0, Drama=1, Fantasy=0, Film-Noir=0, Horror=0, Musical=0, Mystery=0, Romance=0, Sci-Fi=0, Thriller=0, War=0, Western=0, gender_feature=SparseVector(1, {}), occupation_feature=SparseVector(20, {7: 1.0})),\n",
       " Row(user_id=345, movie_id=51, rating=5, unknown=0, Action=0, Adventure=0, Animation=0, Children's=0, Comedy=0, Crime=0, Documentary=0, Drama=1, Fantasy=0, Film-Noir=0, Horror=0, Musical=0, Mystery=0, Romance=1, Sci-Fi=0, Thriller=0, War=1, Western=1, gender_feature=SparseVector(1, {}), occupation_feature=SparseVector(20, {7: 1.0})),\n",
       " Row(user_id=345, movie_id=69, rating=4, unknown=0, Action=0, Adventure=0, Animation=0, Children's=0, Comedy=1, Crime=0, Documentary=0, Drama=0, Fantasy=0, Film-Noir=0, Horror=0, Musical=0, Mystery=0, Romance=1, Sci-Fi=0, Thriller=0, War=1, Western=0, gender_feature=SparseVector(1, {}), occupation_feature=SparseVector(20, {7: 1.0})),\n",
       " Row(user_id=345, movie_id=234, rating=4, unknown=0, Action=1, Adventure=0, Animation=0, Children's=0, Comedy=0, Crime=0, Documentary=0, Drama=0, Fantasy=0, Film-Noir=0, Horror=1, Musical=0, Mystery=0, Romance=0, Sci-Fi=0, Thriller=0, War=0, Western=0, gender_feature=SparseVector(1, {}), occupation_feature=SparseVector(20, {7: 1.0})),\n",
       " Row(user_id=345, movie_id=239, rating=4, unknown=0, Action=0, Adventure=0, Animation=0, Children's=0, Comedy=0, Crime=1, Documentary=0, Drama=1, Fantasy=0, Film-Noir=0, Horror=0, Musical=0, Mystery=0, Romance=0, Sci-Fi=1, Thriller=0, War=0, Western=0, gender_feature=SparseVector(1, {}), occupation_feature=SparseVector(20, {7: 1.0})),\n",
       " Row(user_id=345, movie_id=312, rating=3, unknown=0, Action=0, Adventure=0, Animation=0, Children's=0, Comedy=1, Crime=1, Documentary=0, Drama=1, Fantasy=0, Film-Noir=0, Horror=0, Musical=0, Mystery=1, Romance=0, Sci-Fi=0, Thriller=0, War=0, Western=0, gender_feature=SparseVector(1, {}), occupation_feature=SparseVector(20, {7: 1.0})),\n",
       " Row(user_id=345, movie_id=403, rating=3, unknown=0, Action=1, Adventure=1, Animation=0, Children's=0, Comedy=0, Crime=1, Documentary=0, Drama=1, Fantasy=0, Film-Noir=0, Horror=0, Musical=0, Mystery=0, Romance=0, Sci-Fi=0, Thriller=0, War=0, Western=0, gender_feature=SparseVector(1, {}), occupation_feature=SparseVector(20, {7: 1.0})),\n",
       " Row(user_id=345, movie_id=77, rating=3, unknown=0, Action=0, Adventure=0, Animation=0, Children's=0, Comedy=0, Crime=0, Documentary=0, Drama=1, Fantasy=0, Film-Noir=0, Horror=0, Musical=0, Mystery=0, Romance=0, Sci-Fi=0, Thriller=1, War=0, Western=0, gender_feature=SparseVector(1, {}), occupation_feature=SparseVector(20, {7: 1.0})),\n",
       " Row(user_id=345, movie_id=1007, rating=5, unknown=0, Action=0, Adventure=0, Animation=0, Children's=0, Comedy=1, Crime=0, Documentary=0, Drama=0, Fantasy=0, Film-Noir=0, Horror=0, Musical=0, Mystery=0, Romance=0, Sci-Fi=0, Thriller=0, War=0, Western=0, gender_feature=SparseVector(1, {}), occupation_feature=SparseVector(20, {7: 1.0})),\n",
       " Row(user_id=345, movie_id=50, rating=5, unknown=0, Action=1, Adventure=1, Animation=0, Children's=0, Comedy=0, Crime=0, Documentary=0, Drama=0, Fantasy=0, Film-Noir=0, Horror=0, Musical=0, Mystery=0, Romance=1, Sci-Fi=1, Thriller=0, War=1, Western=0, gender_feature=SparseVector(1, {}), occupation_feature=SparseVector(20, {7: 1.0})),\n",
       " Row(user_id=345, movie_id=518, rating=4, unknown=0, Action=0, Adventure=0, Animation=0, Children's=0, Comedy=0, Crime=0, Documentary=0, Drama=1, Fantasy=0, Film-Noir=0, Horror=0, Musical=0, Mystery=0, Romance=0, Sci-Fi=0, Thriller=0, War=0, Western=0, gender_feature=SparseVector(1, {}), occupation_feature=SparseVector(20, {7: 1.0})),\n",
       " Row(user_id=345, movie_id=293, rating=4, unknown=0, Action=0, Adventure=0, Animation=0, Children's=0, Comedy=0, Crime=1, Documentary=0, Drama=1, Fantasy=0, Film-Noir=0, Horror=0, Musical=0, Mystery=0, Romance=0, Sci-Fi=0, Thriller=0, War=0, Western=0, gender_feature=SparseVector(1, {}), occupation_feature=SparseVector(20, {7: 1.0})),\n",
       " Row(user_id=345, movie_id=216, rating=5, unknown=0, Action=0, Adventure=0, Animation=0, Children's=0, Comedy=1, Crime=0, Documentary=0, Drama=0, Fantasy=0, Film-Noir=0, Horror=0, Musical=0, Mystery=0, Romance=1, Sci-Fi=0, Thriller=0, War=0, Western=0, gender_feature=SparseVector(1, {}), occupation_feature=SparseVector(20, {7: 1.0})),\n",
       " Row(user_id=345, movie_id=38, rating=2, unknown=0, Action=0, Adventure=0, Animation=0, Children's=0, Comedy=0, Crime=0, Documentary=0, Drama=0, Fantasy=0, Film-Noir=0, Horror=0, Musical=0, Mystery=0, Romance=0, Sci-Fi=1, Thriller=1, War=0, Western=0, gender_feature=SparseVector(1, {}), occupation_feature=SparseVector(20, {7: 1.0})),\n",
       " Row(user_id=345, movie_id=181, rating=4, unknown=0, Action=1, Adventure=1, Animation=0, Children's=0, Comedy=0, Crime=0, Documentary=0, Drama=0, Fantasy=0, Film-Noir=0, Horror=0, Musical=0, Mystery=0, Romance=1, Sci-Fi=1, Thriller=0, War=1, Western=0, gender_feature=SparseVector(1, {}), occupation_feature=SparseVector(20, {7: 1.0})),\n",
       " Row(user_id=345, movie_id=288, rating=3, unknown=0, Action=0, Adventure=0, Animation=0, Children's=0, Comedy=0, Crime=0, Documentary=0, Drama=0, Fantasy=0, Film-Noir=0, Horror=1, Musical=0, Mystery=0, Romance=0, Sci-Fi=0, Thriller=1, War=0, Western=0, gender_feature=SparseVector(1, {}), occupation_feature=SparseVector(20, {7: 1.0})),\n",
       " Row(user_id=345, movie_id=289, rating=3, unknown=0, Action=0, Adventure=0, Animation=0, Children's=0, Comedy=0, Crime=0, Documentary=0, Drama=1, Fantasy=0, Film-Noir=0, Horror=0, Musical=1, Mystery=0, Romance=0, Sci-Fi=0, Thriller=0, War=0, Western=0, gender_feature=SparseVector(1, {}), occupation_feature=SparseVector(20, {7: 1.0})),\n",
       " Row(user_id=345, movie_id=356, rating=3, unknown=0, Action=0, Adventure=0, Animation=0, Children's=0, Comedy=0, Crime=0, Documentary=0, Drama=1, Fantasy=0, Film-Noir=0, Horror=0, Musical=0, Mystery=1, Romance=0, Sci-Fi=0, Thriller=1, War=0, Western=0, gender_feature=SparseVector(1, {}), occupation_feature=SparseVector(20, {7: 1.0})),\n",
       " Row(user_id=345, movie_id=25, rating=3, unknown=0, Action=0, Adventure=0, Animation=0, Children's=0, Comedy=1, Crime=0, Documentary=0, Drama=0, Fantasy=0, Film-Noir=0, Horror=0, Musical=0, Mystery=0, Romance=0, Sci-Fi=0, Thriller=0, War=0, Western=0, gender_feature=SparseVector(1, {}), occupation_feature=SparseVector(20, {7: 1.0})),\n",
       " Row(user_id=345, movie_id=245, rating=2, unknown=0, Action=1, Adventure=0, Animation=0, Children's=0, Comedy=0, Crime=0, Documentary=0, Drama=1, Fantasy=0, Film-Noir=0, Horror=0, Musical=0, Mystery=0, Romance=0, Sci-Fi=0, Thriller=1, War=1, Western=0, gender_feature=SparseVector(1, {}), occupation_feature=SparseVector(20, {7: 1.0})),\n",
       " Row(user_id=345, movie_id=237, rating=4, unknown=0, Action=0, Adventure=0, Animation=0, Children's=0, Comedy=0, Crime=0, Documentary=0, Drama=1, Fantasy=0, Film-Noir=0, Horror=0, Musical=0, Mystery=0, Romance=1, Sci-Fi=0, Thriller=0, War=0, Western=0, gender_feature=SparseVector(1, {}), occupation_feature=SparseVector(20, {7: 1.0})),\n",
       " Row(user_id=345, movie_id=70, rating=5, unknown=0, Action=0, Adventure=0, Animation=0, Children's=0, Comedy=1, Crime=0, Documentary=0, Drama=0, Fantasy=0, Film-Noir=0, Horror=0, Musical=0, Mystery=0, Romance=1, Sci-Fi=0, Thriller=0, War=0, Western=0, gender_feature=SparseVector(1, {}), occupation_feature=SparseVector(20, {7: 1.0})),\n",
       " Row(user_id=345, movie_id=121, rating=3, unknown=0, Action=1, Adventure=0, Animation=0, Children's=0, Comedy=0, Crime=0, Documentary=0, Drama=0, Fantasy=0, Film-Noir=0, Horror=0, Musical=0, Mystery=0, Romance=0, Sci-Fi=1, Thriller=0, War=1, Western=0, gender_feature=SparseVector(1, {}), occupation_feature=SparseVector(20, {7: 1.0})),\n",
       " Row(user_id=345, movie_id=125, rating=3, unknown=0, Action=0, Adventure=0, Animation=0, Children's=0, Comedy=0, Crime=0, Documentary=0, Drama=1, Fantasy=0, Film-Noir=0, Horror=0, Musical=0, Mystery=0, Romance=1, Sci-Fi=0, Thriller=0, War=0, Western=0, gender_feature=SparseVector(1, {}), occupation_feature=SparseVector(20, {7: 1.0})),\n",
       " Row(user_id=345, movie_id=143, rating=5, unknown=0, Action=0, Adventure=0, Animation=0, Children's=0, Comedy=0, Crime=0, Documentary=0, Drama=0, Fantasy=0, Film-Noir=0, Horror=0, Musical=1, Mystery=0, Romance=0, Sci-Fi=0, Thriller=0, War=0, Western=0, gender_feature=SparseVector(1, {}), occupation_feature=SparseVector(20, {7: 1.0})),\n",
       " Row(user_id=345, movie_id=226, rating=3, unknown=0, Action=1, Adventure=0, Animation=0, Children's=0, Comedy=0, Crime=0, Documentary=0, Drama=0, Fantasy=0, Film-Noir=0, Horror=0, Musical=0, Mystery=0, Romance=0, Sci-Fi=0, Thriller=1, War=0, Western=0, gender_feature=SparseVector(1, {}), occupation_feature=SparseVector(20, {7: 1.0})),\n",
       " Row(user_id=345, movie_id=651, rating=4, unknown=0, Action=1, Adventure=0, Animation=0, Children's=0, Comedy=0, Crime=0, Documentary=0, Drama=1, Fantasy=0, Film-Noir=0, Horror=0, Musical=0, Mystery=0, Romance=0, Sci-Fi=0, Thriller=0, War=1, Western=0, gender_feature=SparseVector(1, {}), occupation_feature=SparseVector(20, {7: 1.0})),\n",
       " Row(user_id=345, movie_id=464, rating=3, unknown=0, Action=0, Adventure=0, Animation=0, Children's=0, Comedy=0, Crime=0, Documentary=0, Drama=1, Fantasy=0, Film-Noir=0, Horror=0, Musical=0, Mystery=0, Romance=0, Sci-Fi=0, Thriller=0, War=0, Western=0, gender_feature=SparseVector(1, {}), occupation_feature=SparseVector(20, {7: 1.0})),\n",
       " Row(user_id=345, movie_id=1221, rating=3, unknown=0, Action=0, Adventure=0, Animation=0, Children's=0, Comedy=0, Crime=0, Documentary=0, Drama=1, Fantasy=0, Film-Noir=0, Horror=0, Musical=0, Mystery=0, Romance=0, Sci-Fi=0, Thriller=0, War=0, Western=0, gender_feature=SparseVector(1, {}), occupation_feature=SparseVector(20, {7: 1.0})),\n",
       " Row(user_id=345, movie_id=323, rating=3, unknown=0, Action=1, Adventure=0, Animation=0, Children's=0, Comedy=0, Crime=0, Documentary=0, Drama=0, Fantasy=0, Film-Noir=0, Horror=0, Musical=0, Mystery=0, Romance=0, Sci-Fi=0, Thriller=1, War=0, Western=0, gender_feature=SparseVector(1, {}), occupation_feature=SparseVector(20, {7: 1.0})),\n",
       " Row(user_id=345, movie_id=550, rating=3, unknown=0, Action=1, Adventure=0, Animation=0, Children's=0, Comedy=0, Crime=0, Documentary=0, Drama=0, Fantasy=0, Film-Noir=0, Horror=0, Musical=0, Mystery=0, Romance=0, Sci-Fi=0, Thriller=1, War=0, Western=0, gender_feature=SparseVector(1, {}), occupation_feature=SparseVector(20, {7: 1.0})),\n",
       " Row(user_id=345, movie_id=866, rating=3, unknown=0, Action=0, Adventure=0, Animation=0, Children's=0, Comedy=1, Crime=0, Documentary=0, Drama=0, Fantasy=0, Film-Noir=0, Horror=0, Musical=0, Mystery=0, Romance=1, Sci-Fi=0, Thriller=0, War=0, Western=0, gender_feature=SparseVector(1, {}), occupation_feature=SparseVector(20, {7: 1.0})),\n",
       " Row(user_id=345, movie_id=941, rating=3, unknown=0, Action=0, Adventure=0, Animation=0, Children's=0, Comedy=1, Crime=0, Documentary=0, Drama=1, Fantasy=0, Film-Noir=0, Horror=0, Musical=0, Mystery=0, Romance=0, Sci-Fi=0, Thriller=0, War=0, Western=0, gender_feature=SparseVector(1, {}), occupation_feature=SparseVector(20, {7: 1.0})),\n",
       " Row(user_id=345, movie_id=98, rating=5, unknown=0, Action=0, Adventure=0, Animation=0, Children's=0, Comedy=0, Crime=0, Documentary=0, Drama=1, Fantasy=0, Film-Noir=0, Horror=0, Musical=0, Mystery=0, Romance=0, Sci-Fi=0, Thriller=1, War=0, Western=0, gender_feature=SparseVector(1, {}), occupation_feature=SparseVector(20, {7: 1.0})),\n",
       " Row(user_id=345, movie_id=678, rating=2, unknown=0, Action=0, Adventure=0, Animation=0, Children's=0, Comedy=0, Crime=0, Documentary=0, Drama=1, Fantasy=0, Film-Noir=0, Horror=0, Musical=0, Mystery=0, Romance=0, Sci-Fi=0, Thriller=1, War=0, Western=0, gender_feature=SparseVector(1, {}), occupation_feature=SparseVector(20, {7: 1.0})),\n",
       " Row(user_id=345, movie_id=287, rating=4, unknown=0, Action=0, Adventure=0, Animation=0, Children's=0, Comedy=0, Crime=0, Documentary=0, Drama=1, Fantasy=0, Film-Noir=0, Horror=0, Musical=0, Mystery=0, Romance=0, Sci-Fi=0, Thriller=0, War=0, Western=0, gender_feature=SparseVector(1, {}), occupation_feature=SparseVector(20, {7: 1.0})),\n",
       " Row(user_id=345, movie_id=1053, rating=3, unknown=0, Action=0, Adventure=0, Animation=0, Children's=0, Comedy=0, Crime=0, Documentary=0, Drama=1, Fantasy=0, Film-Noir=0, Horror=0, Musical=0, Mystery=0, Romance=0, Sci-Fi=0, Thriller=0, War=0, Western=0, gender_feature=SparseVector(1, {}), occupation_feature=SparseVector(20, {7: 1.0})),\n",
       " Row(user_id=345, movie_id=1014, rating=3, unknown=0, Action=0, Adventure=0, Animation=0, Children's=0, Comedy=1, Crime=0, Documentary=0, Drama=0, Fantasy=0, Film-Noir=0, Horror=0, Musical=0, Mystery=0, Romance=0, Sci-Fi=0, Thriller=0, War=0, Western=0, gender_feature=SparseVector(1, {}), occupation_feature=SparseVector(20, {7: 1.0})),\n",
       " Row(user_id=345, movie_id=382, rating=4, unknown=0, Action=0, Adventure=0, Animation=0, Children's=0, Comedy=1, Crime=0, Documentary=0, Drama=1, Fantasy=0, Film-Noir=0, Horror=0, Musical=0, Mystery=0, Romance=0, Sci-Fi=0, Thriller=0, War=0, Western=0, gender_feature=SparseVector(1, {}), occupation_feature=SparseVector(20, {7: 1.0})),\n",
       " Row(user_id=345, movie_id=469, rating=5, unknown=0, Action=0, Adventure=0, Animation=0, Children's=0, Comedy=0, Crime=0, Documentary=0, Drama=1, Fantasy=0, Film-Noir=0, Horror=0, Musical=0, Mystery=0, Romance=0, Sci-Fi=0, Thriller=0, War=0, Western=0, gender_feature=SparseVector(1, {}), occupation_feature=SparseVector(20, {7: 1.0})),\n",
       " Row(user_id=345, movie_id=221, rating=5, unknown=0, Action=0, Adventure=0, Animation=0, Children's=0, Comedy=0, Crime=0, Documentary=0, Drama=1, Fantasy=0, Film-Noir=0, Horror=0, Musical=0, Mystery=0, Romance=0, Sci-Fi=0, Thriller=0, War=0, Western=0, gender_feature=SparseVector(1, {}), occupation_feature=SparseVector(20, {7: 1.0})),\n",
       " Row(user_id=345, movie_id=151, rating=5, unknown=0, Action=0, Adventure=1, Animation=0, Children's=1, Comedy=1, Crime=0, Documentary=0, Drama=0, Fantasy=0, Film-Noir=0, Horror=0, Musical=0, Mystery=0, Romance=0, Sci-Fi=0, Thriller=0, War=0, Western=0, gender_feature=SparseVector(1, {}), occupation_feature=SparseVector(20, {7: 1.0})),\n",
       " Row(user_id=345, movie_id=433, rating=4, unknown=0, Action=0, Adventure=0, Animation=0, Children's=0, Comedy=1, Crime=0, Documentary=0, Drama=0, Fantasy=0, Film-Noir=0, Horror=0, Musical=0, Mystery=0, Romance=0, Sci-Fi=0, Thriller=0, War=0, Western=0, gender_feature=SparseVector(1, {}), occupation_feature=SparseVector(20, {7: 1.0})),\n",
       " Row(user_id=345, movie_id=724, rating=5, unknown=0, Action=0, Adventure=0, Animation=0, Children's=0, Comedy=0, Crime=0, Documentary=0, Drama=1, Fantasy=0, Film-Noir=0, Horror=0, Musical=0, Mystery=0, Romance=1, Sci-Fi=0, Thriller=0, War=0, Western=0, gender_feature=SparseVector(1, {}), occupation_feature=SparseVector(20, {7: 1.0})),\n",
       " Row(user_id=345, movie_id=1023, rating=2, unknown=0, Action=0, Adventure=0, Animation=0, Children's=0, Comedy=1, Crime=0, Documentary=0, Drama=0, Fantasy=0, Film-Noir=0, Horror=0, Musical=0, Mystery=0, Romance=0, Sci-Fi=0, Thriller=0, War=0, Western=0, gender_feature=SparseVector(1, {}), occupation_feature=SparseVector(20, {7: 1.0})),\n",
       " Row(user_id=345, movie_id=200, rating=4, unknown=0, Action=0, Adventure=0, Animation=0, Children's=0, Comedy=0, Crime=0, Documentary=0, Drama=0, Fantasy=0, Film-Noir=0, Horror=1, Musical=0, Mystery=0, Romance=0, Sci-Fi=0, Thriller=0, War=0, Western=0, gender_feature=SparseVector(1, {}), occupation_feature=SparseVector(20, {7: 1.0})),\n",
       " Row(user_id=345, movie_id=272, rating=5, unknown=0, Action=0, Adventure=0, Animation=0, Children's=0, Comedy=0, Crime=0, Documentary=0, Drama=1, Fantasy=0, Film-Noir=0, Horror=0, Musical=0, Mystery=0, Romance=0, Sci-Fi=0, Thriller=0, War=0, Western=0, gender_feature=SparseVector(1, {}), occupation_feature=SparseVector(20, {7: 1.0})),\n",
       " Row(user_id=345, movie_id=56, rating=5, unknown=0, Action=0, Adventure=0, Animation=0, Children's=0, Comedy=0, Crime=1, Documentary=0, Drama=1, Fantasy=0, Film-Noir=0, Horror=0, Musical=0, Mystery=0, Romance=0, Sci-Fi=0, Thriller=0, War=0, Western=0, gender_feature=SparseVector(1, {}), occupation_feature=SparseVector(20, {7: 1.0})),\n",
       " Row(user_id=345, movie_id=378, rating=4, unknown=0, Action=0, Adventure=0, Animation=0, Children's=0, Comedy=0, Crime=0, Documentary=0, Drama=1, Fantasy=0, Film-Noir=0, Horror=0, Musical=0, Mystery=0, Romance=0, Sci-Fi=0, Thriller=0, War=0, Western=0, gender_feature=SparseVector(1, {}), occupation_feature=SparseVector(20, {7: 1.0})),\n",
       " Row(user_id=345, movie_id=639, rating=4, unknown=0, Action=0, Adventure=0, Animation=0, Children's=0, Comedy=0, Crime=0, Documentary=0, Drama=1, Fantasy=0, Film-Noir=0, Horror=0, Musical=0, Mystery=0, Romance=0, Sci-Fi=0, Thriller=0, War=0, Western=0, gender_feature=SparseVector(1, {}), occupation_feature=SparseVector(20, {7: 1.0})),\n",
       " Row(user_id=345, movie_id=534, rating=4, unknown=0, Action=0, Adventure=0, Animation=0, Children's=0, Comedy=0, Crime=0, Documentary=0, Drama=1, Fantasy=0, Film-Noir=0, Horror=0, Musical=0, Mystery=0, Romance=0, Sci-Fi=0, Thriller=0, War=0, Western=0, gender_feature=SparseVector(1, {}), occupation_feature=SparseVector(20, {7: 1.0})),\n",
       " Row(user_id=345, movie_id=655, rating=4, unknown=0, Action=0, Adventure=1, Animation=0, Children's=0, Comedy=1, Crime=0, Documentary=0, Drama=1, Fantasy=0, Film-Noir=0, Horror=0, Musical=0, Mystery=0, Romance=0, Sci-Fi=0, Thriller=0, War=0, Western=0, gender_feature=SparseVector(1, {}), occupation_feature=SparseVector(20, {7: 1.0})),\n",
       " Row(user_id=345, movie_id=303, rating=4, unknown=0, Action=0, Adventure=0, Animation=0, Children's=0, Comedy=0, Crime=0, Documentary=0, Drama=1, Fantasy=0, Film-Noir=0, Horror=0, Musical=0, Mystery=0, Romance=0, Sci-Fi=0, Thriller=0, War=0, Western=0, gender_feature=SparseVector(1, {}), occupation_feature=SparseVector(20, {7: 1.0})),\n",
       " Row(user_id=345, movie_id=1281, rating=4, unknown=0, Action=0, Adventure=0, Animation=0, Children's=0, Comedy=0, Crime=0, Documentary=0, Drama=1, Fantasy=0, Film-Noir=0, Horror=0, Musical=0, Mystery=0, Romance=0, Sci-Fi=0, Thriller=0, War=0, Western=0, gender_feature=SparseVector(1, {}), occupation_feature=SparseVector(20, {7: 1.0})),\n",
       " Row(user_id=345, movie_id=170, rating=5, unknown=0, Action=0, Adventure=0, Animation=0, Children's=0, Comedy=1, Crime=0, Documentary=0, Drama=1, Fantasy=0, Film-Noir=0, Horror=0, Musical=0, Mystery=0, Romance=1, Sci-Fi=0, Thriller=0, War=0, Western=0, gender_feature=SparseVector(1, {}), occupation_feature=SparseVector(20, {7: 1.0})),\n",
       " Row(user_id=345, movie_id=702, rating=4, unknown=0, Action=0, Adventure=0, Animation=0, Children's=0, Comedy=1, Crime=0, Documentary=0, Drama=0, Fantasy=0, Film-Noir=0, Horror=0, Musical=0, Mystery=0, Romance=1, Sci-Fi=0, Thriller=0, War=0, Western=0, gender_feature=SparseVector(1, {}), occupation_feature=SparseVector(20, {7: 1.0})),\n",
       " Row(user_id=345, movie_id=708, rating=3, unknown=0, Action=0, Adventure=0, Animation=0, Children's=0, Comedy=0, Crime=0, Documentary=0, Drama=1, Fantasy=0, Film-Noir=0, Horror=0, Musical=0, Mystery=0, Romance=0, Sci-Fi=0, Thriller=0, War=0, Western=0, gender_feature=SparseVector(1, {}), occupation_feature=SparseVector(20, {7: 1.0})),\n",
       " Row(user_id=345, movie_id=298, rating=5, unknown=0, Action=1, Adventure=0, Animation=0, Children's=0, Comedy=0, Crime=0, Documentary=0, Drama=0, Fantasy=0, Film-Noir=0, Horror=0, Musical=0, Mystery=0, Romance=0, Sci-Fi=1, Thriller=1, War=0, Western=0, gender_feature=SparseVector(1, {}), occupation_feature=SparseVector(20, {7: 1.0})),\n",
       " Row(user_id=345, movie_id=58, rating=4, unknown=0, Action=0, Adventure=0, Animation=0, Children's=0, Comedy=0, Crime=0, Documentary=0, Drama=1, Fantasy=0, Film-Noir=0, Horror=0, Musical=0, Mystery=0, Romance=0, Sci-Fi=0, Thriller=0, War=0, Western=0, gender_feature=SparseVector(1, {}), occupation_feature=SparseVector(20, {7: 1.0})),\n",
       " Row(user_id=345, movie_id=11, rating=4, unknown=0, Action=0, Adventure=0, Animation=0, Children's=0, Comedy=0, Crime=1, Documentary=0, Drama=0, Fantasy=0, Film-Noir=0, Horror=0, Musical=0, Mystery=0, Romance=0, Sci-Fi=0, Thriller=1, War=0, Western=0, gender_feature=SparseVector(1, {}), occupation_feature=SparseVector(20, {7: 1.0})),\n",
       " Row(user_id=345, movie_id=33, rating=4, unknown=0, Action=1, Adventure=0, Animation=0, Children's=0, Comedy=0, Crime=0, Documentary=0, Drama=0, Fantasy=0, Film-Noir=0, Horror=0, Musical=0, Mystery=0, Romance=1, Sci-Fi=0, Thriller=1, War=0, Western=0, gender_feature=SparseVector(1, {}), occupation_feature=SparseVector(20, {7: 1.0})),\n",
       " Row(user_id=345, movie_id=204, rating=4, unknown=0, Action=0, Adventure=0, Animation=0, Children's=0, Comedy=1, Crime=0, Documentary=0, Drama=0, Fantasy=0, Film-Noir=0, Horror=0, Musical=0, Mystery=0, Romance=0, Sci-Fi=1, Thriller=0, War=0, Western=0, gender_feature=SparseVector(1, {}), occupation_feature=SparseVector(20, {7: 1.0})),\n",
       " Row(user_id=345, movie_id=781, rating=3, unknown=0, Action=0, Adventure=0, Animation=0, Children's=0, Comedy=1, Crime=0, Documentary=0, Drama=0, Fantasy=0, Film-Noir=0, Horror=0, Musical=0, Mystery=0, Romance=1, Sci-Fi=0, Thriller=0, War=0, Western=0, gender_feature=SparseVector(1, {}), occupation_feature=SparseVector(20, {7: 1.0})),\n",
       " Row(user_id=345, movie_id=150, rating=5, unknown=0, Action=0, Adventure=0, Animation=0, Children's=0, Comedy=1, Crime=0, Documentary=0, Drama=1, Fantasy=0, Film-Noir=0, Horror=0, Musical=0, Mystery=0, Romance=0, Sci-Fi=0, Thriller=0, War=0, Western=0, gender_feature=SparseVector(1, {}), occupation_feature=SparseVector(20, {7: 1.0})),\n",
       " Row(user_id=345, movie_id=508, rating=4, unknown=0, Action=0, Adventure=0, Animation=0, Children's=0, Comedy=0, Crime=0, Documentary=0, Drama=1, Fantasy=0, Film-Noir=0, Horror=0, Musical=0, Mystery=0, Romance=0, Sci-Fi=0, Thriller=0, War=0, Western=0, gender_feature=SparseVector(1, {}), occupation_feature=SparseVector(20, {7: 1.0})),\n",
       " Row(user_id=345, movie_id=71, rating=3, unknown=0, Action=0, Adventure=0, Animation=1, Children's=1, Comedy=0, Crime=0, Documentary=0, Drama=0, Fantasy=0, Film-Noir=0, Horror=0, Musical=1, Mystery=0, Romance=0, Sci-Fi=0, Thriller=0, War=0, Western=0, gender_feature=SparseVector(1, {}), occupation_feature=SparseVector(20, {7: 1.0})),\n",
       " Row(user_id=345, movie_id=14, rating=4, unknown=0, Action=0, Adventure=0, Animation=0, Children's=0, Comedy=0, Crime=0, Documentary=0, Drama=1, Fantasy=0, Film-Noir=0, Horror=0, Musical=0, Mystery=0, Romance=1, Sci-Fi=0, Thriller=0, War=0, Western=0, gender_feature=SparseVector(1, {}), occupation_feature=SparseVector(20, {7: 1.0})),\n",
       " Row(user_id=345, movie_id=317, rating=4, unknown=0, Action=0, Adventure=0, Animation=0, Children's=0, Comedy=0, Crime=0, Documentary=0, Drama=1, Fantasy=0, Film-Noir=0, Horror=0, Musical=0, Mystery=0, Romance=0, Sci-Fi=0, Thriller=0, War=0, Western=0, gender_feature=SparseVector(1, {}), occupation_feature=SparseVector(20, {7: 1.0})),\n",
       " Row(user_id=345, movie_id=284, rating=4, unknown=0, Action=0, Adventure=0, Animation=0, Children's=0, Comedy=1, Crime=0, Documentary=0, Drama=0, Fantasy=0, Film-Noir=0, Horror=0, Musical=0, Mystery=0, Romance=1, Sci-Fi=0, Thriller=0, War=0, Western=0, gender_feature=SparseVector(1, {}), occupation_feature=SparseVector(20, {7: 1.0})),\n",
       " Row(user_id=345, movie_id=248, rating=5, unknown=0, Action=0, Adventure=0, Animation=0, Children's=0, Comedy=1, Crime=1, Documentary=0, Drama=0, Fantasy=0, Film-Noir=0, Horror=0, Musical=0, Mystery=0, Romance=0, Sci-Fi=0, Thriller=0, War=0, Western=0, gender_feature=SparseVector(1, {}), occupation_feature=SparseVector(20, {7: 1.0})),\n",
       " Row(user_id=345, movie_id=42, rating=2, unknown=0, Action=0, Adventure=0, Animation=0, Children's=0, Comedy=1, Crime=0, Documentary=0, Drama=0, Fantasy=0, Film-Noir=0, Horror=0, Musical=0, Mystery=0, Romance=0, Sci-Fi=0, Thriller=0, War=0, Western=0, gender_feature=SparseVector(1, {}), occupation_feature=SparseVector(20, {7: 1.0})),\n",
       " Row(user_id=345, movie_id=566, rating=3, unknown=0, Action=1, Adventure=1, Animation=0, Children's=0, Comedy=0, Crime=0, Documentary=0, Drama=0, Fantasy=0, Film-Noir=0, Horror=0, Musical=0, Mystery=0, Romance=0, Sci-Fi=0, Thriller=1, War=0, Western=0, gender_feature=SparseVector(1, {}), occupation_feature=SparseVector(20, {7: 1.0})),\n",
       " Row(user_id=345, movie_id=79, rating=4, unknown=0, Action=1, Adventure=0, Animation=0, Children's=0, Comedy=0, Crime=0, Documentary=0, Drama=0, Fantasy=0, Film-Noir=0, Horror=0, Musical=0, Mystery=0, Romance=0, Sci-Fi=0, Thriller=1, War=0, Western=0, gender_feature=SparseVector(1, {}), occupation_feature=SparseVector(20, {7: 1.0})),\n",
       " Row(user_id=345, movie_id=131, rating=4, unknown=0, Action=0, Adventure=0, Animation=0, Children's=0, Comedy=0, Crime=0, Documentary=0, Drama=1, Fantasy=0, Film-Noir=0, Horror=0, Musical=0, Mystery=0, Romance=1, Sci-Fi=0, Thriller=0, War=0, Western=0, gender_feature=SparseVector(1, {}), occupation_feature=SparseVector(20, {7: 1.0})),\n",
       " Row(user_id=345, movie_id=365, rating=2, unknown=0, Action=0, Adventure=0, Animation=0, Children's=0, Comedy=0, Crime=0, Documentary=0, Drama=1, Fantasy=0, Film-Noir=0, Horror=0, Musical=0, Mystery=0, Romance=0, Sci-Fi=0, Thriller=0, War=0, Western=0, gender_feature=SparseVector(1, {}), occupation_feature=SparseVector(20, {7: 1.0})),\n",
       " Row(user_id=345, movie_id=294, rating=3, unknown=0, Action=0, Adventure=0, Animation=0, Children's=0, Comedy=1, Crime=0, Documentary=0, Drama=0, Fantasy=0, Film-Noir=0, Horror=0, Musical=0, Mystery=0, Romance=0, Sci-Fi=0, Thriller=0, War=0, Western=0, gender_feature=SparseVector(1, {}), occupation_feature=SparseVector(20, {7: 1.0})),\n",
       " Row(user_id=345, movie_id=118, rating=3, unknown=0, Action=1, Adventure=1, Animation=0, Children's=0, Comedy=0, Crime=0, Documentary=0, Drama=0, Fantasy=0, Film-Noir=0, Horror=0, Musical=0, Mystery=0, Romance=0, Sci-Fi=0, Thriller=1, War=0, Western=0, gender_feature=SparseVector(1, {}), occupation_feature=SparseVector(20, {7: 1.0})),\n",
       " Row(user_id=345, movie_id=722, rating=3, unknown=0, Action=0, Adventure=0, Animation=0, Children's=0, Comedy=1, Crime=0, Documentary=0, Drama=0, Fantasy=0, Film-Noir=0, Horror=0, Musical=0, Mystery=0, Romance=0, Sci-Fi=0, Thriller=0, War=0, Western=0, gender_feature=SparseVector(1, {}), occupation_feature=SparseVector(20, {7: 1.0})),\n",
       " Row(user_id=345, movie_id=124, rating=5, unknown=0, Action=0, Adventure=0, Animation=0, Children's=0, Comedy=0, Crime=0, Documentary=0, Drama=1, Fantasy=0, Film-Noir=0, Horror=0, Musical=0, Mystery=1, Romance=0, Sci-Fi=0, Thriller=0, War=0, Western=0, gender_feature=SparseVector(1, {}), occupation_feature=SparseVector(20, {7: 1.0})),\n",
       " Row(user_id=345, movie_id=1011, rating=3, unknown=0, Action=0, Adventure=0, Animation=0, Children's=0, Comedy=0, Crime=1, Documentary=0, Drama=0, Fantasy=0, Film-Noir=0, Horror=0, Musical=0, Mystery=0, Romance=0, Sci-Fi=0, Thriller=0, War=0, Western=0, gender_feature=SparseVector(1, {}), occupation_feature=SparseVector(20, {7: 1.0})),\n",
       " Row(user_id=345, movie_id=302, rating=5, unknown=0, Action=0, Adventure=0, Animation=0, Children's=0, Comedy=0, Crime=1, Documentary=0, Drama=0, Fantasy=0, Film-Noir=1, Horror=0, Musical=0, Mystery=1, Romance=0, Sci-Fi=0, Thriller=1, War=0, Western=0, gender_feature=SparseVector(1, {}), occupation_feature=SparseVector(20, {7: 1.0})),\n",
       " Row(user_id=345, movie_id=313, rating=4, unknown=0, Action=1, Adventure=0, Animation=0, Children's=0, Comedy=0, Crime=0, Documentary=0, Drama=1, Fantasy=0, Film-Noir=0, Horror=0, Musical=0, Mystery=0, Romance=1, Sci-Fi=0, Thriller=0, War=0, Western=0, gender_feature=SparseVector(1, {}), occupation_feature=SparseVector(20, {7: 1.0})),\n",
       " Row(user_id=345, movie_id=815, rating=3, unknown=0, Action=0, Adventure=0, Animation=0, Children's=0, Comedy=0, Crime=0, Documentary=0, Drama=1, Fantasy=0, Film-Noir=0, Horror=0, Musical=0, Mystery=0, Romance=1, Sci-Fi=0, Thriller=0, War=0, Western=0, gender_feature=SparseVector(1, {}), occupation_feature=SparseVector(20, {7: 1.0})),\n",
       " Row(user_id=345, movie_id=66, rating=3, unknown=0, Action=0, Adventure=0, Animation=0, Children's=0, Comedy=1, Crime=0, Documentary=0, Drama=0, Fantasy=0, Film-Noir=0, Horror=0, Musical=0, Mystery=0, Romance=1, Sci-Fi=0, Thriller=0, War=0, Western=0, gender_feature=SparseVector(1, {}), occupation_feature=SparseVector(20, {7: 1.0})),\n",
       " Row(user_id=345, movie_id=405, rating=4, unknown=0, Action=1, Adventure=1, Animation=0, Children's=0, Comedy=0, Crime=0, Documentary=0, Drama=0, Fantasy=0, Film-Noir=0, Horror=0, Musical=0, Mystery=1, Romance=0, Sci-Fi=0, Thriller=0, War=0, Western=0, gender_feature=SparseVector(1, {}), occupation_feature=SparseVector(20, {7: 1.0})),\n",
       " Row(user_id=345, movie_id=1012, rating=3, unknown=0, Action=0, Adventure=0, Animation=0, Children's=0, Comedy=1, Crime=0, Documentary=0, Drama=1, Fantasy=0, Film-Noir=0, Horror=0, Musical=0, Mystery=0, Romance=0, Sci-Fi=0, Thriller=0, War=0, Western=0, gender_feature=SparseVector(1, {}), occupation_feature=SparseVector(20, {7: 1.0})),\n",
       " Row(user_id=345, movie_id=282, rating=3, unknown=0, Action=0, Adventure=0, Animation=0, Children's=0, Comedy=0, Crime=0, Documentary=0, Drama=1, Fantasy=0, Film-Noir=0, Horror=0, Musical=0, Mystery=0, Romance=0, Sci-Fi=0, Thriller=0, War=0, Western=0, gender_feature=SparseVector(1, {}), occupation_feature=SparseVector(20, {7: 1.0})),\n",
       " Row(user_id=345, movie_id=1101, rating=4, unknown=0, Action=0, Adventure=0, Animation=0, Children's=0, Comedy=0, Crime=0, Documentary=0, Drama=1, Fantasy=0, Film-Noir=0, Horror=0, Musical=0, Mystery=1, Romance=0, Sci-Fi=0, Thriller=0, War=0, Western=0, gender_feature=SparseVector(1, {}), occupation_feature=SparseVector(20, {7: 1.0})),\n",
       " Row(user_id=345, movie_id=311, rating=5, unknown=0, Action=0, Adventure=0, Animation=0, Children's=0, Comedy=0, Crime=0, Documentary=0, Drama=1, Fantasy=0, Film-Noir=0, Horror=0, Musical=0, Mystery=0, Romance=1, Sci-Fi=0, Thriller=1, War=0, Western=0, gender_feature=SparseVector(1, {}), occupation_feature=SparseVector(20, {7: 1.0})),\n",
       " Row(user_id=345, movie_id=535, rating=3, unknown=0, Action=0, Adventure=0, Animation=0, Children's=0, Comedy=1, Crime=0, Documentary=0, Drama=0, Fantasy=0, Film-Noir=0, Horror=0, Musical=0, Mystery=0, Romance=1, Sci-Fi=0, Thriller=0, War=0, Western=0, gender_feature=SparseVector(1, {}), occupation_feature=SparseVector(20, {7: 1.0})),\n",
       " Row(user_id=345, movie_id=628, rating=3, unknown=0, Action=0, Adventure=0, Animation=0, Children's=0, Comedy=0, Crime=1, Documentary=0, Drama=1, Fantasy=0, Film-Noir=0, Horror=0, Musical=0, Mystery=0, Romance=0, Sci-Fi=0, Thriller=0, War=0, Western=0, gender_feature=SparseVector(1, {}), occupation_feature=SparseVector(20, {7: 1.0})),\n",
       " Row(user_id=345, movie_id=174, rating=4, unknown=0, Action=1, Adventure=1, Animation=0, Children's=0, Comedy=0, Crime=0, Documentary=0, Drama=0, Fantasy=0, Film-Noir=0, Horror=0, Musical=0, Mystery=0, Romance=0, Sci-Fi=0, Thriller=0, War=0, Western=0, gender_feature=SparseVector(1, {}), occupation_feature=SparseVector(20, {7: 1.0})),\n",
       " Row(user_id=345, movie_id=215, rating=4, unknown=0, Action=0, Adventure=0, Animation=0, Children's=0, Comedy=0, Crime=0, Documentary=0, Drama=1, Fantasy=0, Film-Noir=0, Horror=0, Musical=0, Mystery=0, Romance=0, Sci-Fi=0, Thriller=0, War=0, Western=0, gender_feature=SparseVector(1, {}), occupation_feature=SparseVector(20, {7: 1.0})),\n",
       " Row(user_id=345, movie_id=172, rating=4, unknown=0, Action=1, Adventure=1, Animation=0, Children's=0, Comedy=0, Crime=0, Documentary=0, Drama=1, Fantasy=0, Film-Noir=0, Horror=0, Musical=0, Mystery=0, Romance=1, Sci-Fi=1, Thriller=0, War=1, Western=0, gender_feature=SparseVector(1, {}), occupation_feature=SparseVector(20, {7: 1.0})),\n",
       " Row(user_id=345, movie_id=716, rating=3, unknown=0, Action=0, Adventure=0, Animation=0, Children's=0, Comedy=0, Crime=0, Documentary=0, Drama=1, Fantasy=0, Film-Noir=0, Horror=0, Musical=0, Mystery=0, Romance=1, Sci-Fi=0, Thriller=0, War=0, Western=0, gender_feature=SparseVector(1, {}), occupation_feature=SparseVector(20, {7: 1.0})),\n",
       " Row(user_id=345, movie_id=949, rating=3, unknown=0, Action=0, Adventure=0, Animation=0, Children's=0, Comedy=0, Crime=0, Documentary=0, Drama=1, Fantasy=0, Film-Noir=0, Horror=0, Musical=0, Mystery=0, Romance=1, Sci-Fi=0, Thriller=0, War=0, Western=0, gender_feature=SparseVector(1, {}), occupation_feature=SparseVector(20, {7: 1.0})),\n",
       " Row(user_id=345, movie_id=1117, rating=4, unknown=0, Action=0, Adventure=0, Animation=0, Children's=0, Comedy=0, Crime=0, Documentary=0, Drama=1, Fantasy=0, Film-Noir=0, Horror=0, Musical=0, Mystery=0, Romance=0, Sci-Fi=0, Thriller=0, War=0, Western=0, gender_feature=SparseVector(1, {}), occupation_feature=SparseVector(20, {7: 1.0})),\n",
       " Row(user_id=345, movie_id=1009, rating=2, unknown=0, Action=0, Adventure=0, Animation=0, Children's=0, Comedy=0, Crime=0, Documentary=0, Drama=1, Fantasy=0, Film-Noir=0, Horror=0, Musical=0, Mystery=0, Romance=0, Sci-Fi=0, Thriller=0, War=0, Western=0, gender_feature=SparseVector(1, {}), occupation_feature=SparseVector(20, {7: 1.0})),\n",
       " Row(user_id=345, movie_id=315, rating=5, unknown=0, Action=0, Adventure=0, Animation=0, Children's=0, Comedy=0, Crime=0, Documentary=0, Drama=1, Fantasy=0, Film-Noir=0, Horror=0, Musical=0, Mystery=0, Romance=0, Sci-Fi=0, Thriller=1, War=0, Western=0, gender_feature=SparseVector(1, {}), occupation_feature=SparseVector(20, {7: 1.0})),\n",
       " Row(user_id=345, movie_id=393, rating=3, unknown=0, Action=0, Adventure=0, Animation=0, Children's=0, Comedy=1, Crime=0, Documentary=0, Drama=0, Fantasy=0, Film-Noir=0, Horror=0, Musical=0, Mystery=0, Romance=0, Sci-Fi=0, Thriller=0, War=0, Western=0, gender_feature=SparseVector(1, {}), occupation_feature=SparseVector(20, {7: 1.0}))]"
      ]
     },
     "execution_count": 63,
     "metadata": {},
     "output_type": "execute_result"
    }
   ],
   "source": [
    "joined_df.filter(joined_df.user_id == 345).collect()"
   ]
  },
  {
   "cell_type": "code",
   "execution_count": null,
   "metadata": {
    "collapsed": true
   },
   "outputs": [],
   "source": []
  }
 ],
 "metadata": {
  "kernelspec": {
   "display_name": "Python [default]",
   "language": "python",
   "name": "python3"
  },
  "language_info": {
   "codemirror_mode": {
    "name": "ipython",
    "version": 3
   },
   "file_extension": ".py",
   "mimetype": "text/x-python",
   "name": "python",
   "nbconvert_exporter": "python",
   "pygments_lexer": "ipython3",
   "version": "3.6.3"
  }
 },
 "nbformat": 4,
 "nbformat_minor": 2
}
