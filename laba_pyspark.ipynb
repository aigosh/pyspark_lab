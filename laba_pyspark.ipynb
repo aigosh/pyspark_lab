{
 "cells": [
  {
   "cell_type": "markdown",
   "metadata": {},
   "source": [
    "# Лабораторная работа 2\n",
    "Выполнили: Елизарова Юлия, Игошин Андрей, Кипаренко Илья, Кириленко Юлия, Клыков Вячеслав, Лепигина Анастасия"
   ]
  },
  {
   "cell_type": "code",
   "execution_count": 1,
   "metadata": {},
   "outputs": [],
   "source": [
    "from pyspark.sql import SparkSession\n",
    "from pyspark.ml.recommendation import ALS\n",
    "from pyspark.ml.evaluation import RegressionEvaluator\n",
    "from pyspark.ml.feature import OneHotEncoder\n",
    "from pyspark.ml.feature import StringIndexer\n",
    "from pyspark.ml.feature import MinMaxScaler"
   ]
  },
  {
   "cell_type": "code",
   "execution_count": 2,
   "metadata": {},
   "outputs": [
    {
     "name": "stdout",
     "output_type": "stream",
     "text": [
      "Installing /anaconda3/lib/python3.6/site-packages/sparkmonitor/static -> sparkmonitor\n",
      "- Validating: \u001b[32mOK\u001b[0m\n",
      "\n",
      "    To initialize this nbextension in the browser every time the notebook (or other app) loads:\n",
      "    \n",
      "          jupyter nbextension enable sparkmonitor --user --py\n",
      "    \n",
      "Enabling notebook extension sparkmonitor/module...\n",
      "      - Validating: \u001b[32mOK\u001b[0m\n",
      "Enabling: sparkmonitor.serverextension\n",
      "- Writing config: /Users/a.y.igoshin/.jupyter\n",
      "    - Validating...\n",
      "      sparkmonitor.serverextension  \u001b[32mOK\u001b[0m\n"
     ]
    }
   ],
   "source": [
    "import sparkmonitor\n",
    "!jupyter nbextension install sparkmonitor --py --user --symlink \n",
    "!jupyter nbextension enable sparkmonitor --py --user            \n",
    "!jupyter serverextension enable --py --user sparkmonitor\n",
    "!ipython profile create && echo \"c.InteractiveShellApp.extensions.append('sparkmonitor.kernelextension')\" >>  $(ipython profile locate default)/ipython_kernel_config.py"
   ]
  },
  {
   "cell_type": "code",
   "execution_count": 3,
   "metadata": {},
   "outputs": [],
   "source": [
    "from pyspark import SparkContext\n",
    "sc=SparkContext.getOrCreate(conf=conf) #Start the spark context"
   ]
  },
  {
   "cell_type": "code",
   "execution_count": 4,
   "metadata": {},
   "outputs": [],
   "source": [
    "spark = SparkSession.builder.appName('MovieRatingsProject').getOrCreate()"
   ]
  },
  {
   "cell_type": "code",
   "execution_count": 5,
   "metadata": {},
   "outputs": [
    {
     "name": "stdout",
     "output_type": "stream",
     "text": [
      "+--------------+\n",
      "|           _c0|\n",
      "+--------------+\n",
      "|     943 users|\n",
      "|    1682 items|\n",
      "|100000 ratings|\n",
      "+--------------+\n",
      "\n"
     ]
    }
   ],
   "source": [
    "info = spark.read.csv('ml-100k/u.info',inferSchema=True,sep='\\t')\n",
    "info.show()"
   ]
  },
  {
   "cell_type": "code",
   "execution_count": 6,
   "metadata": {},
   "outputs": [],
   "source": [
    "from pyspark.sql.functions import from_unixtime, year"
   ]
  },
  {
   "cell_type": "markdown",
   "metadata": {},
   "source": [
    "Датасет содержит 100 000 оценок 934 пользователями 1682 фильмов. Каждый пользователь оценил не менее 20 фильмов."
   ]
  },
  {
   "cell_type": "code",
   "execution_count": 7,
   "metadata": {},
   "outputs": [],
   "source": [
    "ratings = spark.read.csv('ml-100k/u.data',inferSchema=True,sep='\\t')\n",
    "ratings = ratings.withColumnRenamed('_c0','user_id').withColumnRenamed('_c1','movie_id').withColumnRenamed('_c2','rating').withColumnRenamed('_c3','timestamp')\n",
    "# ratings.show()"
   ]
  },
  {
   "cell_type": "code",
   "execution_count": 8,
   "metadata": {},
   "outputs": [],
   "source": [
    "ratings = ratings.withColumn('year_rated', year(from_unixtime('timestamp')))"
   ]
  },
  {
   "cell_type": "code",
   "execution_count": 9,
   "metadata": {},
   "outputs": [
    {
     "name": "stdout",
     "output_type": "stream",
     "text": [
      "+-------+--------+------+---------+----------+\n",
      "|user_id|movie_id|rating|timestamp|year_rated|\n",
      "+-------+--------+------+---------+----------+\n",
      "|    196|     242|     3|881250949|      1997|\n",
      "|    186|     302|     3|891717742|      1998|\n",
      "|     22|     377|     1|878887116|      1997|\n",
      "|    244|      51|     2|880606923|      1997|\n",
      "|    166|     346|     1|886397596|      1998|\n",
      "|    298|     474|     4|884182806|      1998|\n",
      "|    115|     265|     2|881171488|      1997|\n",
      "|    253|     465|     5|891628467|      1998|\n",
      "|    305|     451|     3|886324817|      1998|\n",
      "|      6|      86|     3|883603013|      1998|\n",
      "|     62|     257|     2|879372434|      1997|\n",
      "|    286|    1014|     5|879781125|      1997|\n",
      "|    200|     222|     5|876042340|      1997|\n",
      "|    210|      40|     3|891035994|      1998|\n",
      "|    224|      29|     3|888104457|      1998|\n",
      "|    303|     785|     3|879485318|      1997|\n",
      "|    122|     387|     5|879270459|      1997|\n",
      "|    194|     274|     2|879539794|      1997|\n",
      "|    291|    1042|     4|874834944|      1997|\n",
      "|    234|    1184|     2|892079237|      1998|\n",
      "+-------+--------+------+---------+----------+\n",
      "only showing top 20 rows\n",
      "\n"
     ]
    }
   ],
   "source": [
    "ratings.show()"
   ]
  },
  {
   "cell_type": "markdown",
   "metadata": {},
   "source": [
    "Информация о каждом фильме включает в себя название, даты выхода в прокат и появления в магазинах, ссылку на IMDB и жанр. Причем один фильм может быть отнесен к нескольким жанрам. "
   ]
  },
  {
   "cell_type": "code",
   "execution_count": 10,
   "metadata": {},
   "outputs": [],
   "source": [
    "movies = spark.read.csv('ml-100k/u.item', inferSchema=True, sep='|')\n",
    "names = ['movie_id', 'movie_title', 'release_date', 'video_release_date', 'IMDb_URL', 'unknown', 'Action', 'Adventure', 'Animation', \"Children's\", 'Comedy', 'Crime', 'Documentary', 'Drama', 'Fantasy', 'Film-Noir', 'Horror', 'Musical', 'Mystery', 'Romance', 'Sci-Fi', 'Thriller', 'War', 'Western']\n",
    "for i in range(len(names)):\n",
    "    movies = movies.withColumnRenamed('_c'+str(i), names[i])\n"
   ]
  },
  {
   "cell_type": "code",
   "execution_count": 11,
   "metadata": {},
   "outputs": [],
   "source": [
    "from pyspark.sql.functions import to_date"
   ]
  },
  {
   "cell_type": "code",
   "execution_count": 12,
   "metadata": {},
   "outputs": [],
   "source": [
    "movies = movies.withColumn('year_released', year(to_date('release_date', 'dd-MMM-yyyy')))"
   ]
  },
  {
   "cell_type": "code",
   "execution_count": 13,
   "metadata": {},
   "outputs": [
    {
     "name": "stdout",
     "output_type": "stream",
     "text": [
      "+--------+--------------------+------------+------------------+--------------------+-------+------+---------+---------+----------+------+-----+-----------+-----+-------+---------+------+-------+-------+-------+------+--------+---+-------+-------------+\n",
      "|movie_id|         movie_title|release_date|video_release_date|            IMDb_URL|unknown|Action|Adventure|Animation|Children's|Comedy|Crime|Documentary|Drama|Fantasy|Film-Noir|Horror|Musical|Mystery|Romance|Sci-Fi|Thriller|War|Western|year_released|\n",
      "+--------+--------------------+------------+------------------+--------------------+-------+------+---------+---------+----------+------+-----+-----------+-----+-------+---------+------+-------+-------+-------+------+--------+---+-------+-------------+\n",
      "|       1|    Toy Story (1995)| 01-Jan-1995|              null|http://us.imdb.co...|      0|     0|        0|        1|         1|     1|    0|          0|    0|      0|        0|     0|      0|      0|      0|     0|       0|  0|      0|         1995|\n",
      "|       2|    GoldenEye (1995)| 01-Jan-1995|              null|http://us.imdb.co...|      0|     1|        1|        0|         0|     0|    0|          0|    0|      0|        0|     0|      0|      0|      0|     0|       1|  0|      0|         1995|\n",
      "|       3|   Four Rooms (1995)| 01-Jan-1995|              null|http://us.imdb.co...|      0|     0|        0|        0|         0|     0|    0|          0|    0|      0|        0|     0|      0|      0|      0|     0|       1|  0|      0|         1995|\n",
      "|       4|   Get Shorty (1995)| 01-Jan-1995|              null|http://us.imdb.co...|      0|     1|        0|        0|         0|     1|    0|          0|    1|      0|        0|     0|      0|      0|      0|     0|       0|  0|      0|         1995|\n",
      "|       5|      Copycat (1995)| 01-Jan-1995|              null|http://us.imdb.co...|      0|     0|        0|        0|         0|     0|    1|          0|    1|      0|        0|     0|      0|      0|      0|     0|       1|  0|      0|         1995|\n",
      "|       6|Shanghai Triad (Y...| 01-Jan-1995|              null|http://us.imdb.co...|      0|     0|        0|        0|         0|     0|    0|          0|    1|      0|        0|     0|      0|      0|      0|     0|       0|  0|      0|         1995|\n",
      "|       7|Twelve Monkeys (1...| 01-Jan-1995|              null|http://us.imdb.co...|      0|     0|        0|        0|         0|     0|    0|          0|    1|      0|        0|     0|      0|      0|      0|     1|       0|  0|      0|         1995|\n",
      "|       8|         Babe (1995)| 01-Jan-1995|              null|http://us.imdb.co...|      0|     0|        0|        0|         1|     1|    0|          0|    1|      0|        0|     0|      0|      0|      0|     0|       0|  0|      0|         1995|\n",
      "|       9|Dead Man Walking ...| 01-Jan-1995|              null|http://us.imdb.co...|      0|     0|        0|        0|         0|     0|    0|          0|    1|      0|        0|     0|      0|      0|      0|     0|       0|  0|      0|         1995|\n",
      "|      10|  Richard III (1995)| 22-Jan-1996|              null|http://us.imdb.co...|      0|     0|        0|        0|         0|     0|    0|          0|    1|      0|        0|     0|      0|      0|      0|     0|       0|  1|      0|         1996|\n",
      "|      11|Seven (Se7en) (1995)| 01-Jan-1995|              null|http://us.imdb.co...|      0|     0|        0|        0|         0|     0|    1|          0|    0|      0|        0|     0|      0|      0|      0|     0|       1|  0|      0|         1995|\n",
      "|      12|Usual Suspects, T...| 14-Aug-1995|              null|http://us.imdb.co...|      0|     0|        0|        0|         0|     0|    1|          0|    0|      0|        0|     0|      0|      0|      0|     0|       1|  0|      0|         1995|\n",
      "|      13|Mighty Aphrodite ...| 30-Oct-1995|              null|http://us.imdb.co...|      0|     0|        0|        0|         0|     1|    0|          0|    0|      0|        0|     0|      0|      0|      0|     0|       0|  0|      0|         1995|\n",
      "|      14|  Postino, Il (1994)| 01-Jan-1994|              null|http://us.imdb.co...|      0|     0|        0|        0|         0|     0|    0|          0|    1|      0|        0|     0|      0|      0|      1|     0|       0|  0|      0|         1994|\n",
      "|      15|Mr. Holland's Opu...| 29-Jan-1996|              null|http://us.imdb.co...|      0|     0|        0|        0|         0|     0|    0|          0|    1|      0|        0|     0|      0|      0|      0|     0|       0|  0|      0|         1996|\n",
      "|      16|French Twist (Gaz...| 01-Jan-1995|              null|http://us.imdb.co...|      0|     0|        0|        0|         0|     1|    0|          0|    0|      0|        0|     0|      0|      0|      1|     0|       0|  0|      0|         1995|\n",
      "|      17|From Dusk Till Da...| 05-Feb-1996|              null|http://us.imdb.co...|      0|     1|        0|        0|         0|     1|    1|          0|    0|      0|        0|     1|      0|      0|      0|     0|       1|  0|      0|         1996|\n",
      "|      18|White Balloon, Th...| 01-Jan-1995|              null|http://us.imdb.co...|      0|     0|        0|        0|         0|     0|    0|          0|    1|      0|        0|     0|      0|      0|      0|     0|       0|  0|      0|         1995|\n",
      "|      19|Antonia's Line (1...| 01-Jan-1995|              null|http://us.imdb.co...|      0|     0|        0|        0|         0|     0|    0|          0|    1|      0|        0|     0|      0|      0|      0|     0|       0|  0|      0|         1995|\n",
      "|      20|Angels and Insect...| 01-Jan-1995|              null|http://us.imdb.co...|      0|     0|        0|        0|         0|     0|    0|          0|    1|      0|        0|     0|      0|      0|      1|     0|       0|  0|      0|         1995|\n",
      "+--------+--------------------+------------+------------------+--------------------+-------+------+---------+---------+----------+------+-----+-----------+-----+-------+---------+------+-------+-------+-------+------+--------+---+-------+-------------+\n",
      "only showing top 20 rows\n",
      "\n"
     ]
    }
   ],
   "source": [
    "movies.show()"
   ]
  },
  {
   "cell_type": "markdown",
   "metadata": {},
   "source": [
    "Информация о каждом пользователе включает в себя возраст, пол, профессию и почтовый индекс."
   ]
  },
  {
   "cell_type": "code",
   "execution_count": 14,
   "metadata": {
    "scrolled": true
   },
   "outputs": [
    {
     "name": "stdout",
     "output_type": "stream",
     "text": [
      "+-------+---+------+-------------+--------+\n",
      "|user_id|age|gender|   occupation|zip_code|\n",
      "+-------+---+------+-------------+--------+\n",
      "|      1| 24|     M|   technician|   85711|\n",
      "|      2| 53|     F|        other|   94043|\n",
      "|      3| 23|     M|       writer|   32067|\n",
      "|      4| 24|     M|   technician|   43537|\n",
      "|      5| 33|     F|        other|   15213|\n",
      "|      6| 42|     M|    executive|   98101|\n",
      "|      7| 57|     M|administrator|   91344|\n",
      "|      8| 36|     M|administrator|   05201|\n",
      "|      9| 29|     M|      student|   01002|\n",
      "|     10| 53|     M|       lawyer|   90703|\n",
      "|     11| 39|     F|        other|   30329|\n",
      "|     12| 28|     F|        other|   06405|\n",
      "|     13| 47|     M|     educator|   29206|\n",
      "|     14| 45|     M|    scientist|   55106|\n",
      "|     15| 49|     F|     educator|   97301|\n",
      "|     16| 21|     M|entertainment|   10309|\n",
      "|     17| 30|     M|   programmer|   06355|\n",
      "|     18| 35|     F|        other|   37212|\n",
      "|     19| 40|     M|    librarian|   02138|\n",
      "|     20| 42|     F|    homemaker|   95660|\n",
      "+-------+---+------+-------------+--------+\n",
      "only showing top 20 rows\n",
      "\n"
     ]
    }
   ],
   "source": [
    "users = spark.read.csv('ml-100k/u.user', inferSchema=True, sep='|')\n",
    "names = ['user_id', 'age', 'gender', 'occupation', 'zip_code']\n",
    "for i in range(len(names)):\n",
    "    users = users.withColumnRenamed('_c'+str(i), names[i])\n",
    "users.show()"
   ]
  },
  {
   "cell_type": "code",
   "execution_count": 15,
   "metadata": {},
   "outputs": [],
   "source": [
    "stringIndexer = StringIndexer(inputCol=\"gender\", outputCol=\"indexed_gender\", handleInvalid='error')\n",
    "model = stringIndexer.fit(users)\n",
    "users = model.transform(users)\n",
    "encoder = OneHotEncoder(inputCol=\"indexed_gender\", outputCol='gender_feature')\n",
    "users = encoder.transform(users)\n",
    "\n",
    "stringIndexer = StringIndexer(inputCol=\"occupation\", outputCol=\"indexed_occupation\", handleInvalid='error')\n",
    "model = stringIndexer.fit(users)\n",
    "users = model.transform(users)\n",
    "encoder = OneHotEncoder(inputCol=\"indexed_occupation\", outputCol='occupation_feature')\n",
    "users = encoder.transform(users)"
   ]
  },
  {
   "cell_type": "code",
   "execution_count": 16,
   "metadata": {},
   "outputs": [
    {
     "name": "stdout",
     "output_type": "stream",
     "text": [
      "+-------+---+------+-------------+--------+--------------+--------------+------------------+------------------+\n",
      "|user_id|age|gender|   occupation|zip_code|indexed_gender|gender_feature|indexed_occupation|occupation_feature|\n",
      "+-------+---+------+-------------+--------+--------------+--------------+------------------+------------------+\n",
      "|      1| 24|     M|   technician|   85711|           0.0| (1,[0],[1.0])|              11.0|   (20,[11],[1.0])|\n",
      "|      2| 53|     F|        other|   94043|           1.0|     (1,[],[])|               1.0|    (20,[1],[1.0])|\n",
      "|      3| 23|     M|       writer|   32067|           0.0| (1,[0],[1.0])|               7.0|    (20,[7],[1.0])|\n",
      "|      4| 24|     M|   technician|   43537|           0.0| (1,[0],[1.0])|              11.0|   (20,[11],[1.0])|\n",
      "|      5| 33|     F|        other|   15213|           1.0|     (1,[],[])|               1.0|    (20,[1],[1.0])|\n",
      "|      6| 42|     M|    executive|   98101|           0.0| (1,[0],[1.0])|               8.0|    (20,[8],[1.0])|\n",
      "|      7| 57|     M|administrator|   91344|           0.0| (1,[0],[1.0])|               3.0|    (20,[3],[1.0])|\n",
      "|      8| 36|     M|administrator|   05201|           0.0| (1,[0],[1.0])|               3.0|    (20,[3],[1.0])|\n",
      "|      9| 29|     M|      student|   01002|           0.0| (1,[0],[1.0])|               0.0|    (20,[0],[1.0])|\n",
      "|     10| 53|     M|       lawyer|   90703|           0.0| (1,[0],[1.0])|              17.0|   (20,[17],[1.0])|\n",
      "|     11| 39|     F|        other|   30329|           1.0|     (1,[],[])|               1.0|    (20,[1],[1.0])|\n",
      "|     12| 28|     F|        other|   06405|           1.0|     (1,[],[])|               1.0|    (20,[1],[1.0])|\n",
      "|     13| 47|     M|     educator|   29206|           0.0| (1,[0],[1.0])|               2.0|    (20,[2],[1.0])|\n",
      "|     14| 45|     M|    scientist|   55106|           0.0| (1,[0],[1.0])|               9.0|    (20,[9],[1.0])|\n",
      "|     15| 49|     F|     educator|   97301|           1.0|     (1,[],[])|               2.0|    (20,[2],[1.0])|\n",
      "|     16| 21|     M|entertainment|   10309|           0.0| (1,[0],[1.0])|              13.0|   (20,[13],[1.0])|\n",
      "|     17| 30|     M|   programmer|   06355|           0.0| (1,[0],[1.0])|               5.0|    (20,[5],[1.0])|\n",
      "|     18| 35|     F|        other|   37212|           1.0|     (1,[],[])|               1.0|    (20,[1],[1.0])|\n",
      "|     19| 40|     M|    librarian|   02138|           0.0| (1,[0],[1.0])|               6.0|    (20,[6],[1.0])|\n",
      "|     20| 42|     F|    homemaker|   95660|           1.0|     (1,[],[])|              20.0|        (20,[],[])|\n",
      "+-------+---+------+-------------+--------+--------------+--------------+------------------+------------------+\n",
      "only showing top 20 rows\n",
      "\n"
     ]
    }
   ],
   "source": [
    "users.show()"
   ]
  },
  {
   "cell_type": "code",
   "execution_count": 17,
   "metadata": {},
   "outputs": [],
   "source": [
    "genres = ['unknown', 'Action', 'Adventure', 'Animation', \"Children's\", 'Comedy', 'Crime', 'Documentary', 'Drama', 'Fantasy', 'Film-Noir', 'Horror', 'Musical', 'Mystery', 'Romance', 'Sci-Fi', 'Thriller', 'War', 'Western']"
   ]
  },
  {
   "cell_type": "markdown",
   "metadata": {},
   "source": [
    "Для получения целостного датасета было принято решение собрать датафреймы с оценками и информацией о фильмах и пользователях в один."
   ]
  },
  {
   "cell_type": "code",
   "execution_count": 18,
   "metadata": {
    "scrolled": true
   },
   "outputs": [],
   "source": [
    "joined_df = ratings.join(users, [\"user_id\"], 'outer').drop('zip_code', 'timestamp')\n",
    "joined_df = joined_df.join(movies, [\"movie_id\"], 'outer').drop('movie_title', 'release_date', 'video_release_date', 'IMDb_URL')"
   ]
  },
  {
   "cell_type": "code",
   "execution_count": 19,
   "metadata": {},
   "outputs": [],
   "source": [
    "from pyspark.sql.functions import when"
   ]
  },
  {
   "cell_type": "code",
   "execution_count": 20,
   "metadata": {},
   "outputs": [],
   "source": [
    "joined_df = joined_df.withColumn('rated_released_year_diff', when(joined_df.year_rated - joined_df.year_released > 0, joined_df.year_rated - joined_df.year_released ).otherwise(0))"
   ]
  },
  {
   "cell_type": "code",
   "execution_count": 21,
   "metadata": {},
   "outputs": [
    {
     "name": "stdout",
     "output_type": "stream",
     "text": [
      "+--------+-------+------+----------+---+------+----------+--------------+--------------+------------------+------------------+-------+------+---------+---------+----------+------+-----+-----------+-----+-------+---------+------+-------+-------+-------+------+--------+---+-------+-------------+------------------------+\n",
      "|movie_id|user_id|rating|year_rated|age|gender|occupation|indexed_gender|gender_feature|indexed_occupation|occupation_feature|unknown|Action|Adventure|Animation|Children's|Comedy|Crime|Documentary|Drama|Fantasy|Film-Noir|Horror|Musical|Mystery|Romance|Sci-Fi|Thriller|War|Western|year_released|rated_released_year_diff|\n",
      "+--------+-------+------+----------+---+------+----------+--------------+--------------+------------------+------------------+-------+------+---------+---------+----------+------+-----+-----------+-----+-------+---------+------+-------+-------+-------+------+--------+---+-------+-------------+------------------------+\n",
      "|     148|    251|     2|      1998| 28|     M|    doctor|           0.0| (1,[0],[1.0])|              19.0|   (20,[19],[1.0])|      0|     1|        1|        0|         0|     0|    0|          0|    0|      0|        0|     0|      0|      0|      0|     0|       0|  0|      0|         1996|                       2|\n",
      "|     148|    580|     4|      1998| 16|     M|   student|           0.0| (1,[0],[1.0])|               0.0|    (20,[0],[1.0])|      0|     1|        1|        0|         0|     0|    0|          0|    0|      0|        0|     0|      0|      0|      0|     0|       0|  0|      0|         1996|                       2|\n",
      "|     148|    633|     1|      1997| 35|     M|programmer|           0.0| (1,[0],[1.0])|               5.0|    (20,[5],[1.0])|      0|     1|        1|        0|         0|     0|    0|          0|    0|      0|        0|     0|      0|      0|      0|     0|       0|  0|      0|         1996|                       1|\n",
      "|     148|    642|     5|      1998| 18|     F|   student|           1.0|     (1,[],[])|               0.0|    (20,[0],[1.0])|      0|     1|        1|        0|         0|     0|    0|          0|    0|      0|        0|     0|      0|      0|      0|     0|       0|  0|      0|         1996|                       2|\n",
      "|     148|    406|     3|      1997| 52|     M|  educator|           0.0| (1,[0],[1.0])|               2.0|    (20,[2],[1.0])|      0|     1|        1|        0|         0|     0|    0|          0|    0|      0|        0|     0|      0|      0|      0|     0|       0|  0|      0|         1996|                       1|\n",
      "|     148|     26|     3|      1998| 49|     M|  engineer|           0.0| (1,[0],[1.0])|               4.0|    (20,[4],[1.0])|      0|     1|        1|        0|         0|     0|    0|          0|    0|      0|        0|     0|      0|      0|      0|     0|       0|  0|      0|         1996|                       2|\n",
      "|     148|     27|     3|      1998| 40|     F| librarian|           1.0|     (1,[],[])|               6.0|    (20,[6],[1.0])|      0|     1|        1|        0|         0|     0|    0|          0|    0|      0|        0|     0|      0|      0|      0|     0|       0|  0|      0|         1996|                       2|\n",
      "|     148|    332|     5|      1998| 20|     M|   student|           0.0| (1,[0],[1.0])|               0.0|    (20,[0],[1.0])|      0|     1|        1|        0|         0|     0|    0|          0|    0|      0|        0|     0|      0|      0|      0|     0|       0|  0|      0|         1996|                       2|\n",
      "|     148|     44|     4|      1997| 26|     M|technician|           0.0| (1,[0],[1.0])|              11.0|   (20,[11],[1.0])|      0|     1|        1|        0|         0|     0|    0|          0|    0|      0|        0|     0|      0|      0|      0|     0|       0|  0|      0|         1996|                       1|\n",
      "|     148|    271|     3|      1998| 51|     M|  engineer|           0.0| (1,[0],[1.0])|               4.0|    (20,[4],[1.0])|      0|     1|        1|        0|         0|     0|    0|          0|    0|      0|        0|     0|      0|      0|      0|     0|       0|  0|      0|         1996|                       2|\n",
      "|     148|    606|     3|      1997| 28|     M|programmer|           0.0| (1,[0],[1.0])|               5.0|    (20,[5],[1.0])|      0|     1|        1|        0|         0|     0|    0|          0|    0|      0|        0|     0|      0|      0|      0|     0|       0|  0|      0|         1996|                       1|\n",
      "|     148|    916|     2|      1997| 27|     M|  engineer|           0.0| (1,[0],[1.0])|               4.0|    (20,[4],[1.0])|      0|     1|        1|        0|         0|     0|    0|          0|    0|      0|        0|     0|      0|      0|      0|     0|       0|  0|      0|         1996|                       1|\n",
      "|     148|    236|     4|      1998| 44|     F|    writer|           1.0|     (1,[],[])|               7.0|    (20,[7],[1.0])|      0|     1|        1|        0|         0|     0|    0|          0|    0|      0|        0|     0|      0|      0|      0|     0|       0|  0|      0|         1996|                       2|\n",
      "|     148|    602|     4|      1998| 47|     F|     other|           1.0|     (1,[],[])|               1.0|    (20,[1],[1.0])|      0|     1|        1|        0|         0|     0|    0|          0|    0|      0|        0|     0|      0|      0|      0|     0|       0|  0|      0|         1996|                       2|\n",
      "|     148|    663|     4|      1998| 26|     M|     other|           0.0| (1,[0],[1.0])|               1.0|    (20,[1],[1.0])|      0|     1|        1|        0|         0|     0|    0|          0|    0|      0|        0|     0|      0|      0|      0|     0|       0|  0|      0|         1996|                       2|\n",
      "|     148|    222|     2|      1997| 29|     M|programmer|           0.0| (1,[0],[1.0])|               5.0|    (20,[5],[1.0])|      0|     1|        1|        0|         0|     0|    0|          0|    0|      0|        0|     0|      0|      0|      0|     0|       0|  0|      0|         1996|                       1|\n",
      "|     148|    601|     3|      1997| 19|     F|    artist|           1.0|     (1,[],[])|              10.0|   (20,[10],[1.0])|      0|     1|        1|        0|         0|     0|    0|          0|    0|      0|        0|     0|      0|      0|      0|     0|       0|  0|      0|         1996|                       1|\n",
      "|     148|    330|     4|      1997| 35|     F|  educator|           1.0|     (1,[],[])|               2.0|    (20,[2],[1.0])|      0|     1|        1|        0|         0|     0|    0|          0|    0|      0|        0|     0|      0|      0|      0|     0|       0|  0|      0|         1996|                       1|\n",
      "|     148|    372|     5|      1997| 25|     F|   student|           1.0|     (1,[],[])|               0.0|    (20,[0],[1.0])|      0|     1|        1|        0|         0|     0|    0|          0|    0|      0|        0|     0|      0|      0|      0|     0|       0|  0|      0|         1996|                       1|\n",
      "|     148|    727|     2|      1998| 25|     M|   student|           0.0| (1,[0],[1.0])|               0.0|    (20,[0],[1.0])|      0|     1|        1|        0|         0|     0|    0|          0|    0|      0|        0|     0|      0|      0|      0|     0|       0|  0|      0|         1996|                       2|\n",
      "+--------+-------+------+----------+---+------+----------+--------------+--------------+------------------+------------------+-------+------+---------+---------+----------+------+-----+-----------+-----+-------+---------+------+-------+-------+-------+------+--------+---+-------+-------------+------------------------+\n",
      "only showing top 20 rows\n",
      "\n"
     ]
    }
   ],
   "source": [
    "joined_df.show()"
   ]
  },
  {
   "cell_type": "markdown",
   "metadata": {},
   "source": [
    "Категориальные значения (профессия, пол) были оформлены при помощи one-hot encoding."
   ]
  },
  {
   "cell_type": "code",
   "execution_count": 22,
   "metadata": {},
   "outputs": [
    {
     "name": "stdout",
     "output_type": "stream",
     "text": [
      "+--------+-------+------+----------+---+------+----------+--------------+--------------+------------------+------------------+-------+------+---------+---------+----------+------+-----+-----------+-----+-------+---------+------+-------+-------+-------+------+--------+---+-------+-------------+------------------------+\n",
      "|movie_id|user_id|rating|year_rated|age|gender|occupation|indexed_gender|gender_feature|indexed_occupation|occupation_feature|unknown|Action|Adventure|Animation|Children's|Comedy|Crime|Documentary|Drama|Fantasy|Film-Noir|Horror|Musical|Mystery|Romance|Sci-Fi|Thriller|War|Western|year_released|rated_released_year_diff|\n",
      "+--------+-------+------+----------+---+------+----------+--------------+--------------+------------------+------------------+-------+------+---------+---------+----------+------+-----+-----------+-----+-------+---------+------+-------+-------+-------+------+--------+---+-------+-------------+------------------------+\n",
      "|     148|    251|     2|      1998| 28|     M|    doctor|           0.0| (1,[0],[1.0])|              19.0|   (20,[19],[1.0])|      0|     1|        1|        0|         0|     0|    0|          0|    0|      0|        0|     0|      0|      0|      0|     0|       0|  0|      0|         1996|                       2|\n",
      "|     148|    580|     4|      1998| 16|     M|   student|           0.0| (1,[0],[1.0])|               0.0|    (20,[0],[1.0])|      0|     1|        1|        0|         0|     0|    0|          0|    0|      0|        0|     0|      0|      0|      0|     0|       0|  0|      0|         1996|                       2|\n",
      "|     148|    633|     1|      1997| 35|     M|programmer|           0.0| (1,[0],[1.0])|               5.0|    (20,[5],[1.0])|      0|     1|        1|        0|         0|     0|    0|          0|    0|      0|        0|     0|      0|      0|      0|     0|       0|  0|      0|         1996|                       1|\n",
      "|     148|    642|     5|      1998| 18|     F|   student|           1.0|     (1,[],[])|               0.0|    (20,[0],[1.0])|      0|     1|        1|        0|         0|     0|    0|          0|    0|      0|        0|     0|      0|      0|      0|     0|       0|  0|      0|         1996|                       2|\n",
      "|     148|    406|     3|      1997| 52|     M|  educator|           0.0| (1,[0],[1.0])|               2.0|    (20,[2],[1.0])|      0|     1|        1|        0|         0|     0|    0|          0|    0|      0|        0|     0|      0|      0|      0|     0|       0|  0|      0|         1996|                       1|\n",
      "|     148|     26|     3|      1998| 49|     M|  engineer|           0.0| (1,[0],[1.0])|               4.0|    (20,[4],[1.0])|      0|     1|        1|        0|         0|     0|    0|          0|    0|      0|        0|     0|      0|      0|      0|     0|       0|  0|      0|         1996|                       2|\n",
      "|     148|     27|     3|      1998| 40|     F| librarian|           1.0|     (1,[],[])|               6.0|    (20,[6],[1.0])|      0|     1|        1|        0|         0|     0|    0|          0|    0|      0|        0|     0|      0|      0|      0|     0|       0|  0|      0|         1996|                       2|\n",
      "|     148|    332|     5|      1998| 20|     M|   student|           0.0| (1,[0],[1.0])|               0.0|    (20,[0],[1.0])|      0|     1|        1|        0|         0|     0|    0|          0|    0|      0|        0|     0|      0|      0|      0|     0|       0|  0|      0|         1996|                       2|\n",
      "|     148|     44|     4|      1997| 26|     M|technician|           0.0| (1,[0],[1.0])|              11.0|   (20,[11],[1.0])|      0|     1|        1|        0|         0|     0|    0|          0|    0|      0|        0|     0|      0|      0|      0|     0|       0|  0|      0|         1996|                       1|\n",
      "|     148|    271|     3|      1998| 51|     M|  engineer|           0.0| (1,[0],[1.0])|               4.0|    (20,[4],[1.0])|      0|     1|        1|        0|         0|     0|    0|          0|    0|      0|        0|     0|      0|      0|      0|     0|       0|  0|      0|         1996|                       2|\n",
      "|     148|    606|     3|      1997| 28|     M|programmer|           0.0| (1,[0],[1.0])|               5.0|    (20,[5],[1.0])|      0|     1|        1|        0|         0|     0|    0|          0|    0|      0|        0|     0|      0|      0|      0|     0|       0|  0|      0|         1996|                       1|\n",
      "|     148|    916|     2|      1997| 27|     M|  engineer|           0.0| (1,[0],[1.0])|               4.0|    (20,[4],[1.0])|      0|     1|        1|        0|         0|     0|    0|          0|    0|      0|        0|     0|      0|      0|      0|     0|       0|  0|      0|         1996|                       1|\n",
      "|     148|    236|     4|      1998| 44|     F|    writer|           1.0|     (1,[],[])|               7.0|    (20,[7],[1.0])|      0|     1|        1|        0|         0|     0|    0|          0|    0|      0|        0|     0|      0|      0|      0|     0|       0|  0|      0|         1996|                       2|\n",
      "|     148|    602|     4|      1998| 47|     F|     other|           1.0|     (1,[],[])|               1.0|    (20,[1],[1.0])|      0|     1|        1|        0|         0|     0|    0|          0|    0|      0|        0|     0|      0|      0|      0|     0|       0|  0|      0|         1996|                       2|\n",
      "|     148|    663|     4|      1998| 26|     M|     other|           0.0| (1,[0],[1.0])|               1.0|    (20,[1],[1.0])|      0|     1|        1|        0|         0|     0|    0|          0|    0|      0|        0|     0|      0|      0|      0|     0|       0|  0|      0|         1996|                       2|\n",
      "|     148|    222|     2|      1997| 29|     M|programmer|           0.0| (1,[0],[1.0])|               5.0|    (20,[5],[1.0])|      0|     1|        1|        0|         0|     0|    0|          0|    0|      0|        0|     0|      0|      0|      0|     0|       0|  0|      0|         1996|                       1|\n",
      "|     148|    601|     3|      1997| 19|     F|    artist|           1.0|     (1,[],[])|              10.0|   (20,[10],[1.0])|      0|     1|        1|        0|         0|     0|    0|          0|    0|      0|        0|     0|      0|      0|      0|     0|       0|  0|      0|         1996|                       1|\n",
      "|     148|    330|     4|      1997| 35|     F|  educator|           1.0|     (1,[],[])|               2.0|    (20,[2],[1.0])|      0|     1|        1|        0|         0|     0|    0|          0|    0|      0|        0|     0|      0|      0|      0|     0|       0|  0|      0|         1996|                       1|\n",
      "|     148|    372|     5|      1997| 25|     F|   student|           1.0|     (1,[],[])|               0.0|    (20,[0],[1.0])|      0|     1|        1|        0|         0|     0|    0|          0|    0|      0|        0|     0|      0|      0|      0|     0|       0|  0|      0|         1996|                       1|\n",
      "|     148|    727|     2|      1998| 25|     M|   student|           0.0| (1,[0],[1.0])|               0.0|    (20,[0],[1.0])|      0|     1|        1|        0|         0|     0|    0|          0|    0|      0|        0|     0|      0|      0|      0|     0|       0|  0|      0|         1996|                       2|\n",
      "+--------+-------+------+----------+---+------+----------+--------------+--------------+------------------+------------------+-------+------+---------+---------+----------+------+-----+-----------+-----+-------+---------+------+-------+-------+-------+------+--------+---+-------+-------------+------------------------+\n",
      "only showing top 20 rows\n",
      "\n"
     ]
    }
   ],
   "source": [
    "\n",
    "\n",
    "# mmScaler = MinMaxScaler(inputCol=\"age\", outputCol=\"scaled_age\")\n",
    "# model = mmScaler.fit(joined_df)\n",
    "# model.transform(joined_df)\n",
    "\n",
    "# joined_df = joined_df.drop(\"user_id\", \"movie_id\", \"gender\", \"indexed_gender\", \"occupation\", \"indexed_occupation\", \"age\")\n",
    "# joined_df.show()\n",
    "joined_df.show()"
   ]
  },
  {
   "cell_type": "code",
   "execution_count": 23,
   "metadata": {},
   "outputs": [
    {
     "name": "stdout",
     "output_type": "stream",
     "text": [
      "+-------+------------+------------------+------------------+------------------+------------------+------------------+------------------+------------------+------------------+------------+-----------------+------------------+------------------+------------------+------------------+------------------+------------------+------------------+------------+\n",
      "|user_id|avg(unknown)|       avg(Action)|    avg(Adventure)|    avg(Animation)|   avg(Children's)|       avg(Comedy)|        avg(Crime)|  avg(Documentary)|        avg(Drama)|avg(Fantasy)|   avg(Film-Noir)|       avg(Horror)|      avg(Musical)|      avg(Mystery)|      avg(Romance)|       avg(Sci-Fi)|     avg(Thriller)|          avg(War)|avg(Western)|\n",
      "+-------+------------+------------------+------------------+------------------+------------------+------------------+------------------+------------------+------------------+------------+-----------------+------------------+------------------+------------------+------------------+------------------+------------------+------------------+------------+\n",
      "|    148|         0.0|3.9166666666666665| 3.933333333333333| 4.428571428571429|               3.8|              4.45|3.6666666666666665|               0.0|              3.68|         0.0|              5.0|               2.0| 4.454545454545454|               3.0| 4.333333333333333| 4.461538461538462|               3.6|               4.1|         2.0|\n",
      "|    463|         0.0| 2.761904761904762|               2.4|               2.2|2.0588235294117645|              2.46|               3.5|               4.0| 3.406779661016949|         2.5|              5.0|               1.0|1.8571428571428572| 4.666666666666667|3.2857142857142856|3.3333333333333335|2.7058823529411766|2.5555555555555554|         0.0|\n",
      "|    471|         0.0|               4.0| 3.857142857142857|            2.6875|3.3461538461538463| 4.416666666666667|               0.0|               0.0|3.3333333333333335|         0.0|              0.0|               0.0| 2.111111111111111|               4.0|               4.0|               4.0|               0.0|               3.5|         0.0|\n",
      "|    496|         0.0|           3.09375|2.7916666666666665|             3.125| 2.380952380952381|              2.75|3.6666666666666665|               0.0|3.2115384615384617|         3.0|              4.0|3.3333333333333335|2.6666666666666665|2.7142857142857144|3.6818181818181817|              3.12|               2.8|              4.25|         2.0|\n",
      "|    833|         1.0| 2.736111111111111| 2.533333333333333|               4.0|               4.0| 2.753846153846154|3.3714285714285714|               4.0|3.3092783505154637|         3.0|4.111111111111111|               3.0|               2.4|               3.1|2.6153846153846154|2.8085106382978724|2.9722222222222223|3.3181818181818183|         4.0|\n",
      "|    243|         0.0|3.6666666666666665|              3.75|               4.0|3.6666666666666665|3.5555555555555554|3.3333333333333335|               4.0|3.6271186440677967|         3.0|              0.0|               4.0|               0.0|               5.0| 3.423076923076923|               3.0|              3.25|               4.0|         4.0|\n",
      "|    392|         0.0|               3.6| 4.166666666666667|               3.8|               4.0| 4.071428571428571|4.2727272727272725|               4.0| 4.298245614035087|         0.0|4.666666666666667|               3.5|               4.5|3.5555555555555554|               4.0|3.3636363636363638| 3.736842105263158| 4.090909090909091|         4.0|\n",
      "|    540|         0.0|3.6842105263157894|             3.875|               3.2|              3.25|             3.625|               4.0|               0.0|3.7857142857142856|         3.0|              0.0|               4.0|               3.5|               3.5|3.8181818181818183|3.9166666666666665|             3.625| 3.857142857142857|         0.0|\n",
      "|    623|         0.0|               4.0| 4.333333333333333|               0.0|               0.0| 3.789473684210526|              3.75|               0.0|3.5833333333333335|         0.0|              3.5|               3.0|3.3333333333333335|               4.0| 3.823529411764706|               3.9|             3.375|               4.0|         5.0|\n",
      "|    737|         0.0|              3.75|               3.0|               2.5|               1.0|               4.0|               4.5|               4.0|              4.25|         0.0|              4.0|               0.0|               3.0|               0.0|               4.0|               4.0|               3.8| 4.333333333333333|         0.0|\n",
      "|    858|         0.0|3.6666666666666665|               2.5|               0.0|               0.0|               4.0|3.5714285714285716|               0.0|3.4166666666666665|         0.0|              0.0|               3.0|               3.0|               3.5|               3.0|               2.0|             3.125|              3.25|         0.0|\n",
      "|    897|         0.0| 4.192982456140351| 4.085714285714285| 4.181818181818182| 4.038461538461538| 3.767857142857143|3.4166666666666665|               0.0| 3.890909090909091|         4.4|              4.0| 4.571428571428571|               4.2| 4.166666666666667|            3.9375| 4.178571428571429|              3.95|              4.25|         4.0|\n",
      "|     31|         0.0|               3.4|               4.0|               0.0|               0.0|               4.2|              4.25| 4.666666666666667|3.8461538461538463|         0.0|             4.25|               2.0|               4.5|3.6666666666666665|               3.6| 4.333333333333333| 3.111111111111111|               4.0|         0.0|\n",
      "|    516|         0.0|               4.0|               4.0|               5.0|               0.0|               4.2| 4.333333333333333|               0.0|3.9166666666666665|         0.0|              0.0|               0.0|               3.0|               4.5|              4.75|               4.4|               5.0| 4.142857142857143|         0.0|\n",
      "|     85|         0.0|3.4130434782608696|              3.25|               3.6|3.5217391304347827|3.5402298850574714|3.8181818181818183|               3.5|3.5526315789473686|         3.5|              4.0|               4.0|3.7916666666666665|               3.5| 3.769230769230769|3.6538461538461537| 3.310344827586207| 3.757575757575758|       3.375|\n",
      "|    137|         0.0| 4.857142857142857| 4.928571428571429|               3.0|              3.75|               4.0|               4.5|               0.0|3.3333333333333335|         4.0|              5.0|               5.0|               3.0|               4.0|4.2727272727272725| 4.857142857142857| 4.785714285714286|               4.0|         1.0|\n",
      "|    251|         0.0|3.7419354838709675| 3.764705882352941|3.6666666666666665|               4.2|              3.75|               3.6|               3.0| 4.130434782608695|         3.0|              0.0| 4.666666666666667|               4.0|               2.5|              3.75|3.9285714285714284| 3.769230769230769| 4.428571428571429|         0.0|\n",
      "|    451|         0.0| 3.176470588235294|2.5714285714285716|               1.0|              2.25|2.6538461538461537|               3.0|2.6666666666666665| 2.473684210526316|         1.0|              2.0|               3.0|1.3333333333333333|3.8181818181818183| 2.823529411764706|               3.4| 3.586206896551724|2.8333333333333335|         0.0|\n",
      "|    580|         0.0|3.4545454545454546|3.8181818181818183|               3.0|               2.5|3.5833333333333335|               3.0|               0.0|3.5833333333333335|         0.0|              0.0| 4.666666666666667|               5.0|               2.0|3.7142857142857144| 4.461538461538462|            3.0625| 4.142857142857143|         0.0|\n",
      "|    808|         0.0|3.8333333333333335|               3.0|               0.0|               0.0|               4.0|               4.4|               0.0| 4.153846153846154|         0.0|              5.0|               3.0|               0.0|              4.25| 4.166666666666667|               4.0| 3.727272727272727|3.6666666666666665|         0.0|\n",
      "+-------+------------+------------------+------------------+------------------+------------------+------------------+------------------+------------------+------------------+------------+-----------------+------------------+------------------+------------------+------------------+------------------+------------------+------------------+------------+\n",
      "only showing top 20 rows\n",
      "\n"
     ]
    }
   ],
   "source": [
    "avg_ratings_df = joined_df.select(['user_id', 'rating']  + genres)\n",
    "\n",
    "for genre in genres:\n",
    "    avg_ratings_df = avg_ratings_df.withColumn('rating {}'.format(genre), avg_ratings_df[genre] * avg_ratings_df.rating)\n",
    "\n",
    "genre_ratings = list(map(lambda genre: 'rating {}'.format(genre), genres))\n",
    "df1 = avg_ratings_df.groupBy('user_id').sum(*genres)\n",
    "df2 = avg_ratings_df.groupBy('user_id').sum(*genre_ratings)\n",
    "\n",
    "avg_ratings_df = df1.join(df2, ['user_id'])\n",
    "for genre in genres:\n",
    "    sum_rating_col = 'sum(rating {})'.format(genre)\n",
    "    count_col = 'sum({})'.format(genre)\n",
    "    avg_ratings_df = avg_ratings_df.withColumn('avg({})'\n",
    "                                   .format(genre), avg_ratings_df[sum_rating_col] / avg_ratings_df[count_col])\n",
    "    avg_ratings_df = avg_ratings_df.drop(sum_rating_col, count_col)\n",
    "\n",
    "avg_ratings_df = avg_ratings_df.fillna(value=0)\n",
    "avg_ratings_df.show()\n",
    "avg_ratings_df.toPandas().to_csv('~/avg_ratings.csv')"
   ]
  },
  {
   "cell_type": "code",
   "execution_count": 24,
   "metadata": {},
   "outputs": [
    {
     "name": "stdout",
     "output_type": "stream",
     "text": [
      "+--------+------------------+\n",
      "|movie_id|       avg(rating)|\n",
      "+--------+------------------+\n",
      "|     496| 4.121212121212121|\n",
      "|     471|3.6108597285067874|\n",
      "|     463| 3.859154929577465|\n",
      "|     148|          3.203125|\n",
      "|    1342|               2.5|\n",
      "|     833| 3.204081632653061|\n",
      "|    1088| 2.230769230769231|\n",
      "|    1591|3.1666666666666665|\n",
      "|    1238|             3.125|\n",
      "|    1580|               1.0|\n",
      "|    1645|               4.0|\n",
      "|     392|3.5441176470588234|\n",
      "|     623| 2.923076923076923|\n",
      "|     540| 2.511627906976744|\n",
      "|     858|               1.0|\n",
      "|     737| 2.983050847457627|\n",
      "|     243|2.4393939393939394|\n",
      "|    1025|2.9318181818181817|\n",
      "|    1084| 3.857142857142857|\n",
      "|    1127| 2.909090909090909|\n",
      "+--------+------------------+\n",
      "only showing top 20 rows\n",
      "\n"
     ]
    }
   ],
   "source": [
    "average_movie_rating = ratings.select('movie_id', 'rating')\n",
    "average_movie_rating = average_movie_rating.groupBy('movie_id').avg('rating')\n",
    "\n",
    "average_movie_rating.toPandas().to_csv('~/average_movie_rating.csv')\n",
    "average_movie_rating.show()"
   ]
  },
  {
   "cell_type": "code",
   "execution_count": 25,
   "metadata": {},
   "outputs": [
    {
     "name": "stdout",
     "output_type": "stream",
     "text": [
      "+--------+----------+\n",
      "|movie_id|popularity|\n",
      "+--------+----------+\n",
      "|     148|       128|\n",
      "|     463|        71|\n",
      "|     471|       221|\n",
      "|     496|       231|\n",
      "|     833|        49|\n",
      "|    1088|        13|\n",
      "|    1238|         8|\n",
      "|    1342|         2|\n",
      "|    1580|         1|\n",
      "|    1591|         6|\n",
      "|    1645|         1|\n",
      "|     243|       132|\n",
      "|     392|        68|\n",
      "|     540|        43|\n",
      "|     623|        39|\n",
      "|     737|        59|\n",
      "|     858|         3|\n",
      "|     897|         2|\n",
      "|    1025|        44|\n",
      "|    1084|        21|\n",
      "+--------+----------+\n",
      "only showing top 20 rows\n",
      "\n"
     ]
    }
   ],
   "source": [
    "popularity = joined_df.select('movie_id')\n",
    "popularity = popularity.groupBy('movie_id').count()\n",
    "popularity = popularity.withColumnRenamed('count', 'popularity').fillna(0)\n",
    "\n",
    "popularity.toPandas().to_csv('~/movie_popularity.csv')\n",
    "popularity.show()"
   ]
  },
  {
   "cell_type": "code",
   "execution_count": 26,
   "metadata": {},
   "outputs": [],
   "source": [
    "joined_df = joined_df.join(average_movie_rating, 'movie_id')"
   ]
  },
  {
   "cell_type": "code",
   "execution_count": 27,
   "metadata": {},
   "outputs": [],
   "source": [
    "joined_df = joined_df.join(popularity, ['movie_id'])"
   ]
  },
  {
   "cell_type": "code",
   "execution_count": null,
   "metadata": {},
   "outputs": [],
   "source": []
  },
  {
   "cell_type": "code",
   "execution_count": 28,
   "metadata": {},
   "outputs": [],
   "source": [
    "joined_df = joined_df.join(avg_ratings_df, ['user_id'])\n",
    "final_df = joined_df.drop(\"gender\", \"indexed_gender\", \"occupation\", \"indexed_occupation\", \"age\")"
   ]
  },
  {
   "cell_type": "code",
   "execution_count": 29,
   "metadata": {},
   "outputs": [],
   "source": [
    "# joined_df.popularity"
   ]
  },
  {
   "cell_type": "code",
   "execution_count": 30,
   "metadata": {},
   "outputs": [],
   "source": [
    "from pyspark.ml.regression import RandomForestRegressor\n",
    "from pyspark.ml.feature import VectorAssembler\n",
    "from pyspark.ml.classification import NaiveBayes"
   ]
  },
  {
   "cell_type": "code",
   "execution_count": 31,
   "metadata": {},
   "outputs": [
    {
     "name": "stdout",
     "output_type": "stream",
     "text": [
      "['year_rated', 'gender_feature', 'occupation_feature', 'unknown', 'Action', 'Adventure', 'Animation', \"Children's\", 'Comedy', 'Crime', 'Documentary', 'Drama', 'Fantasy', 'Film-Noir', 'Horror', 'Musical', 'Mystery', 'Romance', 'Sci-Fi', 'Thriller', 'War', 'Western', 'year_released', 'rated_released_year_diff', 'avg(rating)', 'popularity', 'avg(unknown)', 'avg(Action)', 'avg(Adventure)', 'avg(Animation)', \"avg(Children's)\", 'avg(Comedy)', 'avg(Crime)', 'avg(Documentary)', 'avg(Drama)', 'avg(Fantasy)', 'avg(Film-Noir)', 'avg(Horror)', 'avg(Musical)', 'avg(Mystery)', 'avg(Romance)', 'avg(Sci-Fi)', 'avg(Thriller)', 'avg(War)', 'avg(Western)']\n"
     ]
    }
   ],
   "source": [
    "answer_col = 'rating'\n",
    "features_col = 'features'\n",
    "input_cols = [col for col in final_df.columns if col not in [answer_col, \"user_id\", \"movie_id\"]]\n",
    "assembler = VectorAssembler(inputCols=input_cols, outputCol=features_col)\n",
    "\n",
    "print(input_cols)"
   ]
  },
  {
   "cell_type": "code",
   "execution_count": 32,
   "metadata": {},
   "outputs": [
    {
     "name": "stdout",
     "output_type": "stream",
     "text": [
      "+------+--------------------------------------------------------------------------------------------------------------------------------------------------------------------------------------------------------------------------------------------------------------------------------------------------------------------------------+-------+--------+\n",
      "|rating|features                                                                                                                                                                                                                                                                                                                        |user_id|movie_id|\n",
      "+------+--------------------------------------------------------------------------------------------------------------------------------------------------------------------------------------------------------------------------------------------------------------------------------------------------------------------------------+-------+--------+\n",
      "|3     |(64,[0,1,6,30,41,42,43,44,46,47,48,49,50,51,53,55,56,57,58,59,60,61,62,63],[1997.0,1.0,1.0,1.0,1946.0,51.0,4.121212121212121,231.0,3.9166666666666665,3.933333333333333,4.428571428571429,3.8,4.45,3.6666666666666665,3.68,5.0,2.0,4.454545454545454,3.0,4.333333333333333,4.461538461538462,3.6,4.1,2.0])                      |148    |496     |\n",
      "|4     |(64,[0,1,6,25,26,34,41,42,43,44,46,47,48,49,50,51,53,55,56,57,58,59,60,61,62,63],[1997.0,1.0,1.0,1.0,1.0,1.0,1991.0,6.0,3.792079207920792,202.0,3.9166666666666665,3.933333333333333,4.428571428571429,3.8,4.45,3.6666666666666665,3.68,5.0,2.0,4.454545454545454,3.0,4.333333333333333,4.461538461538462,3.6,4.1,2.0])         |148    |588     |\n",
      "|5     |(64,[0,1,6,30,36,39,41,42,43,44,46,47,48,49,50,51,53,55,56,57,58,59,60,61,62,63],[1997.0,1.0,1.0,1.0,1.0,1.0,1939.0,58.0,3.871345029239766,171.0,3.9166666666666665,3.933333333333333,4.428571428571429,3.8,4.45,3.6666666666666665,3.68,5.0,2.0,4.454545454545454,3.0,4.333333333333333,4.461538461538462,3.6,4.1,2.0])        |148    |133     |\n",
      "|1     |(64,[0,1,6,24,26,30,41,42,43,44,46,47,48,49,50,51,53,55,56,57,58,59,60,61,62,63],[1997.0,1.0,1.0,1.0,1.0,1.0,1993.0,4.0,2.4545454545454546,33.0,3.9166666666666665,3.933333333333333,4.428571428571429,3.8,4.45,3.6666666666666665,3.68,5.0,2.0,4.454545454545454,3.0,4.333333333333333,4.461538461538462,3.6,4.1,2.0])         |148    |78      |\n",
      "|5     |(64,[0,1,6,25,26,34,41,42,43,44,46,47,48,49,50,51,53,55,56,57,58,59,60,61,62,63],[1997.0,1.0,1.0,1.0,1.0,1.0,1996.0,1.0,3.377952755905512,127.0,3.9166666666666665,3.933333333333333,4.428571428571429,3.8,4.45,3.6666666666666665,3.68,5.0,2.0,4.454545454545454,3.0,4.333333333333333,4.461538461538462,3.6,4.1,2.0])         |148    |596     |\n",
      "|4     |(64,[0,1,6,25,26,34,41,42,43,44,46,47,48,49,50,51,53,55,56,57,58,59,60,61,62,63],[1997.0,1.0,1.0,1.0,1.0,1.0,1941.0,56.0,3.4959349593495936,123.0,3.9166666666666665,3.933333333333333,4.428571428571429,3.8,4.45,3.6666666666666665,3.68,5.0,2.0,4.454545454545454,3.0,4.333333333333333,4.461538461538462,3.6,4.1,2.0])       |148    |501     |\n",
      "|5     |(64,[0,1,6,27,41,42,43,44,46,47,48,49,50,51,53,55,56,57,58,59,60,61,62,63],[1997.0,1.0,1.0,1.0,1979.0,18.0,3.9051724137931036,116.0,3.9166666666666665,3.933333333333333,4.428571428571429,3.8,4.45,3.6666666666666665,3.68,5.0,2.0,4.454545454545454,3.0,4.333333333333333,4.461538461538462,3.6,4.1,2.0])                     |148    |663     |\n",
      "|4     |(64,[0,1,6,23,24,37,41,42,43,44,46,47,48,49,50,51,53,55,56,57,58,59,60,61,62,63],[1997.0,1.0,1.0,1.0,1.0,1.0,1996.0,1.0,3.66027397260274,365.0,3.9166666666666665,3.933333333333333,4.428571428571429,3.8,4.45,3.6666666666666665,3.68,5.0,2.0,4.454545454545454,3.0,4.333333333333333,4.461538461538462,3.6,4.1,2.0])          |148    |222     |\n",
      "|5     |(64,[0,1,6,27,30,34,41,42,43,44,46,47,48,49,50,51,53,55,56,57,58,59,60,61,62,63],[1997.0,1.0,1.0,1.0,1.0,1.0,1984.0,13.0,3.905759162303665,191.0,3.9166666666666665,3.933333333333333,4.428571428571429,3.8,4.45,3.6666666666666665,3.68,5.0,2.0,4.454545454545454,3.0,4.333333333333333,4.461538461538462,3.6,4.1,2.0])        |148    |209     |\n",
      "|2     |(64,[0,1,6,30,39,41,42,43,44,46,47,48,49,50,51,53,55,56,57,58,59,60,61,62,63],[1997.0,1.0,1.0,1.0,1.0,1989.0,8.0,4.137096774193548,124.0,3.9166666666666665,3.933333333333333,4.428571428571429,3.8,4.45,3.6666666666666665,3.68,5.0,2.0,4.454545454545454,3.0,4.333333333333333,4.461538461538462,3.6,4.1,2.0])                |148    |190     |\n",
      "|1     |(64,[0,1,6,24,26,41,42,43,44,46,47,48,49,50,51,53,55,56,57,58,59,60,61,62,63],[1997.0,1.0,1.0,1.0,1.0,1993.0,4.0,3.2131147540983607,61.0,3.9166666666666665,3.933333333333333,4.428571428571429,3.8,4.45,3.6666666666666665,3.68,5.0,2.0,4.454545454545454,3.0,4.333333333333333,4.461538461538462,3.6,4.1,2.0])                |148    |140     |\n",
      "|2     |(64,[0,1,6,23,40,41,42,43,44,46,47,48,49,50,51,53,55,56,57,58,59,60,61,62,63],[1997.0,1.0,1.0,1.0,1.0,1966.0,31.0,3.8613138686131387,137.0,3.9166666666666665,3.933333333333333,4.428571428571429,3.8,4.45,3.6666666666666665,3.68,5.0,2.0,4.454545454545454,3.0,4.333333333333333,4.461538461538462,3.6,4.1,2.0])              |148    |177     |\n",
      "|4     |(64,[0,1,6,24,26,30,34,41,42,43,44,46,47,48,49,50,51,53,55,56,57,58,59,60,61,62,63],[1997.0,1.0,1.0,1.0,1.0,1.0,1.0,1939.0,58.0,4.0772357723577235,246.0,3.9166666666666665,3.933333333333333,4.428571428571429,3.8,4.45,3.6666666666666665,3.68,5.0,2.0,4.454545454545454,3.0,4.333333333333333,4.461538461538462,3.6,4.1,2.0])|148    |132     |\n",
      "|1     |(64,[0,1,6,33,36,38,41,42,43,44,46,47,48,49,50,51,53,55,56,57,58,59,60,61,62,63],[1997.0,1.0,1.0,1.0,1.0,1.0,1960.0,37.0,4.100418410041841,239.0,3.9166666666666665,3.933333333333333,4.428571428571429,3.8,4.45,3.6666666666666665,3.68,5.0,2.0,4.454545454545454,3.0,4.333333333333333,4.461538461538462,3.6,4.1,2.0])        |148    |185     |\n",
      "|5     |(64,[0,1,6,25,26,34,41,42,43,44,46,47,48,49,50,51,53,55,56,57,58,59,60,61,62,63],[1997.0,1.0,1.0,1.0,1.0,1.0,1996.0,1.0,3.126984126984127,126.0,3.9166666666666665,3.933333333333333,4.428571428571429,3.8,4.45,3.6666666666666665,3.68,5.0,2.0,4.454545454545454,3.0,4.333333333333333,4.461538461538462,3.6,4.1,2.0])         |148    |473     |\n",
      "|4     |(64,[0,1,6,25,26,27,41,42,43,44,46,47,48,49,50,51,53,55,56,57,58,59,60,61,62,63],[1997.0,1.0,1.0,1.0,1.0,1.0,1995.0,2.0,3.8783185840707963,452.0,3.9166666666666665,3.933333333333333,4.428571428571429,3.8,4.45,3.6666666666666665,3.68,5.0,2.0,4.454545454545454,3.0,4.333333333333333,4.461538461538462,3.6,4.1,2.0])        |148    |1       |\n",
      "|5     |(64,[0,1,6,37,39,41,42,43,44,46,47,48,49,50,51,53,55,56,57,58,59,60,61,62,63],[1997.0,1.0,1.0,1.0,1.0,1963.0,34.0,4.252577319587629,194.0,3.9166666666666665,3.933333333333333,4.428571428571429,3.8,4.45,3.6666666666666665,3.68,5.0,2.0,4.454545454545454,3.0,4.333333333333333,4.461538461538462,3.6,4.1,2.0])               |148    |474     |\n",
      "|5     |(64,[0,1,6,27,41,42,43,44,46,47,48,49,50,51,53,55,56,57,58,59,60,61,62,63],[1997.0,1.0,1.0,1.0,1974.0,23.0,4.0664556962025316,316.0,3.9166666666666665,3.933333333333333,4.428571428571429,3.8,4.45,3.6666666666666665,3.68,5.0,2.0,4.454545454545454,3.0,4.333333333333333,4.461538461538462,3.6,4.1,2.0])                     |148    |168     |\n",
      "|4     |(64,[0,1,6,23,24,37,38,41,42,43,44,46,47,48,49,50,51,53,55,56,57,58,59,60,61,62,63],[1997.0,1.0,1.0,1.0,1.0,1.0,1.0,1989.0,8.0,3.589403973509934,151.0,3.9166666666666665,3.933333333333333,4.428571428571429,3.8,4.45,3.6666666666666665,3.68,5.0,2.0,4.454545454545454,3.0,4.333333333333333,4.461538461538462,3.6,4.1,2.0])  |148    |164     |\n",
      "|5     |(64,[0,1,6,25,27,41,42,43,44,46,47,48,49,50,51,53,55,56,57,58,59,60,61,62,63],[1997.0,1.0,1.0,1.0,1.0,1993.0,4.0,4.466101694915254,118.0,3.9166666666666665,3.933333333333333,4.428571428571429,3.8,4.45,3.6666666666666665,3.68,5.0,2.0,4.454545454545454,3.0,4.333333333333333,4.461538461538462,3.6,4.1,2.0])                |148    |169     |\n",
      "+------+--------------------------------------------------------------------------------------------------------------------------------------------------------------------------------------------------------------------------------------------------------------------------------------------------------------------------------+-------+--------+\n",
      "only showing top 20 rows\n",
      "\n"
     ]
    }
   ],
   "source": [
    "data = assembler.setHandleInvalid(\"skip\").transform(final_df)\n",
    "data = data.select(answer_col,features_col, 'user_id', 'movie_id')\n",
    "data.show(truncate=False)"
   ]
  },
  {
   "cell_type": "code",
   "execution_count": 33,
   "metadata": {},
   "outputs": [],
   "source": [
    "training, test = data.randomSplit([0.8, 0.2])"
   ]
  },
  {
   "cell_type": "code",
   "execution_count": 34,
   "metadata": {},
   "outputs": [],
   "source": [
    "rf = RandomForestRegressor(labelCol=answer_col)"
   ]
  },
  {
   "cell_type": "code",
   "execution_count": 35,
   "metadata": {},
   "outputs": [],
   "source": [
    "model = rf.fit(training)"
   ]
  },
  {
   "cell_type": "code",
   "execution_count": 36,
   "metadata": {},
   "outputs": [],
   "source": [
    "test_results = model.transform(test)"
   ]
  },
  {
   "cell_type": "code",
   "execution_count": 37,
   "metadata": {},
   "outputs": [
    {
     "name": "stdout",
     "output_type": "stream",
     "text": [
      "+------+--------------------+-------+--------+------------------+\n",
      "|rating|            features|user_id|movie_id|        prediction|\n",
      "+------+--------------------+-------+--------+------------------+\n",
      "|     1|(64,[0,1,2,25,26,...|    471|     420|3.6177432231031945|\n",
      "|     1|(64,[0,1,6,30,35,...|    148|     191| 4.144423129398129|\n",
      "|     1|(64,[0,1,9,23,27,...|    833|     186|3.4034629588367524|\n",
      "|     1|(64,[0,1,9,23,33,...|    833|     452| 2.580673335825588|\n",
      "|     1|(64,[0,1,9,27,34,...|    833|     451|3.0467393556446796|\n",
      "|     1|(64,[0,1,9,27,37,...|    833|     204|3.4034629588367524|\n",
      "|     1|(64,[0,1,9,27,41,...|    833|      26|3.1070721087462134|\n",
      "|     1|(64,[0,2,23,24,37...|    496|     227|3.0067508785350108|\n",
      "|     1|(64,[0,2,26,27,41...|    496|      94|2.8647239188312468|\n",
      "|     1|(64,[0,2,26,30,41...|    496|     417| 2.867464851941171|\n",
      "|     1|(64,[0,2,30,41,42...|    496|     496| 3.816552986041253|\n",
      "|     1|(64,[0,16,23,24,3...|    463|     271|2.7660067983613206|\n",
      "|     1|(64,[0,16,25,26,3...|    463|     103| 2.529807394892446|\n",
      "|     1|(64,[0,16,26,27,4...|    463|     539|2.5162334297829383|\n",
      "|     1|(64,[0,16,26,27,4...|    463|     243|2.5484401945729758|\n",
      "|     1|(64,[0,16,26,41,4...|    463|    1164| 2.529807394892446|\n",
      "|     1|(64,[0,16,30,36,4...|    463|    1132| 2.548846371929369|\n",
      "|     1|(64,[0,16,30,39,4...|    463|      10|3.2720064827961144|\n",
      "|     1|(64,[0,16,30,41,4...|    463|    1117| 2.729766719265792|\n",
      "|     2|(64,[0,1,2,25,26,...|    471|     404|3.6177432231031945|\n",
      "+------+--------------------+-------+--------+------------------+\n",
      "only showing top 20 rows\n",
      "\n"
     ]
    }
   ],
   "source": [
    "test_results.show()"
   ]
  },
  {
   "cell_type": "code",
   "execution_count": 38,
   "metadata": {},
   "outputs": [],
   "source": [
    "from pyspark.ml.evaluation import RegressionEvaluator\n",
    "from pyspark.ml.evaluation import MulticlassClassificationEvaluator\n",
    "from pyspark.sql.functions import round"
   ]
  },
  {
   "cell_type": "code",
   "execution_count": 39,
   "metadata": {},
   "outputs": [],
   "source": [
    "mae_eval = RegressionEvaluator(labelCol=answer_col, metricName='mae')\n",
    "# mae_eval = MulticlassClassificationEvaluator(labelCol=answer_col)"
   ]
  },
  {
   "cell_type": "code",
   "execution_count": 40,
   "metadata": {},
   "outputs": [],
   "source": [
    "mae = mae_eval.evaluate(test_results)"
   ]
  },
  {
   "cell_type": "code",
   "execution_count": 41,
   "metadata": {},
   "outputs": [
    {
     "name": "stdout",
     "output_type": "stream",
     "text": [
      "0.747524019070971\n"
     ]
    }
   ],
   "source": [
    "print(mae)"
   ]
  },
  {
   "cell_type": "code",
   "execution_count": 42,
   "metadata": {},
   "outputs": [],
   "source": [
    "rounded_test_results = test_results.withColumn('prediction', round(test_results.prediction))"
   ]
  },
  {
   "cell_type": "code",
   "execution_count": 43,
   "metadata": {},
   "outputs": [
    {
     "name": "stdout",
     "output_type": "stream",
     "text": [
      "+------+--------------------+-------+--------+----------+\n",
      "|rating|            features|user_id|movie_id|prediction|\n",
      "+------+--------------------+-------+--------+----------+\n",
      "|     1|(64,[0,1,2,25,26,...|    471|     420|       4.0|\n",
      "|     1|(64,[0,1,6,30,35,...|    148|     191|       4.0|\n",
      "|     1|(64,[0,1,9,23,27,...|    833|     186|       3.0|\n",
      "|     1|(64,[0,1,9,23,33,...|    833|     452|       3.0|\n",
      "|     1|(64,[0,1,9,27,34,...|    833|     451|       3.0|\n",
      "|     1|(64,[0,1,9,27,37,...|    833|     204|       3.0|\n",
      "|     1|(64,[0,1,9,27,41,...|    833|      26|       3.0|\n",
      "|     1|(64,[0,2,23,24,37...|    496|     227|       3.0|\n",
      "|     1|(64,[0,2,26,27,41...|    496|      94|       3.0|\n",
      "|     1|(64,[0,2,26,30,41...|    496|     417|       3.0|\n",
      "|     1|(64,[0,2,30,41,42...|    496|     496|       4.0|\n",
      "|     1|(64,[0,16,23,24,3...|    463|     271|       3.0|\n",
      "|     1|(64,[0,16,25,26,3...|    463|     103|       3.0|\n",
      "|     1|(64,[0,16,26,27,4...|    463|     539|       3.0|\n",
      "|     1|(64,[0,16,26,27,4...|    463|     243|       3.0|\n",
      "|     1|(64,[0,16,26,41,4...|    463|    1164|       3.0|\n",
      "|     1|(64,[0,16,30,36,4...|    463|    1132|       3.0|\n",
      "|     1|(64,[0,16,30,39,4...|    463|      10|       3.0|\n",
      "|     1|(64,[0,16,30,41,4...|    463|    1117|       3.0|\n",
      "|     2|(64,[0,1,2,25,26,...|    471|     404|       4.0|\n",
      "+------+--------------------+-------+--------+----------+\n",
      "only showing top 20 rows\n",
      "\n"
     ]
    }
   ],
   "source": [
    "rounded_test_results.show()"
   ]
  },
  {
   "cell_type": "code",
   "execution_count": 44,
   "metadata": {},
   "outputs": [],
   "source": [
    "accuracy_eval = MulticlassClassificationEvaluator(labelCol=answer_col)"
   ]
  },
  {
   "cell_type": "code",
   "execution_count": 45,
   "metadata": {},
   "outputs": [],
   "source": [
    "accuracy = accuracy_eval.evaluate(rounded_test_results)"
   ]
  },
  {
   "cell_type": "code",
   "execution_count": 46,
   "metadata": {},
   "outputs": [
    {
     "name": "stdout",
     "output_type": "stream",
     "text": [
      "0.31646279364588326\n"
     ]
    }
   ],
   "source": [
    "print(accuracy)"
   ]
  },
  {
   "cell_type": "code",
   "execution_count": 47,
   "metadata": {},
   "outputs": [],
   "source": [
    "from pyspark.sql.functions import floor"
   ]
  },
  {
   "cell_type": "code",
   "execution_count": 48,
   "metadata": {},
   "outputs": [],
   "source": [
    "floor_test_results = test_results.withColumn('prediction', floor(test_results.prediction).cast(\"double\"))"
   ]
  },
  {
   "cell_type": "code",
   "execution_count": 49,
   "metadata": {},
   "outputs": [
    {
     "name": "stdout",
     "output_type": "stream",
     "text": [
      "+------+--------------------+-------+--------+----------+\n",
      "|rating|            features|user_id|movie_id|prediction|\n",
      "+------+--------------------+-------+--------+----------+\n",
      "|     1|(64,[0,1,2,25,26,...|    471|     420|       3.0|\n",
      "|     1|(64,[0,1,6,30,35,...|    148|     191|       4.0|\n",
      "|     1|(64,[0,1,9,23,27,...|    833|     186|       3.0|\n",
      "|     1|(64,[0,1,9,23,33,...|    833|     452|       2.0|\n",
      "|     1|(64,[0,1,9,27,34,...|    833|     451|       3.0|\n",
      "|     1|(64,[0,1,9,27,37,...|    833|     204|       3.0|\n",
      "|     1|(64,[0,1,9,27,41,...|    833|      26|       3.0|\n",
      "|     1|(64,[0,2,23,24,37...|    496|     227|       3.0|\n",
      "|     1|(64,[0,2,26,27,41...|    496|      94|       2.0|\n",
      "|     1|(64,[0,2,26,30,41...|    496|     417|       2.0|\n",
      "|     1|(64,[0,2,30,41,42...|    496|     496|       3.0|\n",
      "|     1|(64,[0,16,23,24,3...|    463|     271|       2.0|\n",
      "|     1|(64,[0,16,25,26,3...|    463|     103|       2.0|\n",
      "|     1|(64,[0,16,26,27,4...|    463|     539|       2.0|\n",
      "|     1|(64,[0,16,26,27,4...|    463|     243|       2.0|\n",
      "|     1|(64,[0,16,26,41,4...|    463|    1164|       2.0|\n",
      "|     1|(64,[0,16,30,36,4...|    463|    1132|       2.0|\n",
      "|     1|(64,[0,16,30,39,4...|    463|      10|       3.0|\n",
      "|     1|(64,[0,16,30,41,4...|    463|    1117|       2.0|\n",
      "|     2|(64,[0,1,2,25,26,...|    471|     404|       3.0|\n",
      "+------+--------------------+-------+--------+----------+\n",
      "only showing top 20 rows\n",
      "\n"
     ]
    }
   ],
   "source": [
    "floor_test_results.show()"
   ]
  },
  {
   "cell_type": "code",
   "execution_count": 50,
   "metadata": {},
   "outputs": [],
   "source": [
    "accuracy = accuracy_eval.evaluate(floor_test_results)"
   ]
  },
  {
   "cell_type": "code",
   "execution_count": 51,
   "metadata": {},
   "outputs": [
    {
     "name": "stdout",
     "output_type": "stream",
     "text": [
      "0.24890162403827099\n"
     ]
    }
   ],
   "source": [
    "print(accuracy)"
   ]
  },
  {
   "cell_type": "code",
   "execution_count": 52,
   "metadata": {},
   "outputs": [],
   "source": [
    "nb = NaiveBayes(labelCol=answer_col)"
   ]
  },
  {
   "cell_type": "code",
   "execution_count": 53,
   "metadata": {},
   "outputs": [],
   "source": [
    "model = nb.fit(training)"
   ]
  },
  {
   "cell_type": "code",
   "execution_count": 54,
   "metadata": {},
   "outputs": [],
   "source": [
    "test_results = model.transform(test)"
   ]
  },
  {
   "cell_type": "code",
   "execution_count": 55,
   "metadata": {},
   "outputs": [
    {
     "name": "stdout",
     "output_type": "stream",
     "text": [
      "+------+--------------------+-------+--------+--------------------+--------------------+----------+\n",
      "|rating|            features|user_id|movie_id|       rawPrediction|         probability|prediction|\n",
      "+------+--------------------+-------+--------+--------------------+--------------------+----------+\n",
      "|     1|(64,[0,1,2,25,26,...|    471|     420|[-3882.5300951511...|[9.04485667523626...|       2.0|\n",
      "|     1|(64,[0,1,6,30,35,...|    148|     191|[-4532.8769225672...|[1.13965687109287...|       4.0|\n",
      "|     1|(64,[0,1,9,23,27,...|    833|     186|[-4466.3082072737...|[1.18672594031897...|       4.0|\n",
      "|     1|(64,[0,1,9,23,33,...|    833|     452|[-3788.9694451229...|[0.99947747842353...|       0.0|\n",
      "|     1|(64,[0,1,9,27,34,...|    833|     451|[-4181.4866054889...|[1.10960004369462...|       3.0|\n",
      "|     1|(64,[0,1,9,27,37,...|    833|     204|[-4784.6790059652...|[6.93587519290401...|       4.0|\n",
      "|     1|(64,[0,1,9,27,41,...|    833|      26|[-3706.4155686786...|[0.99996932715490...|       0.0|\n",
      "|     1|(64,[0,2,23,24,37...|    496|     227|[-4007.6722225237...|[1.86414450425478...|       2.0|\n",
      "|     1|(64,[0,2,26,27,41...|    496|      94|[-3914.7705726713...|[0.01536369553303...|       1.0|\n",
      "|     1|(64,[0,2,26,30,41...|    496|     417|[-3857.6002583976...|[0.44625017096829...|       2.0|\n",
      "|     1|(64,[0,2,30,41,42...|    496|     496|[-4517.7844646421...|[1.04802872205458...|       4.0|\n",
      "|     1|(64,[0,16,23,24,3...|    463|     271|[-4151.8854960714...|[2.12253402700493...|       3.0|\n",
      "|     1|(64,[0,16,25,26,3...|    463|     103|[-3429.1973652369...|[0.99999999991383...|       0.0|\n",
      "|     1|(64,[0,16,26,27,4...|    463|     539|[-3519.0073838305...|[0.99999998065559...|       0.0|\n",
      "|     1|(64,[0,16,26,27,4...|    463|     243|[-3830.4512491736...|[0.62075016751711...|       0.0|\n",
      "|     1|(64,[0,16,26,41,4...|    463|    1164|[-3362.0948314507...|[0.99999999999122...|       0.0|\n",
      "|     1|(64,[0,16,30,36,4...|    463|    1132|[-3482.3109909151...|[0.99999999639448...|       0.0|\n",
      "|     1|(64,[0,16,30,39,4...|    463|      10|[-3698.7553145473...|[0.99968873894467...|       0.0|\n",
      "|     1|(64,[0,16,30,41,4...|    463|    1117|[-3420.9270709580...|[0.99999999980527...|       0.0|\n",
      "|     2|(64,[0,1,2,25,26,...|    471|     404|[-4010.0162405477...|[2.53500297385318...|       3.0|\n",
      "+------+--------------------+-------+--------+--------------------+--------------------+----------+\n",
      "only showing top 20 rows\n",
      "\n"
     ]
    }
   ],
   "source": [
    "test_results.show()"
   ]
  },
  {
   "cell_type": "code",
   "execution_count": 56,
   "metadata": {},
   "outputs": [],
   "source": [
    "mce = MulticlassClassificationEvaluator(labelCol=answer_col)"
   ]
  },
  {
   "cell_type": "code",
   "execution_count": 57,
   "metadata": {},
   "outputs": [],
   "source": [
    "acc = mce.evaluate(test_results)"
   ]
  },
  {
   "cell_type": "code",
   "execution_count": 58,
   "metadata": {},
   "outputs": [
    {
     "name": "stdout",
     "output_type": "stream",
     "text": [
      "0.18592527205367337\n"
     ]
    }
   ],
   "source": [
    "print(acc)"
   ]
  },
  {
   "cell_type": "code",
   "execution_count": 59,
   "metadata": {},
   "outputs": [],
   "source": [
    "from pyspark.ml.recommendation import ALS"
   ]
  },
  {
   "cell_type": "code",
   "execution_count": 62,
   "metadata": {},
   "outputs": [],
   "source": [
    "als = ALS(maxIter=5,regParam=0.01,userCol='user_id',itemCol='movie_id',ratingCol='rating')"
   ]
  },
  {
   "cell_type": "code",
   "execution_count": 63,
   "metadata": {},
   "outputs": [],
   "source": [
    "model = als.fit(training)"
   ]
  },
  {
   "cell_type": "code",
   "execution_count": 64,
   "metadata": {},
   "outputs": [],
   "source": [
    "test_results = model.transform(test)"
   ]
  },
  {
   "cell_type": "code",
   "execution_count": 65,
   "metadata": {},
   "outputs": [
    {
     "name": "stdout",
     "output_type": "stream",
     "text": [
      "+------+--------------------+-------+--------+-----------+\n",
      "|rating|            features|user_id|movie_id| prediction|\n",
      "+------+--------------------+-------+--------+-----------+\n",
      "|     5|(64,[0,1,2,23,24,...|    332|     148|  4.5238233|\n",
      "|     3|(64,[0,1,6,23,24,...|    271|     148|  2.3667293|\n",
      "|     5|(64,[0,2,23,24,41...|    372|     148|  4.6138606|\n",
      "|     3|(64,[0,2,23,24,41...|    618|     148|  2.7113886|\n",
      "|     3|(64,[0,1,3,23,24,...|    919|     148|  3.2820697|\n",
      "|     4|(64,[0,1,2,23,24,...|    923|     148|   3.838014|\n",
      "|     3|(64,[0,1,2,23,24,...|    347|     148|   3.588999|\n",
      "|     3|(64,[0,1,3,23,24,...|    423|     148|  3.0972147|\n",
      "|     4|(64,[0,1,2,23,24,...|    757|     148|  2.8335128|\n",
      "|     1|(64,[0,2,23,24,41...|     49|     148|  1.2670703|\n",
      "|     3|(64,[0,1,3,23,24,...|    637|     148|   4.027691|\n",
      "|     3|(64,[0,1,4,23,24,...|     51|     148|-0.23706055|\n",
      "|     5|(64,[0,5,23,24,41...|    438|     148|   4.217655|\n",
      "|     5|(64,[0,1,2,23,24,...|    532|     148|   4.469248|\n",
      "|     4|(64,[0,1,2,23,24,...|    706|     148|  2.6744375|\n",
      "|     1|(64,[0,1,2,23,24,...|    361|     148|  2.2813272|\n",
      "|     1|(64,[0,1,9,23,24,...|    293|     148|  1.9686463|\n",
      "|     2|(64,[0,1,10,23,24...|    181|     148|  1.9901006|\n",
      "|     3|(64,[0,1,2,23,24,...|    249|     148|  3.1632128|\n",
      "|     3|(64,[0,8,23,24,41...|    345|     148|  2.7131658|\n",
      "+------+--------------------+-------+--------+-----------+\n",
      "only showing top 20 rows\n",
      "\n"
     ]
    }
   ],
   "source": [
    "test_results.show()"
   ]
  },
  {
   "cell_type": "code",
   "execution_count": 82,
   "metadata": {},
   "outputs": [],
   "source": [
    "test_results = test_results.dropna(subset=['prediction'])"
   ]
  },
  {
   "cell_type": "code",
   "execution_count": 86,
   "metadata": {},
   "outputs": [],
   "source": [
    "mae = mae_eval.evaluate(test_results)"
   ]
  },
  {
   "cell_type": "code",
   "execution_count": 87,
   "metadata": {},
   "outputs": [
    {
     "name": "stdout",
     "output_type": "stream",
     "text": [
      "0.807534158717401\n"
     ]
    }
   ],
   "source": [
    "print(mae)"
   ]
  },
  {
   "cell_type": "code",
   "execution_count": 95,
   "metadata": {},
   "outputs": [],
   "source": [
    "rounded_test_results = test_results.withColumn('prediction', round(test_results.prediction).cast('double'))"
   ]
  },
  {
   "cell_type": "code",
   "execution_count": 96,
   "metadata": {},
   "outputs": [
    {
     "name": "stdout",
     "output_type": "stream",
     "text": [
      "+------+--------------------+-------+--------+----------+\n",
      "|rating|            features|user_id|movie_id|prediction|\n",
      "+------+--------------------+-------+--------+----------+\n",
      "|     5|(64,[0,1,2,23,24,...|    332|     148|       5.0|\n",
      "|     3|(64,[0,1,6,23,24,...|    271|     148|       2.0|\n",
      "|     5|(64,[0,2,23,24,41...|    372|     148|       5.0|\n",
      "|     3|(64,[0,2,23,24,41...|    618|     148|       3.0|\n",
      "|     3|(64,[0,1,3,23,24,...|    919|     148|       3.0|\n",
      "|     4|(64,[0,1,2,23,24,...|    923|     148|       4.0|\n",
      "|     3|(64,[0,1,2,23,24,...|    347|     148|       4.0|\n",
      "|     3|(64,[0,1,3,23,24,...|    423|     148|       3.0|\n",
      "|     4|(64,[0,1,2,23,24,...|    757|     148|       3.0|\n",
      "|     1|(64,[0,2,23,24,41...|     49|     148|       1.0|\n",
      "|     3|(64,[0,1,3,23,24,...|    637|     148|       4.0|\n",
      "|     3|(64,[0,1,4,23,24,...|     51|     148|       0.0|\n",
      "|     5|(64,[0,5,23,24,41...|    438|     148|       4.0|\n",
      "|     5|(64,[0,1,2,23,24,...|    532|     148|       4.0|\n",
      "|     4|(64,[0,1,2,23,24,...|    706|     148|       3.0|\n",
      "|     1|(64,[0,1,2,23,24,...|    361|     148|       2.0|\n",
      "|     1|(64,[0,1,9,23,24,...|    293|     148|       2.0|\n",
      "|     2|(64,[0,1,10,23,24...|    181|     148|       2.0|\n",
      "|     3|(64,[0,1,2,23,24,...|    249|     148|       3.0|\n",
      "|     3|(64,[0,8,23,24,41...|    345|     148|       3.0|\n",
      "+------+--------------------+-------+--------+----------+\n",
      "only showing top 20 rows\n",
      "\n"
     ]
    }
   ],
   "source": [
    "rounded_test_results.show()"
   ]
  },
  {
   "cell_type": "code",
   "execution_count": 97,
   "metadata": {},
   "outputs": [],
   "source": [
    "acc = accuracy_eval.evaluate(rounded_test_results)"
   ]
  },
  {
   "cell_type": "code",
   "execution_count": 98,
   "metadata": {},
   "outputs": [
    {
     "name": "stdout",
     "output_type": "stream",
     "text": [
      "0.39655704096939914\n"
     ]
    }
   ],
   "source": [
    "print(acc)"
   ]
  },
  {
   "cell_type": "code",
   "execution_count": null,
   "metadata": {},
   "outputs": [],
   "source": []
  }
 ],
 "metadata": {
  "kernelspec": {
   "display_name": "Python 3",
   "language": "python",
   "name": "python3"
  },
  "language_info": {
   "codemirror_mode": {
    "name": "ipython",
    "version": 3
   },
   "file_extension": ".py",
   "mimetype": "text/x-python",
   "name": "python",
   "nbconvert_exporter": "python",
   "pygments_lexer": "ipython3",
   "version": "3.6.5"
  }
 },
 "nbformat": 4,
 "nbformat_minor": 2
}
